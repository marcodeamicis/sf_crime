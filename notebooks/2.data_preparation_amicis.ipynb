{
 "cells": [
  {
   "cell_type": "markdown",
   "id": "f5406514",
   "metadata": {},
   "source": [
    "# Data preparation"
   ]
  },
  {
   "cell_type": "markdown",
   "id": "a3c2dccd",
   "metadata": {},
   "source": [
    "## Library import"
   ]
  },
  {
   "cell_type": "code",
   "execution_count": 2,
   "id": "b9cabacd",
   "metadata": {
    "ExecuteTime": {
     "end_time": "2022-10-25T19:08:12.047430Z",
     "start_time": "2022-10-25T19:08:09.487037Z"
    }
   },
   "outputs": [],
   "source": [
    "import pandas as pd\n",
    "import numpy as np\n",
    "import matplotlib.pyplot as plt\n",
    "import seaborn as sns\n",
    "from sklearn.pipeline import Pipeline"
   ]
  },
  {
   "cell_type": "markdown",
   "id": "076961bc",
   "metadata": {},
   "source": [
    "## Parameter definition"
   ]
  },
  {
   "cell_type": "code",
   "execution_count": 1,
   "id": "101a931c",
   "metadata": {
    "ExecuteTime": {
     "end_time": "2022-10-25T19:08:03.777177Z",
     "start_time": "2022-10-25T19:08:03.736795Z"
    }
   },
   "outputs": [],
   "source": [
    "RAW_DATA = '../data/raw/' \n",
    "EXTERNAL_DATA = '../data/external/' \n",
    "INTERIM_DATA = '../data/interim/' \n",
    "PROCESSED_DATA = '../data/processed/'\n",
    "REFERENCES = '../references/'\n",
    "RANDOM_STATE = 14"
   ]
  },
  {
   "cell_type": "markdown",
   "id": "f9a4b533",
   "metadata": {},
   "source": [
    "## Read data"
   ]
  },
  {
   "cell_type": "code",
   "execution_count": 3,
   "id": "6f50706a",
   "metadata": {
    "ExecuteTime": {
     "end_time": "2022-10-25T19:10:28.766589Z",
     "start_time": "2022-10-25T19:10:28.078020Z"
    }
   },
   "outputs": [
    {
     "data": {
      "text/html": [
       "<div>\n",
       "<style scoped>\n",
       "    .dataframe tbody tr th:only-of-type {\n",
       "        vertical-align: middle;\n",
       "    }\n",
       "\n",
       "    .dataframe tbody tr th {\n",
       "        vertical-align: top;\n",
       "    }\n",
       "\n",
       "    .dataframe thead th {\n",
       "        text-align: right;\n",
       "    }\n",
       "</style>\n",
       "<table border=\"1\" class=\"dataframe\">\n",
       "  <thead>\n",
       "    <tr style=\"text-align: right;\">\n",
       "      <th></th>\n",
       "      <th>Category</th>\n",
       "      <th>Descript</th>\n",
       "      <th>DayOfWeek</th>\n",
       "      <th>PdDistrict</th>\n",
       "      <th>Resolution</th>\n",
       "      <th>Address</th>\n",
       "      <th>X</th>\n",
       "      <th>Y</th>\n",
       "      <th>month</th>\n",
       "      <th>day</th>\n",
       "      <th>year</th>\n",
       "      <th>hour</th>\n",
       "    </tr>\n",
       "  </thead>\n",
       "  <tbody>\n",
       "    <tr>\n",
       "      <th>0</th>\n",
       "      <td>WARRANTS</td>\n",
       "      <td>WARRANT ARREST</td>\n",
       "      <td>Wednesday</td>\n",
       "      <td>NORTHERN</td>\n",
       "      <td>ARREST, BOOKED</td>\n",
       "      <td>OAK ST / LAGUNA ST</td>\n",
       "      <td>-122.425892</td>\n",
       "      <td>37.774599</td>\n",
       "      <td>5</td>\n",
       "      <td>13</td>\n",
       "      <td>2015</td>\n",
       "      <td>23</td>\n",
       "    </tr>\n",
       "    <tr>\n",
       "      <th>1</th>\n",
       "      <td>OTHER OFFENSES</td>\n",
       "      <td>TRAFFIC VIOLATION ARREST</td>\n",
       "      <td>Wednesday</td>\n",
       "      <td>NORTHERN</td>\n",
       "      <td>ARREST, BOOKED</td>\n",
       "      <td>OAK ST / LAGUNA ST</td>\n",
       "      <td>-122.425892</td>\n",
       "      <td>37.774599</td>\n",
       "      <td>5</td>\n",
       "      <td>13</td>\n",
       "      <td>2015</td>\n",
       "      <td>23</td>\n",
       "    </tr>\n",
       "    <tr>\n",
       "      <th>2</th>\n",
       "      <td>OTHER OFFENSES</td>\n",
       "      <td>TRAFFIC VIOLATION ARREST</td>\n",
       "      <td>Wednesday</td>\n",
       "      <td>NORTHERN</td>\n",
       "      <td>ARREST, BOOKED</td>\n",
       "      <td>VANNESS AV / GREENWICH ST</td>\n",
       "      <td>-122.424363</td>\n",
       "      <td>37.800414</td>\n",
       "      <td>5</td>\n",
       "      <td>13</td>\n",
       "      <td>2015</td>\n",
       "      <td>23</td>\n",
       "    </tr>\n",
       "    <tr>\n",
       "      <th>3</th>\n",
       "      <td>LARCENY/THEFT</td>\n",
       "      <td>GRAND THEFT FROM LOCKED AUTO</td>\n",
       "      <td>Wednesday</td>\n",
       "      <td>NORTHERN</td>\n",
       "      <td>NONE</td>\n",
       "      <td>1500 Block of LOMBARD ST</td>\n",
       "      <td>-122.426995</td>\n",
       "      <td>37.800873</td>\n",
       "      <td>5</td>\n",
       "      <td>13</td>\n",
       "      <td>2015</td>\n",
       "      <td>23</td>\n",
       "    </tr>\n",
       "    <tr>\n",
       "      <th>4</th>\n",
       "      <td>LARCENY/THEFT</td>\n",
       "      <td>GRAND THEFT FROM LOCKED AUTO</td>\n",
       "      <td>Wednesday</td>\n",
       "      <td>PARK</td>\n",
       "      <td>NONE</td>\n",
       "      <td>100 Block of BRODERICK ST</td>\n",
       "      <td>-122.438738</td>\n",
       "      <td>37.771541</td>\n",
       "      <td>5</td>\n",
       "      <td>13</td>\n",
       "      <td>2015</td>\n",
       "      <td>23</td>\n",
       "    </tr>\n",
       "  </tbody>\n",
       "</table>\n",
       "</div>"
      ],
      "text/plain": [
       "         Category                      Descript  DayOfWeek PdDistrict  \\\n",
       "0        WARRANTS                WARRANT ARREST  Wednesday   NORTHERN   \n",
       "1  OTHER OFFENSES      TRAFFIC VIOLATION ARREST  Wednesday   NORTHERN   \n",
       "2  OTHER OFFENSES      TRAFFIC VIOLATION ARREST  Wednesday   NORTHERN   \n",
       "3   LARCENY/THEFT  GRAND THEFT FROM LOCKED AUTO  Wednesday   NORTHERN   \n",
       "4   LARCENY/THEFT  GRAND THEFT FROM LOCKED AUTO  Wednesday       PARK   \n",
       "\n",
       "       Resolution                    Address           X          Y  month  \\\n",
       "0  ARREST, BOOKED         OAK ST / LAGUNA ST -122.425892  37.774599      5   \n",
       "1  ARREST, BOOKED         OAK ST / LAGUNA ST -122.425892  37.774599      5   \n",
       "2  ARREST, BOOKED  VANNESS AV / GREENWICH ST -122.424363  37.800414      5   \n",
       "3            NONE   1500 Block of LOMBARD ST -122.426995  37.800873      5   \n",
       "4            NONE  100 Block of BRODERICK ST -122.438738  37.771541      5   \n",
       "\n",
       "   day  year  hour  \n",
       "0   13  2015    23  \n",
       "1   13  2015    23  \n",
       "2   13  2015    23  \n",
       "3   13  2015    23  \n",
       "4   13  2015    23  "
      ]
     },
     "execution_count": 3,
     "metadata": {},
     "output_type": "execute_result"
    }
   ],
   "source": [
    "df = pd.read_parquet(INTERIM_DATA + 'train.pqt')\n",
    "df.head()"
   ]
  },
  {
   "cell_type": "markdown",
   "id": "ccecf44d",
   "metadata": {},
   "source": [
    "## Second attempt"
   ]
  },
  {
   "cell_type": "code",
   "execution_count": null,
   "id": "7cb165c4",
   "metadata": {},
   "outputs": [],
   "source": []
  },
  {
   "cell_type": "code",
   "execution_count": null,
   "id": "13617527",
   "metadata": {},
   "outputs": [],
   "source": [
    "df['Weekend'] = np.where((df['DayOfWeek']=='Sunday')|(df['DayOfWeek']=='Saturday'), 1, 0)\n",
    "df.head(100)"
   ]
  },
  {
   "cell_type": "code",
   "execution_count": null,
   "id": "7372b18c",
   "metadata": {},
   "outputs": [],
   "source": [
    "#Creating morning, afternoon, night and dawn\n",
    "condlist = [df['hour']<6, df['hour']<12, df['hour']<18]\n",
    "choicelist = ['dawn', 'morning', 'afternoon']\n",
    "df['day_period'] = np.select(condlist, choicelist, 'night')\n",
    "df['day_period'].value_counts()"
   ]
  },
  {
   "cell_type": "code",
   "execution_count": null,
   "id": "e5315d13",
   "metadata": {},
   "outputs": [],
   "source": [
    "df_outliers = df.copy()\n",
    "outliers = (df['X'] > -122.35)|(df['Y'] > 37.82)\n",
    "df_outliers.loc[outliers, ['X', 'Y']] = np.nan\n",
    "#df.info()\n",
    "outliers.value_counts()"
   ]
  },
  {
   "cell_type": "code",
   "execution_count": null,
   "id": "7052f13b",
   "metadata": {},
   "outputs": [],
   "source": [
    "df_outliers.query('X>-122')"
   ]
  }
 ],
 "metadata": {
  "hide_input": false,
  "kernelspec": {
   "display_name": "Python 3 (ipykernel)",
   "language": "python",
   "name": "python3"
  },
  "language_info": {
   "codemirror_mode": {
    "name": "ipython",
    "version": 3
   },
   "file_extension": ".py",
   "mimetype": "text/x-python",
   "name": "python",
   "nbconvert_exporter": "python",
   "pygments_lexer": "ipython3",
   "version": "3.9.13"
  },
  "toc": {
   "base_numbering": 1,
   "nav_menu": {},
   "number_sections": true,
   "sideBar": true,
   "skip_h1_title": false,
   "title_cell": "Table of Contents",
   "title_sidebar": "Contents",
   "toc_cell": false,
   "toc_position": {},
   "toc_section_display": true,
   "toc_window_display": false
  }
 },
 "nbformat": 4,
 "nbformat_minor": 5
}
