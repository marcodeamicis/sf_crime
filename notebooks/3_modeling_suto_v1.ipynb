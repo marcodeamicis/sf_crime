{
 "cells": [
  {
   "cell_type": "markdown",
   "id": "19619151",
   "metadata": {},
   "source": [
    "# Business and data understanding\n",
    "\n",
    "## Purpose\n",
    "This notebook contains the data preparation phase for the .\n",
    "\n",
    "## Tasks\n",
    "- [ ] Create a baseline model.\n",
    "- [ ] Submit the test result."
   ]
  },
  {
   "cell_type": "markdown",
   "id": "d3ed9e54",
   "metadata": {},
   "source": [
    "# Setup\n",
    "\n",
    "## Library import"
   ]
  },
  {
   "cell_type": "code",
   "execution_count": 35,
   "id": "dc9e6010",
   "metadata": {
    "ExecuteTime": {
     "end_time": "2022-10-13T01:34:09.228063Z",
     "start_time": "2022-10-13T01:34:09.102097Z"
    }
   },
   "outputs": [
    {
     "name": "stdout",
     "output_type": "stream",
     "text": [
      "The autoreload extension is already loaded. To reload it, use:\n",
      "  %reload_ext autoreload\n"
     ]
    },
    {
     "data": {
      "text/html": [
       "        <script type=\"text/javascript\">\n",
       "        window.PlotlyConfig = {MathJaxConfig: 'local'};\n",
       "        if (window.MathJax && window.MathJax.Hub && window.MathJax.Hub.Config) {window.MathJax.Hub.Config({SVG: {font: \"STIX-Web\"}});}\n",
       "        if (typeof require !== 'undefined') {\n",
       "        require.undef(\"plotly\");\n",
       "        requirejs.config({\n",
       "            paths: {\n",
       "                'plotly': ['https://cdn.plot.ly/plotly-2.14.0.min']\n",
       "            }\n",
       "        });\n",
       "        require(['plotly'], function(Plotly) {\n",
       "            window._Plotly = Plotly;\n",
       "        });\n",
       "        }\n",
       "        </script>\n",
       "        "
      ]
     },
     "metadata": {},
     "output_type": "display_data"
    }
   ],
   "source": [
    "from datetime import datetime \n",
    "import os\n",
    "from pathlib import Path\n",
    "\n",
    "from feature_engine.encoding import CountFrequencyEncoder, RareLabelEncoder, OneHotEncoder\n",
    "import folium\n",
    "import humps\n",
    "import matplotlib.pyplot as plt\n",
    "import numpy as np\n",
    "import pandas as pd\n",
    "from sklearn.metrics import classification_report\n",
    "from sklearn.model_selection import train_test_split\n",
    "from sklearn.naive_bayes import MultinomialNB\n",
    "from sklearn.pipeline import Pipeline\n",
    "import seaborn as sns\n",
    "import plotly\n",
    "import plotly.express as px\n",
    "import plotly.graph_objs as go\n",
    "import plotly.offline as ply\n",
    "\n",
    "# Autoreload extension\n",
    "if 'autoreload' not in get_ipython().extension_manager.loaded:\n",
    "    %load_ext autoreload\n",
    "    \n",
    "%autoreload 2\n",
    "\n",
    "# Options for pandas and plotly\n",
    "pd.options.display.max_columns = None\n",
    "pd.options.display.max_rows = 100\n",
    "pd.options.display.max_colwidth = 200\n",
    "plotly.offline.init_notebook_mode(connected=True)"
   ]
  },
  {
   "cell_type": "markdown",
   "id": "5e29a9ac",
   "metadata": {},
   "source": [
    "## Local library import"
   ]
  },
  {
   "cell_type": "code",
   "execution_count": 10,
   "id": "99479f09",
   "metadata": {
    "ExecuteTime": {
     "end_time": "2022-10-13T01:16:58.564445Z",
     "start_time": "2022-10-13T01:16:58.441430Z"
    }
   },
   "outputs": [],
   "source": [
    "if Path.cwd().name == 'notebooks':\n",
    "    os.chdir('../')\n",
    "\n",
    "from src.utils.data_describe import serie_nulos, cardinalidade\n",
    "from src.data.data_preprocessing import (\n",
    "    TransformCordinates, address_split, create_date_based_columns, snake_case_columns, create_simplified_address_column\n",
    ")\n",
    "\n",
    "if Path.cwd().name == 'sf_crime':\n",
    "    os.chdir('./notebooks/')"
   ]
  },
  {
   "cell_type": "markdown",
   "id": "bff36a68",
   "metadata": {},
   "source": [
    "## Parameter definition\n",
    "We set all relevant parameters for our notebook. By convention, parameters are uppercase, while all the \n",
    "other variables follow Python's guidelines."
   ]
  },
  {
   "cell_type": "code",
   "execution_count": 11,
   "id": "76cda470",
   "metadata": {
    "ExecuteTime": {
     "end_time": "2022-10-13T01:17:00.057553Z",
     "start_time": "2022-10-13T01:16:59.929556Z"
    }
   },
   "outputs": [],
   "source": [
    "RAW_DATA = '../data/raw/' \n",
    "EXTERNAL_DATA = '../data/external/' \n",
    "INTERIM_DATA = '../data/interim/' \n",
    "PROCESSED_DATA = '../data/processed/'\n",
    "REFERENCES = '../references/'\n",
    "RANDOM_STATE = 42"
   ]
  },
  {
   "cell_type": "markdown",
   "id": "3f62c0d0",
   "metadata": {},
   "source": [
    "## Data import\n",
    "We retrieve all the required data for the analysis."
   ]
  },
  {
   "cell_type": "code",
   "execution_count": 15,
   "id": "51e70854",
   "metadata": {
    "ExecuteTime": {
     "end_time": "2022-10-13T01:28:50.802502Z",
     "start_time": "2022-10-13T01:28:50.526333Z"
    }
   },
   "outputs": [
    {
     "name": "stdout",
     "output_type": "stream",
     "text": [
      "Parquet files loaded.\n",
      "\n",
      "X_train: (790244, 10)\n",
      "X_test: (87805, 10)\n",
      "\n",
      "y_train_ohe: (790244, 39)\n",
      "y_test_ohe: (87805, 39)\n",
      "\n",
      "y_train_ordinal: (790244, 1)\n",
      "y_test_ordinal: (87805, 1)\n",
      "\n"
     ]
    },
    {
     "data": {
      "text/html": [
       "<div>\n",
       "<style scoped>\n",
       "    .dataframe tbody tr th:only-of-type {\n",
       "        vertical-align: middle;\n",
       "    }\n",
       "\n",
       "    .dataframe tbody tr th {\n",
       "        vertical-align: top;\n",
       "    }\n",
       "\n",
       "    .dataframe thead th {\n",
       "        text-align: right;\n",
       "    }\n",
       "</style>\n",
       "<table border=\"1\" class=\"dataframe\">\n",
       "  <thead>\n",
       "    <tr style=\"text-align: right;\">\n",
       "      <th></th>\n",
       "      <th>dates_year</th>\n",
       "      <th>dates_month</th>\n",
       "      <th>dates_hour</th>\n",
       "      <th>dates_day</th>\n",
       "      <th>is_daytime</th>\n",
       "      <th>day_of_week</th>\n",
       "      <th>pd_district</th>\n",
       "      <th>x</th>\n",
       "      <th>y</th>\n",
       "      <th>simplified_address</th>\n",
       "    </tr>\n",
       "  </thead>\n",
       "  <tbody>\n",
       "    <tr>\n",
       "      <th>131932</th>\n",
       "      <td>2013</td>\n",
       "      <td>8</td>\n",
       "      <td>22</td>\n",
       "      <td>10</td>\n",
       "      <td>0</td>\n",
       "      <td>0.144286</td>\n",
       "      <td>0.136463</td>\n",
       "      <td>-122.426956</td>\n",
       "      <td>37.769247</td>\n",
       "      <td>0.039924</td>\n",
       "    </tr>\n",
       "    <tr>\n",
       "      <th>671155</th>\n",
       "      <td>2005</td>\n",
       "      <td>11</td>\n",
       "      <td>5</td>\n",
       "      <td>4</td>\n",
       "      <td>0</td>\n",
       "      <td>0.152310</td>\n",
       "      <td>0.102038</td>\n",
       "      <td>-122.386942</td>\n",
       "      <td>37.754168</td>\n",
       "      <td>0.776874</td>\n",
       "    </tr>\n",
       "    <tr>\n",
       "      <th>121958</th>\n",
       "      <td>2013</td>\n",
       "      <td>9</td>\n",
       "      <td>12</td>\n",
       "      <td>30</td>\n",
       "      <td>1</td>\n",
       "      <td>0.138624</td>\n",
       "      <td>0.179080</td>\n",
       "      <td>-122.408068</td>\n",
       "      <td>37.783992</td>\n",
       "      <td>0.039924</td>\n",
       "    </tr>\n",
       "  </tbody>\n",
       "</table>\n",
       "</div>"
      ],
      "text/plain": [
       "        dates_year  dates_month  dates_hour  dates_day  is_daytime  \\\n",
       "131932        2013            8          22         10           0   \n",
       "671155        2005           11           5          4           0   \n",
       "121958        2013            9          12         30           1   \n",
       "\n",
       "        day_of_week  pd_district           x          y  simplified_address  \n",
       "131932     0.144286     0.136463 -122.426956  37.769247            0.039924  \n",
       "671155     0.152310     0.102038 -122.386942  37.754168            0.776874  \n",
       "121958     0.138624     0.179080 -122.408068  37.783992            0.039924  "
      ]
     },
     "execution_count": 15,
     "metadata": {},
     "output_type": "execute_result"
    }
   ],
   "source": [
    "try:\n",
    "    X_train = pd.read_parquet(INTERIM_DATA + 'X_train_transformed.pqt')\n",
    "    X_test = pd.read_parquet(INTERIM_DATA + 'X_test_transformed.pqt')\n",
    "    y_train_ohe = pd.read_parquet(INTERIM_DATA + 'y_train_ohe.pqt')\n",
    "    y_test_ohe = pd.read_parquet(INTERIM_DATA + 'y_test_ohe.pqt')\n",
    "    y_train_ordinal = pd.read_parquet(INTERIM_DATA + 'y_train_ordinal.pqt')\n",
    "    y_test_ordinal = pd.read_parquet(INTERIM_DATA + 'y_test_ordinal.pqt')\n",
    "    print('Parquet files loaded.')\n",
    "\n",
    "except FileNotFoundError as e:\n",
    "    print('Files were not found.')\n",
    "\n",
    "print(f\"\"\"\n",
    "X_train: {X_train.shape}\n",
    "X_test: {X_test.shape}\n",
    "\n",
    "y_train_ohe: {y_train.shape}\n",
    "y_test_ohe: {y_test.shape}\n",
    "\n",
    "y_train_ordinal: {y_train_ordinal.shape}\n",
    "y_test_ordinal: {y_test_ordinal.shape}\n",
    "\"\"\")\n",
    "\n",
    "X_train.tail(3)"
   ]
  },
  {
   "cell_type": "markdown",
   "id": "3920889e",
   "metadata": {},
   "source": [
    "# 1st experiment: baseline\n",
    "\n",
    "- Naive bayes. One model for each crime category."
   ]
  },
  {
   "cell_type": "code",
   "execution_count": 20,
   "id": "d8b100cc",
   "metadata": {
    "ExecuteTime": {
     "end_time": "2022-10-13T01:30:53.911130Z",
     "start_time": "2022-10-13T01:30:53.783786Z"
    }
   },
   "outputs": [],
   "source": [
    "X_train['x'] = X_train['x'].abs()"
   ]
  },
  {
   "cell_type": "code",
   "execution_count": 34,
   "id": "7aa86ab5",
   "metadata": {
    "ExecuteTime": {
     "end_time": "2022-10-13T01:33:18.186639Z",
     "start_time": "2022-10-13T01:33:17.543986Z"
    }
   },
   "outputs": [],
   "source": [
    "model = MultinomialNB()\n",
    "model.fit(X_train, y_train_ordinal.values[:, 0])\n",
    "\n",
    "y_pred = model.predict(X_test)"
   ]
  },
  {
   "cell_type": "code",
   "execution_count": 40,
   "id": "81934d2e",
   "metadata": {
    "ExecuteTime": {
     "end_time": "2022-10-13T01:36:22.032045Z",
     "start_time": "2022-10-13T01:36:21.814484Z"
    }
   },
   "outputs": [
    {
     "name": "stdout",
     "output_type": "stream",
     "text": [
      "              precision    recall  f1-score   support\n",
      "\n",
      "           0       0.00      0.00      0.00      5437\n",
      "           1       0.11      0.03      0.05      7632\n",
      "           2       0.00      0.00      0.00      3762\n",
      "           3       0.00      0.00      0.00      1621\n",
      "           4       0.00      0.00      0.00      4216\n",
      "           5       0.15      0.20      0.17     12464\n",
      "           6       0.00      0.00      0.00       470\n",
      "           7       0.21      0.84      0.34     17455\n",
      "           8       0.00      0.00      0.00       779\n",
      "           9       0.00      0.00      0.00      3197\n",
      "          10       0.00      0.00      0.00      5296\n",
      "          11       0.00      0.00      0.00      9311\n",
      "          12       0.00      0.00      0.00      1043\n",
      "          13       0.00      0.00      0.00      2562\n",
      "          14       0.00      0.00      0.00      4540\n",
      "          15       0.00      0.00      0.00      2281\n",
      "          16       0.00      0.00      0.00      1031\n",
      "          17       0.00      0.00      0.00       761\n",
      "          18       0.00      0.00      0.00       875\n",
      "          19       0.00      0.00      0.00        29\n",
      "          20       0.00      0.00      0.00       421\n",
      "          21       0.00      0.00      0.00       232\n",
      "          22       0.00      0.00      0.00       311\n",
      "          23       0.00      0.00      0.00       478\n",
      "          24       0.00      0.00      0.00       168\n",
      "          25       0.00      0.00      0.00        44\n",
      "          26       0.00      0.00      0.00       138\n",
      "          27       0.00      0.00      0.00        91\n",
      "          28       0.00      0.00      0.00       192\n",
      "          29       0.00      0.00      0.00       409\n",
      "          30       0.00      0.00      0.00       204\n",
      "          31       0.00      0.00      0.00        41\n",
      "          32       0.00      0.00      0.00        28\n",
      "          33       0.00      0.00      0.00        45\n",
      "          34       0.00      0.00      0.00       212\n",
      "          35       0.00      0.00      0.00        14\n",
      "          36       0.00      0.00      0.00         1\n",
      "          37       0.00      0.00      0.00        14\n",
      "\n",
      "    accuracy                           0.20     87805\n",
      "   macro avg       0.01      0.03      0.01     87805\n",
      "weighted avg       0.07      0.20      0.10     87805\n",
      "\n"
     ]
    }
   ],
   "source": [
    "print(classification_report(y_test_ordinal, y_pred, zero_division=0))"
   ]
  }
 ],
 "metadata": {
  "hide_input": false,
  "kernelspec": {
   "display_name": "Python 3 (ipykernel)",
   "language": "python",
   "name": "python3"
  },
  "language_info": {
   "codemirror_mode": {
    "name": "ipython",
    "version": 3
   },
   "file_extension": ".py",
   "mimetype": "text/x-python",
   "name": "python",
   "nbconvert_exporter": "python",
   "pygments_lexer": "ipython3",
   "version": "3.9.13"
  },
  "toc": {
   "base_numbering": 1,
   "nav_menu": {},
   "number_sections": true,
   "sideBar": true,
   "skip_h1_title": false,
   "title_cell": "Table of Contents",
   "title_sidebar": "Contents",
   "toc_cell": false,
   "toc_position": {
    "height": "calc(100% - 180px)",
    "left": "10px",
    "top": "150px",
    "width": "384px"
   },
   "toc_section_display": true,
   "toc_window_display": true
  }
 },
 "nbformat": 4,
 "nbformat_minor": 5
}
