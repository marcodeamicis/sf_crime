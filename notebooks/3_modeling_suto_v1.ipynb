{
 "cells": [
  {
   "cell_type": "markdown",
   "id": "19619151",
   "metadata": {},
   "source": [
    "# Business and data understanding\n",
    "\n",
    "## Purpose\n",
    "This notebook contains the data preparation phase for the .\n",
    "\n",
    "## Tasks\n",
    "- [ ] Create a baseline model.\n",
    "- [ ] Submit the test result."
   ]
  },
  {
   "cell_type": "markdown",
   "id": "d3ed9e54",
   "metadata": {},
   "source": [
    "# Setup\n",
    "\n",
    "## Library import"
   ]
  },
  {
   "cell_type": "code",
   "execution_count": 1,
   "id": "dc9e6010",
   "metadata": {
    "ExecuteTime": {
     "end_time": "2022-10-26T00:58:40.205434Z",
     "start_time": "2022-10-26T00:58:38.068806Z"
    }
   },
   "outputs": [
    {
     "data": {
      "text/html": [
       "        <script type=\"text/javascript\">\n",
       "        window.PlotlyConfig = {MathJaxConfig: 'local'};\n",
       "        if (window.MathJax && window.MathJax.Hub && window.MathJax.Hub.Config) {window.MathJax.Hub.Config({SVG: {font: \"STIX-Web\"}});}\n",
       "        if (typeof require !== 'undefined') {\n",
       "        require.undef(\"plotly\");\n",
       "        requirejs.config({\n",
       "            paths: {\n",
       "                'plotly': ['https://cdn.plot.ly/plotly-2.14.0.min']\n",
       "            }\n",
       "        });\n",
       "        require(['plotly'], function(Plotly) {\n",
       "            window._Plotly = Plotly;\n",
       "        });\n",
       "        }\n",
       "        </script>\n",
       "        "
      ]
     },
     "metadata": {},
     "output_type": "display_data"
    }
   ],
   "source": [
    "from datetime import datetime \n",
    "import json\n",
    "import os\n",
    "from pathlib import Path\n",
    "\n",
    "from feature_engine.encoding import CountFrequencyEncoder, RareLabelEncoder, OneHotEncoder\n",
    "import folium\n",
    "import humps\n",
    "import matplotlib.pyplot as plt\n",
    "import numpy as np\n",
    "import pandas as pd\n",
    "from sklearn.ensemble import RandomForestClassifier\n",
    "from sklearn.linear_model import LogisticRegressionCV\n",
    "from sklearn.metrics import classification_report, log_loss\n",
    "from sklearn.model_selection import train_test_split\n",
    "from sklearn.naive_bayes import MultinomialNB, ComplementNB, CategoricalNB, GaussianNB\n",
    "from sklearn.pipeline import Pipeline\n",
    "from sklearn.svm import SVC, NuSVC\n",
    "import seaborn as sns\n",
    "import plotly\n",
    "import plotly.express as px\n",
    "import plotly.graph_objs as go\n",
    "import plotly.offline as ply\n",
    "\n",
    "# Autoreload extension\n",
    "if 'autoreload' not in get_ipython().extension_manager.loaded:\n",
    "    %load_ext autoreload\n",
    "    \n",
    "%autoreload 2\n",
    "\n",
    "# Options for pandas and plotly\n",
    "pd.options.display.max_columns = None\n",
    "pd.options.display.max_rows = 100\n",
    "pd.options.display.max_colwidth = 200\n",
    "plotly.offline.init_notebook_mode(connected=True)"
   ]
  },
  {
   "cell_type": "markdown",
   "id": "5e29a9ac",
   "metadata": {},
   "source": [
    "## Local library import"
   ]
  },
  {
   "cell_type": "code",
   "execution_count": 2,
   "id": "99479f09",
   "metadata": {
    "ExecuteTime": {
     "end_time": "2022-10-26T00:58:40.361431Z",
     "start_time": "2022-10-26T00:58:40.207434Z"
    }
   },
   "outputs": [],
   "source": [
    "if Path.cwd().name == 'notebooks':\n",
    "    os.chdir('../')\n",
    "\n",
    "from src.utils.data_describe import serie_nulos, cardinalidade\n",
    "from src.data.data_preprocessing import (\n",
    "    TransformCordinates, address_split, create_date_based_columns, snake_case_columns,\n",
    "    create_simplified_address_column, one_hot_encoding_target\n",
    ")\n",
    "\n",
    "if Path.cwd().name == 'sf_crime':\n",
    "    os.chdir('./notebooks/')"
   ]
  },
  {
   "cell_type": "markdown",
   "id": "bff36a68",
   "metadata": {},
   "source": [
    "## Parameter definition\n",
    "We set all relevant parameters for our notebook. By convention, parameters are uppercase, while all the \n",
    "other variables follow Python's guidelines."
   ]
  },
  {
   "cell_type": "code",
   "execution_count": 3,
   "id": "76cda470",
   "metadata": {
    "ExecuteTime": {
     "end_time": "2022-10-26T00:58:40.487431Z",
     "start_time": "2022-10-26T00:58:40.365433Z"
    }
   },
   "outputs": [],
   "source": [
    "RAW_DATA = '../data/raw/' \n",
    "EXTERNAL_DATA = '../data/external/' \n",
    "INTERIM_DATA = '../data/interim/' \n",
    "PROCESSED_DATA = '../data/processed/'\n",
    "REFERENCES = '../references/'\n",
    "RANDOM_STATE = 42\n",
    "\n",
    "lst_columns = [\n",
    "        'ARSON', 'ASSAULT', 'BAD CHECKS', 'BRIBERY', 'BURGLARY', 'DISORDERLY CONDUCT', 'DRIVING UNDER THE INFLUENCE',\n",
    "        'DRUG/NARCOTIC', 'DRUNKENNESS', 'EMBEZZLEMENT', 'EXTORTION', 'FAMILY OFFENSES', 'FORGERY/COUNTERFEITING',\n",
    "        'FRAUD', 'GAMBLING', 'KIDNAPPING', 'LARCENY/THEFT', 'LIQUOR LAWS', 'LOITERING', 'MISSING PERSON',\n",
    "        'NON-CRIMINAL', 'OTHER OFFENSES', 'PORNOGRAPHY/OBSCENE MAT', 'PROSTITUTION', 'RECOVERED VEHICLE', 'ROBBERY',\n",
    "        'RUNAWAY', 'SECONDARY CODES', 'SEX OFFENSES FORCIBLE', 'SEX OFFENSES NON FORCIBLE', 'STOLEN PROPERTY',\n",
    "        'SUICIDE', 'SUSPICIOUS OCC', 'TREA', 'TRESPASS', 'VANDALISM', 'VEHICLE THEFT', 'WARRANTS', 'WEAPON LAWS'\n",
    "    ]"
   ]
  },
  {
   "cell_type": "markdown",
   "id": "3f62c0d0",
   "metadata": {},
   "source": [
    "## Data import\n",
    "We retrieve all the required data for the analysis."
   ]
  },
  {
   "cell_type": "code",
   "execution_count": 4,
   "id": "51e70854",
   "metadata": {
    "ExecuteTime": {
     "end_time": "2022-10-26T00:58:43.093398Z",
     "start_time": "2022-10-26T00:58:42.705270Z"
    }
   },
   "outputs": [
    {
     "name": "stdout",
     "output_type": "stream",
     "text": [
      "Parquet files loaded.\n",
      "\n",
      "X_train: (790244, 10)\n",
      "X_validation: (87805, 10)\n",
      "X_kaggle_test: (884262, 10)\n",
      "\n",
      "y_train_ohe: (790244, 39)\n",
      "y_validation_ohe: (87805, 39)\n",
      "\n",
      "y_train_ordinal: (790244, 1)\n",
      "y_validation_ordinal: (87805, 1)\n",
      "\n"
     ]
    },
    {
     "data": {
      "text/html": [
       "<div>\n",
       "<style scoped>\n",
       "    .dataframe tbody tr th:only-of-type {\n",
       "        vertical-align: middle;\n",
       "    }\n",
       "\n",
       "    .dataframe tbody tr th {\n",
       "        vertical-align: top;\n",
       "    }\n",
       "\n",
       "    .dataframe thead th {\n",
       "        text-align: right;\n",
       "    }\n",
       "</style>\n",
       "<table border=\"1\" class=\"dataframe\">\n",
       "  <thead>\n",
       "    <tr style=\"text-align: right;\">\n",
       "      <th></th>\n",
       "      <th>dates_year</th>\n",
       "      <th>dates_month</th>\n",
       "      <th>dates_hour</th>\n",
       "      <th>dates_day</th>\n",
       "      <th>is_daytime</th>\n",
       "      <th>day_of_week</th>\n",
       "      <th>pd_district</th>\n",
       "      <th>x</th>\n",
       "      <th>y</th>\n",
       "      <th>simplified_address</th>\n",
       "    </tr>\n",
       "  </thead>\n",
       "  <tbody>\n",
       "    <tr>\n",
       "      <th>131932</th>\n",
       "      <td>2013</td>\n",
       "      <td>8</td>\n",
       "      <td>22</td>\n",
       "      <td>10</td>\n",
       "      <td>0</td>\n",
       "      <td>0.144286</td>\n",
       "      <td>0.136463</td>\n",
       "      <td>-122.426956</td>\n",
       "      <td>37.769247</td>\n",
       "      <td>0.039924</td>\n",
       "    </tr>\n",
       "    <tr>\n",
       "      <th>671155</th>\n",
       "      <td>2005</td>\n",
       "      <td>11</td>\n",
       "      <td>5</td>\n",
       "      <td>4</td>\n",
       "      <td>0</td>\n",
       "      <td>0.152310</td>\n",
       "      <td>0.102038</td>\n",
       "      <td>-122.386942</td>\n",
       "      <td>37.754168</td>\n",
       "      <td>0.776874</td>\n",
       "    </tr>\n",
       "    <tr>\n",
       "      <th>121958</th>\n",
       "      <td>2013</td>\n",
       "      <td>9</td>\n",
       "      <td>12</td>\n",
       "      <td>30</td>\n",
       "      <td>1</td>\n",
       "      <td>0.138624</td>\n",
       "      <td>0.179080</td>\n",
       "      <td>-122.408068</td>\n",
       "      <td>37.783992</td>\n",
       "      <td>0.039924</td>\n",
       "    </tr>\n",
       "  </tbody>\n",
       "</table>\n",
       "</div>"
      ],
      "text/plain": [
       "        dates_year  dates_month  dates_hour  dates_day  is_daytime  \\\n",
       "131932        2013            8          22         10           0   \n",
       "671155        2005           11           5          4           0   \n",
       "121958        2013            9          12         30           1   \n",
       "\n",
       "        day_of_week  pd_district           x          y  simplified_address  \n",
       "131932     0.144286     0.136463 -122.426956  37.769247            0.039924  \n",
       "671155     0.152310     0.102038 -122.386942  37.754168            0.776874  \n",
       "121958     0.138624     0.179080 -122.408068  37.783992            0.039924  "
      ]
     },
     "execution_count": 4,
     "metadata": {},
     "output_type": "execute_result"
    }
   ],
   "source": [
    "try:\n",
    "    X_train = pd.read_parquet(INTERIM_DATA + 'X_train_transformed.pqt')\n",
    "    X_validation = pd.read_parquet(INTERIM_DATA + 'X_validation_transformed.pqt')\n",
    "    X_kaggle_test = pd.read_parquet(INTERIM_DATA + 'X_kaggle_test_transformed_transformed.pqt')\n",
    "    y_train_ohe = pd.read_parquet(INTERIM_DATA + 'y_train_ohe.pqt')\n",
    "    y_validation_ohe = pd.read_parquet(INTERIM_DATA + 'y_validation_ohe.pqt')\n",
    "    y_train_ordinal = pd.read_parquet(INTERIM_DATA + 'y_train_ordinal.pqt')\n",
    "    y_validation_ordinal = pd.read_parquet(INTERIM_DATA + 'y_validation_ordinal.pqt')\n",
    "    print('Parquet files loaded.')\n",
    "\n",
    "except FileNotFoundError as e:\n",
    "    print('Files were not found.')\n",
    "    \n",
    "print(f\"\"\"\n",
    "X_train: {X_train.shape}\n",
    "X_validation: {X_validation.shape}\n",
    "X_kaggle_test: {X_kaggle_test.shape}\n",
    "\n",
    "y_train_ohe: {y_train_ohe.shape}\n",
    "y_validation_ohe: {y_validation_ohe.shape}\n",
    "\n",
    "y_train_ordinal: {y_train_ordinal.shape}\n",
    "y_validation_ordinal: {y_validation_ordinal.shape}\n",
    "\"\"\")\n",
    "\n",
    "X_train.tail(3)"
   ]
  },
  {
   "cell_type": "markdown",
   "id": "3920889e",
   "metadata": {},
   "source": [
    "# 1st experiment: Multinomial Naive Bayes (baseline)\n",
    "\n",
    "- Naive bayes. One model for each crime category."
   ]
  },
  {
   "cell_type": "code",
   "execution_count": null,
   "id": "7aa86ab5",
   "metadata": {
    "ExecuteTime": {
     "end_time": "2022-10-25T19:17:48.289170Z",
     "start_time": "2022-10-25T19:17:47.600510Z"
    }
   },
   "outputs": [],
   "source": [
    "X_train_mod = X_train.copy()\n",
    "X_train_mod['x'] = X_train_mod['x'].abs()\n",
    "\n",
    "model = MultinomialNB()\n",
    "model.fit(X_train_mod, y_train_ordinal.values[:, 0])\n",
    "\n",
    "y_pred = model.predict(X_validation)"
   ]
  },
  {
   "cell_type": "code",
   "execution_count": null,
   "id": "81934d2e",
   "metadata": {
    "ExecuteTime": {
     "end_time": "2022-10-25T19:15:25.560097Z",
     "start_time": "2022-10-25T19:15:25.344245Z"
    },
    "scrolled": true
   },
   "outputs": [],
   "source": [
    "# print(log_loss(y_validation_ordinal, y_pred, labels=np.arange(0,38).tolist()))\n",
    "\n",
    "print(classification_report(y_validation_ordinal, y_pred, zero_division=0))"
   ]
  },
  {
   "cell_type": "markdown",
   "id": "8d59f1d8",
   "metadata": {},
   "source": [
    "## Kaggle's test dataset"
   ]
  },
  {
   "cell_type": "code",
   "execution_count": null,
   "id": "0d36a9f7",
   "metadata": {
    "ExecuteTime": {
     "end_time": "2022-10-25T19:15:35.670615Z",
     "start_time": "2022-10-25T19:15:34.168999Z"
    }
   },
   "outputs": [],
   "source": [
    "# Predicting the probabilities from X_kaggle_test.\n",
    "y_kaggle_pred = model.predict_proba(X_kaggle_test).round(2)\n",
    "y_kaggle_pred = pd.DataFrame(y_kaggle_pred, columns=lst_columns).reset_index().rename(columns={'index': 'Id'})\n",
    "y_kaggle_pred.head(3)"
   ]
  },
  {
   "cell_type": "code",
   "execution_count": null,
   "id": "38d6250d",
   "metadata": {
    "ExecuteTime": {
     "end_time": "2022-10-25T19:16:00.005936Z",
     "start_time": "2022-10-25T19:15:43.750528Z"
    }
   },
   "outputs": [],
   "source": [
    "y_kaggle_pred.to_csv(PROCESSED_DATA + 'y_kaggle_pred_1st_prep_1st_model.zip', sep=',', index=False, compression='zip')"
   ]
  },
  {
   "cell_type": "markdown",
   "id": "979b37dd",
   "metadata": {},
   "source": [
    "### Kaggle's score:\n",
    "\n",
    "Score: 3.70134"
   ]
  },
  {
   "cell_type": "markdown",
   "id": "d4cf11c8",
   "metadata": {},
   "source": [
    "# 2nd experiment: Random Forest with default parameters"
   ]
  },
  {
   "cell_type": "code",
   "execution_count": null,
   "id": "2af8e5b4",
   "metadata": {
    "ExecuteTime": {
     "end_time": "2022-10-23T22:56:14.364901Z",
     "start_time": "2022-10-23T22:51:40.095021Z"
    }
   },
   "outputs": [],
   "source": [
    "model = RandomForestClassifier(random_state=RANDOM_STATE, n_jobs=2)\n",
    "model.fit(X_train, y_train_ordinal.values[:, 0])\n",
    "\n",
    "y_pred = model.predict(X_validation)\n",
    "\n",
    "print(classification_report(y_validation_ordinal, y_pred, zero_division=0))"
   ]
  },
  {
   "cell_type": "markdown",
   "id": "3bc853b1",
   "metadata": {},
   "source": [
    "## Kaggle's test dataset"
   ]
  },
  {
   "cell_type": "code",
   "execution_count": null,
   "id": "75f0dd2f",
   "metadata": {
    "ExecuteTime": {
     "end_time": "2022-10-23T22:58:34.700905Z",
     "start_time": "2022-10-23T22:56:14.369915Z"
    }
   },
   "outputs": [],
   "source": [
    "# Predicting the probabilities from X_kaggle_test.\n",
    "y_kaggle_pred = model.predict_proba(X_kaggle_test).round(2)\n",
    "y_kaggle_pred = pd.DataFrame(y_kaggle_pred, columns=lst_columns).reset_index().rename(columns={'index': 'Id'})\n",
    "y_kaggle_pred.head(3)"
   ]
  },
  {
   "cell_type": "code",
   "execution_count": null,
   "id": "dfc38f0f",
   "metadata": {
    "ExecuteTime": {
     "end_time": "2022-10-23T22:58:55.784619Z",
     "start_time": "2022-10-23T22:58:34.716287Z"
    }
   },
   "outputs": [],
   "source": [
    "y_kaggle_pred.to_csv(PROCESSED_DATA + 'y_kaggle_pred_1st_prep_2nd_model.zip', sep=',', index=False, compression='zip')"
   ]
  },
  {
   "cell_type": "markdown",
   "id": "5a2b2a75",
   "metadata": {},
   "source": [
    "# 3rd experiment: Multinomial Naive Bayes (baseline) with cyclical features after sine/cosine transformation\n",
    "\n",
    "## Data import"
   ]
  },
  {
   "cell_type": "code",
   "execution_count": null,
   "id": "0e689861",
   "metadata": {
    "ExecuteTime": {
     "end_time": "2022-10-25T19:17:58.890967Z",
     "start_time": "2022-10-25T19:17:58.648568Z"
    }
   },
   "outputs": [],
   "source": [
    "try:\n",
    "    X_train = pd.read_parquet(INTERIM_DATA + 'X_train_transformed_2nd_dataprep.pqt')\n",
    "    X_validation = pd.read_parquet(INTERIM_DATA + 'X_validation_transformed_2nd_dataprep.pqt')\n",
    "    X_kaggle_test = pd.read_parquet(INTERIM_DATA + 'X_kaggle_test_transformed_transformed_2nd_dataprep.pqt')\n",
    "\n",
    "    y_train_ordinal = pd.read_parquet(INTERIM_DATA + 'y_train_ordinal.pqt')\n",
    "    y_validation_ordinal = pd.read_parquet(INTERIM_DATA + 'y_validation_ordinal.pqt')\n",
    "    print('Parquet files loaded.')\n",
    "\n",
    "except FileNotFoundError as e:\n",
    "    print('Files were not found.')\n",
    "    \n",
    "print(f\"\"\"\n",
    "X_train: {X_train.shape}\n",
    "X_validation: {X_validation.shape}\n",
    "X_kaggle_test: {X_kaggle_test.shape}\n",
    "\n",
    "y_train_ordinal: {y_train_ordinal.shape}\n",
    "y_validation_ordinal: {y_validation_ordinal.shape}\n",
    "\"\"\")\n",
    "\n",
    "X_train.tail(3)"
   ]
  },
  {
   "cell_type": "code",
   "execution_count": null,
   "id": "537824e5",
   "metadata": {
    "ExecuteTime": {
     "end_time": "2022-10-25T19:17:59.669309Z",
     "start_time": "2022-10-25T19:17:58.892949Z"
    }
   },
   "outputs": [],
   "source": [
    "X_train_mod = X_train.copy()\n",
    "\n",
    "for column in ['x', 'dates_month_sin', 'dates_month_cos', 'dates_day_sin', 'dates_day_cos', 'dates_hour_sin', 'dates_hour_cos']:\n",
    "    X_train_mod[column] = X_train_mod[column].abs()\n",
    "\n",
    "model = MultinomialNB()\n",
    "model.fit(X_train_mod, y_train_ordinal.values[:, 0])\n",
    "\n",
    "y_pred = model.predict(X_validation)"
   ]
  },
  {
   "cell_type": "code",
   "execution_count": null,
   "id": "d0166243",
   "metadata": {
    "ExecuteTime": {
     "end_time": "2022-10-25T19:18:09.111900Z",
     "start_time": "2022-10-25T19:18:08.901851Z"
    },
    "scrolled": true
   },
   "outputs": [],
   "source": [
    "# print(log_loss(y_validation_ordinal, y_pred, labels=np.arange(0,38).tolist()))\n",
    "\n",
    "print(classification_report(y_validation_ordinal, y_pred, zero_division=0))"
   ]
  },
  {
   "cell_type": "markdown",
   "id": "38f8f82c",
   "metadata": {},
   "source": [
    "## Kaggle's test dataset"
   ]
  },
  {
   "cell_type": "code",
   "execution_count": null,
   "id": "db7531eb",
   "metadata": {
    "ExecuteTime": {
     "end_time": "2022-10-25T13:40:11.251751Z",
     "start_time": "2022-10-25T13:40:09.531739Z"
    }
   },
   "outputs": [],
   "source": [
    "# Predicting the probabilities from X_kaggle_test.\n",
    "y_kaggle_pred = model.predict_proba(X_kaggle_test).round(2)\n",
    "y_kaggle_pred = pd.DataFrame(y_kaggle_pred, columns=lst_columns).reset_index().rename(columns={'index': 'Id'})\n",
    "y_kaggle_pred.head(3)"
   ]
  },
  {
   "cell_type": "code",
   "execution_count": null,
   "id": "32abfa88",
   "metadata": {
    "ExecuteTime": {
     "end_time": "2022-10-25T13:41:02.153050Z",
     "start_time": "2022-10-25T13:40:46.275219Z"
    }
   },
   "outputs": [],
   "source": [
    "y_kaggle_pred.to_csv(PROCESSED_DATA + 'y_kaggle_pred_2nd_prep_3rd_model.zip', sep=',', index=False, compression='zip')"
   ]
  },
  {
   "cell_type": "markdown",
   "id": "a26d3d1f",
   "metadata": {},
   "source": [
    "### Kaggle's score:\n",
    "\n",
    "Score: 3.44058 (7% better (less) than baseline)"
   ]
  },
  {
   "cell_type": "markdown",
   "id": "d204abd3",
   "metadata": {},
   "source": [
    "# 4th experiment: Complement Naive Bayes with cyclical features after sine/cosine transformation\n",
    "\n",
    "## Data import"
   ]
  },
  {
   "cell_type": "code",
   "execution_count": null,
   "id": "7fbde865",
   "metadata": {
    "ExecuteTime": {
     "end_time": "2022-10-25T18:48:31.207955Z",
     "start_time": "2022-10-25T18:48:30.965172Z"
    }
   },
   "outputs": [],
   "source": [
    "try:\n",
    "    X_train = pd.read_parquet(INTERIM_DATA + 'X_train_transformed_2nd_dataprep.pqt')\n",
    "    X_validation = pd.read_parquet(INTERIM_DATA + 'X_validation_transformed_2nd_dataprep.pqt')\n",
    "    X_kaggle_test = pd.read_parquet(INTERIM_DATA + 'X_kaggle_test_transformed_transformed_2nd_dataprep.pqt')\n",
    "\n",
    "    y_train_ordinal = pd.read_parquet(INTERIM_DATA + 'y_train_ordinal.pqt')\n",
    "    y_validation_ordinal = pd.read_parquet(INTERIM_DATA + 'y_validation_ordinal.pqt')\n",
    "    print('Parquet files loaded.')\n",
    "\n",
    "except FileNotFoundError as e:\n",
    "    print('Files were not found.')\n",
    "    \n",
    "print(f\"\"\"\n",
    "X_train: {X_train.shape}\n",
    "X_validation: {X_validation.shape}\n",
    "X_kaggle_test: {X_kaggle_test.shape}\n",
    "\n",
    "y_train_ordinal: {y_train_ordinal.shape}\n",
    "y_validation_ordinal: {y_validation_ordinal.shape}\n",
    "\"\"\")\n",
    "\n",
    "X_train.tail(3)"
   ]
  },
  {
   "cell_type": "code",
   "execution_count": null,
   "id": "57910147",
   "metadata": {
    "ExecuteTime": {
     "end_time": "2022-10-25T18:48:32.879951Z",
     "start_time": "2022-10-25T18:48:31.988954Z"
    }
   },
   "outputs": [],
   "source": [
    "X_train_mod = X_train.copy()\n",
    "\n",
    "for column in ['x', 'dates_month_sin', 'dates_month_cos', 'dates_day_sin', 'dates_day_cos', 'dates_hour_sin', 'dates_hour_cos']:\n",
    "    X_train_mod[column] = X_train_mod[column].abs()\n",
    "\n",
    "model = ComplementNB()\n",
    "model.fit(X_train_mod, y_train_ordinal.values[:, 0])\n",
    "\n",
    "y_pred = model.predict(X_validation)"
   ]
  },
  {
   "cell_type": "code",
   "execution_count": null,
   "id": "8e5bc3a9",
   "metadata": {
    "ExecuteTime": {
     "end_time": "2022-10-25T18:48:35.855561Z",
     "start_time": "2022-10-25T18:48:35.637590Z"
    },
    "scrolled": true
   },
   "outputs": [],
   "source": [
    "# print(log_loss(y_validation_ordinal, y_pred, labels=np.arange(0,38).tolist()))\n",
    "\n",
    "print(classification_report(y_validation_ordinal, y_pred, zero_division=0))"
   ]
  },
  {
   "cell_type": "markdown",
   "id": "aecc1897",
   "metadata": {},
   "source": [
    "## Kaggle's test dataset"
   ]
  },
  {
   "cell_type": "code",
   "execution_count": null,
   "id": "4367105e",
   "metadata": {
    "ExecuteTime": {
     "end_time": "2022-10-25T18:48:44.493709Z",
     "start_time": "2022-10-25T18:48:43.038535Z"
    }
   },
   "outputs": [],
   "source": [
    "# Predicting the probabilities from X_kaggle_test.\n",
    "y_kaggle_pred = model.predict_proba(X_kaggle_test).round(2)\n",
    "y_kaggle_pred = pd.DataFrame(y_kaggle_pred, columns=lst_columns).reset_index().rename(columns={'index': 'Id'})\n",
    "y_kaggle_pred.head(3)"
   ]
  },
  {
   "cell_type": "code",
   "execution_count": null,
   "id": "cf2a895c",
   "metadata": {
    "ExecuteTime": {
     "end_time": "2022-10-25T18:49:15.341684Z",
     "start_time": "2022-10-25T18:48:58.860944Z"
    }
   },
   "outputs": [],
   "source": [
    "y_kaggle_pred.to_csv(PROCESSED_DATA + 'y_kaggle_pred_2nd_prep_4rd_model.zip', sep=',', index=False, compression='zip')"
   ]
  },
  {
   "cell_type": "markdown",
   "id": "acfbbebc",
   "metadata": {},
   "source": [
    "### Kaggle's score:\n",
    "\n",
    "Score: 3.66351 (1% better (less) than baseline)"
   ]
  },
  {
   "cell_type": "markdown",
   "id": "9b6a8dc0",
   "metadata": {},
   "source": [
    "# 5th experiment: Complement Naive Bayes with cyclical features after sine/cosine transformation\n",
    "\n",
    "## Data import"
   ]
  },
  {
   "cell_type": "code",
   "execution_count": null,
   "id": "7225d6aa",
   "metadata": {
    "ExecuteTime": {
     "end_time": "2022-10-25T18:54:38.374459Z",
     "start_time": "2022-10-25T18:54:38.132258Z"
    }
   },
   "outputs": [],
   "source": [
    "try:\n",
    "    X_train = pd.read_parquet(INTERIM_DATA + 'X_train_transformed_2nd_dataprep.pqt')\n",
    "    X_validation = pd.read_parquet(INTERIM_DATA + 'X_validation_transformed_2nd_dataprep.pqt')\n",
    "    X_kaggle_test = pd.read_parquet(INTERIM_DATA + 'X_kaggle_test_transformed_transformed_2nd_dataprep.pqt')\n",
    "\n",
    "    y_train_ordinal = pd.read_parquet(INTERIM_DATA + 'y_train_ordinal.pqt')\n",
    "    y_validation_ordinal = pd.read_parquet(INTERIM_DATA + 'y_validation_ordinal.pqt')\n",
    "    print('Parquet files loaded.')\n",
    "\n",
    "except FileNotFoundError as e:\n",
    "    print('Files were not found.')\n",
    "    \n",
    "print(f\"\"\"\n",
    "X_train: {X_train.shape}\n",
    "X_validation: {X_validation.shape}\n",
    "X_kaggle_test: {X_kaggle_test.shape}\n",
    "\n",
    "y_train_ordinal: {y_train_ordinal.shape}\n",
    "y_validation_ordinal: {y_validation_ordinal.shape}\n",
    "\"\"\")\n",
    "\n",
    "X_train.tail(3)"
   ]
  },
  {
   "cell_type": "code",
   "execution_count": null,
   "id": "080254a3",
   "metadata": {
    "ExecuteTime": {
     "end_time": "2022-10-25T18:57:22.026174Z",
     "start_time": "2022-10-25T18:57:17.955137Z"
    }
   },
   "outputs": [],
   "source": [
    "X_train_mod = X_train.copy()\n",
    "X_validation_mod = X_validation.copy()\n",
    "X_kaggle_test_mod = X_kaggle_test.copy()\n",
    "\n",
    "for column in ['x', 'dates_month_sin', 'dates_month_cos', 'dates_day_sin', 'dates_day_cos', 'dates_hour_sin', 'dates_hour_cos']:\n",
    "    X_train_mod[column] = X_train_mod[column].abs()\n",
    "    X_validation_mod[column] = X_validation_mod[column].abs()\n",
    "    X_kaggle_test_mod[column] = X_kaggle_test_mod[column].abs()\n",
    "    \n",
    "\n",
    "model = CategoricalNB()\n",
    "model.fit(X_train_mod, y_train_ordinal.values[:, 0])\n",
    "\n",
    "y_pred = model.predict(X_validation_mod)"
   ]
  },
  {
   "cell_type": "code",
   "execution_count": null,
   "id": "a226a72a",
   "metadata": {
    "ExecuteTime": {
     "end_time": "2022-10-25T18:57:23.873136Z",
     "start_time": "2022-10-25T18:57:23.649138Z"
    },
    "scrolled": true
   },
   "outputs": [],
   "source": [
    "# print(log_loss(y_validation_ordinal, y_pred, labels=np.arange(0,38).tolist()))\n",
    "\n",
    "print(classification_report(y_validation_ordinal, y_pred, zero_division=0))"
   ]
  },
  {
   "cell_type": "markdown",
   "id": "80fecc48",
   "metadata": {},
   "source": [
    "## Kaggle's test dataset"
   ]
  },
  {
   "cell_type": "code",
   "execution_count": null,
   "id": "b465ff8d",
   "metadata": {
    "ExecuteTime": {
     "end_time": "2022-10-25T18:58:27.127923Z",
     "start_time": "2022-10-25T18:58:24.475951Z"
    }
   },
   "outputs": [],
   "source": [
    "# Predicting the probabilities from X_kaggle_test.\n",
    "y_kaggle_pred = model.predict_proba(X_kaggle_test_mod).round(2)\n",
    "y_kaggle_pred = pd.DataFrame(y_kaggle_pred, columns=lst_columns).reset_index().rename(columns={'index': 'Id'})\n",
    "y_kaggle_pred.head(3)"
   ]
  },
  {
   "cell_type": "code",
   "execution_count": null,
   "id": "ea760566",
   "metadata": {
    "ExecuteTime": {
     "end_time": "2022-10-25T18:58:44.637879Z",
     "start_time": "2022-10-25T18:58:29.115616Z"
    }
   },
   "outputs": [],
   "source": [
    "y_kaggle_pred.to_csv(PROCESSED_DATA + 'y_kaggle_pred_2nd_prep_5th_model.zip', sep=',', index=False, compression='zip')"
   ]
  },
  {
   "cell_type": "markdown",
   "id": "f1731627",
   "metadata": {},
   "source": [
    "### Kaggle's score:\n",
    "\n",
    "Score: 3.73690 (1% worse (higher) than baseline)"
   ]
  },
  {
   "cell_type": "markdown",
   "id": "15c48877",
   "metadata": {},
   "source": [
    "# 6th experiment: Gaussian Naive Bayes with cyclical features after sine/cosine transformation\n",
    "\n",
    "## Data import"
   ]
  },
  {
   "cell_type": "code",
   "execution_count": null,
   "id": "3bf436ff",
   "metadata": {
    "ExecuteTime": {
     "end_time": "2022-10-25T19:12:07.616631Z",
     "start_time": "2022-10-25T19:12:07.368632Z"
    }
   },
   "outputs": [],
   "source": [
    "try:\n",
    "    X_train = pd.read_parquet(INTERIM_DATA + 'X_train_transformed_2nd_dataprep.pqt')\n",
    "    X_validation = pd.read_parquet(INTERIM_DATA + 'X_validation_transformed_2nd_dataprep.pqt')\n",
    "    X_kaggle_test = pd.read_parquet(INTERIM_DATA + 'X_kaggle_test_transformed_transformed_2nd_dataprep.pqt')\n",
    "\n",
    "    y_train_ordinal = pd.read_parquet(INTERIM_DATA + 'y_train_ordinal.pqt')\n",
    "    y_validation_ordinal = pd.read_parquet(INTERIM_DATA + 'y_validation_ordinal.pqt')\n",
    "    print('Parquet files loaded.')\n",
    "\n",
    "except FileNotFoundError as e:\n",
    "    print('Files were not found.')\n",
    "    \n",
    "print(f\"\"\"\n",
    "X_train: {X_train.shape}\n",
    "X_validation: {X_validation.shape}\n",
    "X_kaggle_test: {X_kaggle_test.shape}\n",
    "\n",
    "y_train_ordinal: {y_train_ordinal.shape}\n",
    "y_validation_ordinal: {y_validation_ordinal.shape}\n",
    "\"\"\")\n",
    "\n",
    "X_train.tail(3)"
   ]
  },
  {
   "cell_type": "code",
   "execution_count": null,
   "id": "d5cb14af",
   "metadata": {
    "ExecuteTime": {
     "end_time": "2022-10-25T19:12:20.484055Z",
     "start_time": "2022-10-25T19:12:19.449704Z"
    }
   },
   "outputs": [],
   "source": [
    "X_train_mod = X_train.copy()\n",
    "X_validation_mod = X_validation.copy()\n",
    "X_kaggle_test_mod = X_kaggle_test.copy()\n",
    "\n",
    "for column in ['x', 'dates_month_sin', 'dates_month_cos', 'dates_day_sin', 'dates_day_cos', 'dates_hour_sin', 'dates_hour_cos']:\n",
    "    X_train_mod[column] = X_train_mod[column].abs()\n",
    "    X_validation_mod[column] = X_validation_mod[column].abs()\n",
    "    X_kaggle_test_mod[column] = X_kaggle_test_mod[column].abs()\n",
    "    \n",
    "\n",
    "model = GaussianNB()\n",
    "model.fit(X_train_mod, y_train_ordinal.values[:, 0])\n",
    "\n",
    "y_pred = model.predict(X_validation_mod)"
   ]
  },
  {
   "cell_type": "code",
   "execution_count": null,
   "id": "d84a3906",
   "metadata": {
    "ExecuteTime": {
     "end_time": "2022-10-25T19:12:24.796813Z",
     "start_time": "2022-10-25T19:12:24.567918Z"
    },
    "scrolled": true
   },
   "outputs": [],
   "source": [
    "# print(log_loss(y_validation_ordinal, y_pred, labels=np.arange(0,38).tolist()))\n",
    "\n",
    "print(classification_report(y_validation_ordinal, y_pred, zero_division=0))"
   ]
  },
  {
   "cell_type": "markdown",
   "id": "80039c75",
   "metadata": {},
   "source": [
    "## Kaggle's test dataset"
   ]
  },
  {
   "cell_type": "code",
   "execution_count": null,
   "id": "c1b9c056",
   "metadata": {
    "ExecuteTime": {
     "end_time": "2022-10-25T19:12:35.036632Z",
     "start_time": "2022-10-25T19:12:30.329630Z"
    }
   },
   "outputs": [],
   "source": [
    "# Predicting the probabilities from X_kaggle_test.\n",
    "y_kaggle_pred = model.predict_proba(X_kaggle_test_mod).round(2)\n",
    "y_kaggle_pred = pd.DataFrame(y_kaggle_pred, columns=lst_columns).reset_index().rename(columns={'index': 'Id'})\n",
    "y_kaggle_pred.head(3)"
   ]
  },
  {
   "cell_type": "code",
   "execution_count": null,
   "id": "cdf6b7b0",
   "metadata": {
    "ExecuteTime": {
     "end_time": "2022-10-25T19:12:57.363683Z",
     "start_time": "2022-10-25T19:12:37.607700Z"
    }
   },
   "outputs": [],
   "source": [
    "y_kaggle_pred.to_csv(PROCESSED_DATA + 'y_kaggle_pred_2nd_prep_6th_model.zip', sep=',', index=False, compression='zip')"
   ]
  },
  {
   "cell_type": "markdown",
   "id": "609fde6c",
   "metadata": {},
   "source": [
    "### Kaggle's score:\n",
    "\n",
    "Score: 3.44058 (7% better (less) than baseline)"
   ]
  },
  {
   "cell_type": "markdown",
   "id": "a93b14c9",
   "metadata": {},
   "source": [
    "# 7th experiment: Multinomial NB with cyclical features after sine/cosine transformation\n",
    "\n",
    "## Data import"
   ]
  },
  {
   "cell_type": "code",
   "execution_count": 12,
   "id": "e5171f21",
   "metadata": {
    "ExecuteTime": {
     "end_time": "2022-10-26T01:04:09.078517Z",
     "start_time": "2022-10-26T01:04:08.842478Z"
    }
   },
   "outputs": [
    {
     "name": "stdout",
     "output_type": "stream",
     "text": [
      "Parquet files loaded.\n",
      "\n",
      "X_train: (790244, 13)\n",
      "X_validation: (87805, 13)\n",
      "X_kaggle_test: (884262, 13)\n",
      "\n",
      "y_train_ordinal: (790244, 1)\n",
      "y_validation_ordinal: (87805, 1)\n",
      "\n"
     ]
    },
    {
     "data": {
      "text/html": [
       "<div>\n",
       "<style scoped>\n",
       "    .dataframe tbody tr th:only-of-type {\n",
       "        vertical-align: middle;\n",
       "    }\n",
       "\n",
       "    .dataframe tbody tr th {\n",
       "        vertical-align: top;\n",
       "    }\n",
       "\n",
       "    .dataframe thead th {\n",
       "        text-align: right;\n",
       "    }\n",
       "</style>\n",
       "<table border=\"1\" class=\"dataframe\">\n",
       "  <thead>\n",
       "    <tr style=\"text-align: right;\">\n",
       "      <th></th>\n",
       "      <th>dates_year</th>\n",
       "      <th>is_daytime</th>\n",
       "      <th>day_of_week</th>\n",
       "      <th>pd_district</th>\n",
       "      <th>x</th>\n",
       "      <th>y</th>\n",
       "      <th>simplified_address</th>\n",
       "      <th>dates_month_sin</th>\n",
       "      <th>dates_month_cos</th>\n",
       "      <th>dates_day_sin</th>\n",
       "      <th>dates_day_cos</th>\n",
       "      <th>dates_hour_sin</th>\n",
       "      <th>dates_hour_cos</th>\n",
       "    </tr>\n",
       "  </thead>\n",
       "  <tbody>\n",
       "    <tr>\n",
       "      <th>131932</th>\n",
       "      <td>2013</td>\n",
       "      <td>0</td>\n",
       "      <td>0.144286</td>\n",
       "      <td>0.136463</td>\n",
       "      <td>-122.426956</td>\n",
       "      <td>37.769247</td>\n",
       "      <td>0.039924</td>\n",
       "      <td>0.066987</td>\n",
       "      <td>0.250000</td>\n",
       "      <td>0.948869</td>\n",
       "      <td>0.277951</td>\n",
       "      <td>0.364361</td>\n",
       "      <td>0.981372</td>\n",
       "    </tr>\n",
       "    <tr>\n",
       "      <th>671155</th>\n",
       "      <td>2005</td>\n",
       "      <td>0</td>\n",
       "      <td>0.152310</td>\n",
       "      <td>0.102038</td>\n",
       "      <td>-122.386942</td>\n",
       "      <td>37.754168</td>\n",
       "      <td>0.776874</td>\n",
       "      <td>0.250000</td>\n",
       "      <td>0.933013</td>\n",
       "      <td>0.862308</td>\n",
       "      <td>0.844083</td>\n",
       "      <td>0.989530</td>\n",
       "      <td>0.599865</td>\n",
       "    </tr>\n",
       "    <tr>\n",
       "      <th>121958</th>\n",
       "      <td>2013</td>\n",
       "      <td>1</td>\n",
       "      <td>0.138624</td>\n",
       "      <td>0.179080</td>\n",
       "      <td>-122.408068</td>\n",
       "      <td>37.783992</td>\n",
       "      <td>0.039924</td>\n",
       "      <td>0.000000</td>\n",
       "      <td>0.500000</td>\n",
       "      <td>0.398965</td>\n",
       "      <td>0.989739</td>\n",
       "      <td>0.431254</td>\n",
       "      <td>0.000000</td>\n",
       "    </tr>\n",
       "  </tbody>\n",
       "</table>\n",
       "</div>"
      ],
      "text/plain": [
       "        dates_year  is_daytime  day_of_week  pd_district           x  \\\n",
       "131932        2013           0     0.144286     0.136463 -122.426956   \n",
       "671155        2005           0     0.152310     0.102038 -122.386942   \n",
       "121958        2013           1     0.138624     0.179080 -122.408068   \n",
       "\n",
       "                y  simplified_address  dates_month_sin  dates_month_cos  \\\n",
       "131932  37.769247            0.039924         0.066987         0.250000   \n",
       "671155  37.754168            0.776874         0.250000         0.933013   \n",
       "121958  37.783992            0.039924         0.000000         0.500000   \n",
       "\n",
       "        dates_day_sin  dates_day_cos  dates_hour_sin  dates_hour_cos  \n",
       "131932       0.948869       0.277951        0.364361        0.981372  \n",
       "671155       0.862308       0.844083        0.989530        0.599865  \n",
       "121958       0.398965       0.989739        0.431254        0.000000  "
      ]
     },
     "execution_count": 12,
     "metadata": {},
     "output_type": "execute_result"
    }
   ],
   "source": [
    "try:\n",
    "    X_train = pd.read_parquet(INTERIM_DATA + 'X_train_transformed_3rd_dataprep.pqt')\n",
    "    X_validation = pd.read_parquet(INTERIM_DATA + 'X_validation_transformed_3rd_dataprep.pqt')\n",
    "    X_kaggle_test = pd.read_parquet(INTERIM_DATA + 'X_kaggle_test_transformed_transformed_3rd_dataprep.pqt')\n",
    "\n",
    "    y_train_ordinal = pd.read_parquet(INTERIM_DATA + 'y_train_ordinal.pqt')\n",
    "    y_validation_ordinal = pd.read_parquet(INTERIM_DATA + 'y_validation_ordinal.pqt')\n",
    "    print('Parquet files loaded.')\n",
    "\n",
    "except FileNotFoundError as e:\n",
    "    print('Files were not found.')\n",
    "    \n",
    "print(f\"\"\"\n",
    "X_train: {X_train.shape}\n",
    "X_validation: {X_validation.shape}\n",
    "X_kaggle_test: {X_kaggle_test.shape}\n",
    "\n",
    "y_train_ordinal: {y_train_ordinal.shape}\n",
    "y_validation_ordinal: {y_validation_ordinal.shape}\n",
    "\"\"\")\n",
    "\n",
    "X_train.tail(3)"
   ]
  },
  {
   "cell_type": "code",
   "execution_count": 21,
   "id": "f0db177f",
   "metadata": {
    "ExecuteTime": {
     "end_time": "2022-10-26T01:08:12.268203Z",
     "start_time": "2022-10-26T01:08:11.392147Z"
    }
   },
   "outputs": [],
   "source": [
    "X_train_mod = X_train.copy()\n",
    "X_validation_mod = X_validation.copy()\n",
    "X_kaggle_test_mod = X_kaggle_test.copy()\n",
    "\n",
    "for column in ['x', 'y']:\n",
    "    X_train_mod[column] = X_train_mod[column].abs()\n",
    "    X_validation_mod[column] = X_validation_mod[column].abs()\n",
    "    X_kaggle_test_mod[column] = X_kaggle_test_mod[column].abs()\n",
    "\n",
    "model = MultinomialNB()\n",
    "model.fit(X_train_mod, y_train_ordinal.values[:, 0])\n",
    "\n",
    "y_pred = model.predict(X_validation_mod)"
   ]
  },
  {
   "cell_type": "code",
   "execution_count": 22,
   "id": "230e46b8",
   "metadata": {
    "ExecuteTime": {
     "end_time": "2022-10-26T01:08:12.505446Z",
     "start_time": "2022-10-26T01:08:12.270150Z"
    },
    "scrolled": true
   },
   "outputs": [
    {
     "name": "stdout",
     "output_type": "stream",
     "text": [
      "              precision    recall  f1-score   support\n",
      "\n",
      "           0       0.00      0.00      0.00       168\n",
      "           1       0.00      0.00      0.00      7632\n",
      "           2       0.00      0.00      0.00        41\n",
      "           3       0.00      0.00      0.00        28\n",
      "           4       0.00      0.00      0.00      3762\n",
      "           5       0.00      0.00      0.00       409\n",
      "           6       0.00      0.00      0.00       212\n",
      "           7       0.00      0.00      0.00      5437\n",
      "           8       0.00      0.00      0.00       421\n",
      "           9       0.00      0.00      0.00        91\n",
      "          10       0.00      0.00      0.00        29\n",
      "          11       0.00      0.00      0.00        44\n",
      "          12       0.00      0.00      0.00      1043\n",
      "          13       0.00      0.00      0.00      1621\n",
      "          14       0.00      0.00      0.00        14\n",
      "          15       0.00      0.00      0.00       232\n",
      "          16       0.20      1.00      0.33     17455\n",
      "          17       0.00      0.00      0.00       192\n",
      "          18       0.00      0.00      0.00       138\n",
      "          19       0.00      0.00      0.00      2562\n",
      "          20       0.00      0.00      0.00      9311\n",
      "          21       0.00      0.00      0.00     12464\n",
      "          22       0.00      0.00      0.00         1\n",
      "          23       0.00      0.00      0.00       779\n",
      "          24       0.00      0.00      0.00       311\n",
      "          25       0.00      0.00      0.00      2281\n",
      "          26       0.00      0.00      0.00       204\n",
      "          27       0.00      0.00      0.00      1031\n",
      "          28       0.00      0.00      0.00       478\n",
      "          29       0.00      0.00      0.00        14\n",
      "          30       0.00      0.00      0.00       470\n",
      "          31       0.00      0.00      0.00        45\n",
      "          32       0.00      0.00      0.00      3197\n",
      "          34       0.00      0.00      0.00       761\n",
      "          35       0.00      0.00      0.00      4540\n",
      "          36       0.00      0.00      0.00      5296\n",
      "          37       0.00      0.00      0.00      4216\n",
      "          38       0.00      0.00      0.00       875\n",
      "\n",
      "    accuracy                           0.20     87805\n",
      "   macro avg       0.01      0.03      0.01     87805\n",
      "weighted avg       0.04      0.20      0.07     87805\n",
      "\n"
     ]
    }
   ],
   "source": [
    "# print(log_loss(y_validation_ordinal, y_pred, labels=np.arange(0,38).tolist()))\n",
    "\n",
    "print(classification_report(y_validation_ordinal, y_pred, zero_division=0))"
   ]
  },
  {
   "cell_type": "markdown",
   "id": "8cfdc37b",
   "metadata": {},
   "source": [
    "## Kaggle's test dataset"
   ]
  },
  {
   "cell_type": "code",
   "execution_count": 23,
   "id": "9e105b63",
   "metadata": {
    "ExecuteTime": {
     "end_time": "2022-10-26T01:08:17.177631Z",
     "start_time": "2022-10-26T01:08:15.446657Z"
    }
   },
   "outputs": [
    {
     "data": {
      "text/html": [
       "<div>\n",
       "<style scoped>\n",
       "    .dataframe tbody tr th:only-of-type {\n",
       "        vertical-align: middle;\n",
       "    }\n",
       "\n",
       "    .dataframe tbody tr th {\n",
       "        vertical-align: top;\n",
       "    }\n",
       "\n",
       "    .dataframe thead th {\n",
       "        text-align: right;\n",
       "    }\n",
       "</style>\n",
       "<table border=\"1\" class=\"dataframe\">\n",
       "  <thead>\n",
       "    <tr style=\"text-align: right;\">\n",
       "      <th></th>\n",
       "      <th>Id</th>\n",
       "      <th>ARSON</th>\n",
       "      <th>ASSAULT</th>\n",
       "      <th>BAD CHECKS</th>\n",
       "      <th>BRIBERY</th>\n",
       "      <th>BURGLARY</th>\n",
       "      <th>DISORDERLY CONDUCT</th>\n",
       "      <th>DRIVING UNDER THE INFLUENCE</th>\n",
       "      <th>DRUG/NARCOTIC</th>\n",
       "      <th>DRUNKENNESS</th>\n",
       "      <th>EMBEZZLEMENT</th>\n",
       "      <th>EXTORTION</th>\n",
       "      <th>FAMILY OFFENSES</th>\n",
       "      <th>FORGERY/COUNTERFEITING</th>\n",
       "      <th>FRAUD</th>\n",
       "      <th>GAMBLING</th>\n",
       "      <th>KIDNAPPING</th>\n",
       "      <th>LARCENY/THEFT</th>\n",
       "      <th>LIQUOR LAWS</th>\n",
       "      <th>LOITERING</th>\n",
       "      <th>MISSING PERSON</th>\n",
       "      <th>NON-CRIMINAL</th>\n",
       "      <th>OTHER OFFENSES</th>\n",
       "      <th>PORNOGRAPHY/OBSCENE MAT</th>\n",
       "      <th>PROSTITUTION</th>\n",
       "      <th>RECOVERED VEHICLE</th>\n",
       "      <th>ROBBERY</th>\n",
       "      <th>RUNAWAY</th>\n",
       "      <th>SECONDARY CODES</th>\n",
       "      <th>SEX OFFENSES FORCIBLE</th>\n",
       "      <th>SEX OFFENSES NON FORCIBLE</th>\n",
       "      <th>STOLEN PROPERTY</th>\n",
       "      <th>SUICIDE</th>\n",
       "      <th>SUSPICIOUS OCC</th>\n",
       "      <th>TREA</th>\n",
       "      <th>TRESPASS</th>\n",
       "      <th>VANDALISM</th>\n",
       "      <th>VEHICLE THEFT</th>\n",
       "      <th>WARRANTS</th>\n",
       "      <th>WEAPON LAWS</th>\n",
       "    </tr>\n",
       "  </thead>\n",
       "  <tbody>\n",
       "    <tr>\n",
       "      <th>0</th>\n",
       "      <td>0</td>\n",
       "      <td>0.0</td>\n",
       "      <td>0.09</td>\n",
       "      <td>0.0</td>\n",
       "      <td>0.0</td>\n",
       "      <td>0.04</td>\n",
       "      <td>0.01</td>\n",
       "      <td>0.0</td>\n",
       "      <td>0.05</td>\n",
       "      <td>0.01</td>\n",
       "      <td>0.0</td>\n",
       "      <td>0.0</td>\n",
       "      <td>0.0</td>\n",
       "      <td>0.01</td>\n",
       "      <td>0.02</td>\n",
       "      <td>0.0</td>\n",
       "      <td>0.0</td>\n",
       "      <td>0.20</td>\n",
       "      <td>0.0</td>\n",
       "      <td>0.0</td>\n",
       "      <td>0.02</td>\n",
       "      <td>0.09</td>\n",
       "      <td>0.14</td>\n",
       "      <td>0.0</td>\n",
       "      <td>0.01</td>\n",
       "      <td>0.0</td>\n",
       "      <td>0.03</td>\n",
       "      <td>0.0</td>\n",
       "      <td>0.01</td>\n",
       "      <td>0.01</td>\n",
       "      <td>0.0</td>\n",
       "      <td>0.01</td>\n",
       "      <td>0.0</td>\n",
       "      <td>0.03</td>\n",
       "      <td>0.0</td>\n",
       "      <td>0.01</td>\n",
       "      <td>0.06</td>\n",
       "      <td>0.07</td>\n",
       "      <td>0.04</td>\n",
       "      <td>0.01</td>\n",
       "    </tr>\n",
       "    <tr>\n",
       "      <th>1</th>\n",
       "      <td>1</td>\n",
       "      <td>0.0</td>\n",
       "      <td>0.09</td>\n",
       "      <td>0.0</td>\n",
       "      <td>0.0</td>\n",
       "      <td>0.04</td>\n",
       "      <td>0.01</td>\n",
       "      <td>0.0</td>\n",
       "      <td>0.06</td>\n",
       "      <td>0.01</td>\n",
       "      <td>0.0</td>\n",
       "      <td>0.0</td>\n",
       "      <td>0.0</td>\n",
       "      <td>0.01</td>\n",
       "      <td>0.02</td>\n",
       "      <td>0.0</td>\n",
       "      <td>0.0</td>\n",
       "      <td>0.19</td>\n",
       "      <td>0.0</td>\n",
       "      <td>0.0</td>\n",
       "      <td>0.02</td>\n",
       "      <td>0.09</td>\n",
       "      <td>0.14</td>\n",
       "      <td>0.0</td>\n",
       "      <td>0.01</td>\n",
       "      <td>0.0</td>\n",
       "      <td>0.03</td>\n",
       "      <td>0.0</td>\n",
       "      <td>0.01</td>\n",
       "      <td>0.01</td>\n",
       "      <td>0.0</td>\n",
       "      <td>0.01</td>\n",
       "      <td>0.0</td>\n",
       "      <td>0.03</td>\n",
       "      <td>0.0</td>\n",
       "      <td>0.01</td>\n",
       "      <td>0.06</td>\n",
       "      <td>0.06</td>\n",
       "      <td>0.05</td>\n",
       "      <td>0.01</td>\n",
       "    </tr>\n",
       "    <tr>\n",
       "      <th>2</th>\n",
       "      <td>2</td>\n",
       "      <td>0.0</td>\n",
       "      <td>0.09</td>\n",
       "      <td>0.0</td>\n",
       "      <td>0.0</td>\n",
       "      <td>0.04</td>\n",
       "      <td>0.01</td>\n",
       "      <td>0.0</td>\n",
       "      <td>0.05</td>\n",
       "      <td>0.01</td>\n",
       "      <td>0.0</td>\n",
       "      <td>0.0</td>\n",
       "      <td>0.0</td>\n",
       "      <td>0.01</td>\n",
       "      <td>0.02</td>\n",
       "      <td>0.0</td>\n",
       "      <td>0.0</td>\n",
       "      <td>0.20</td>\n",
       "      <td>0.0</td>\n",
       "      <td>0.0</td>\n",
       "      <td>0.02</td>\n",
       "      <td>0.09</td>\n",
       "      <td>0.14</td>\n",
       "      <td>0.0</td>\n",
       "      <td>0.01</td>\n",
       "      <td>0.0</td>\n",
       "      <td>0.03</td>\n",
       "      <td>0.0</td>\n",
       "      <td>0.01</td>\n",
       "      <td>0.01</td>\n",
       "      <td>0.0</td>\n",
       "      <td>0.01</td>\n",
       "      <td>0.0</td>\n",
       "      <td>0.03</td>\n",
       "      <td>0.0</td>\n",
       "      <td>0.01</td>\n",
       "      <td>0.06</td>\n",
       "      <td>0.07</td>\n",
       "      <td>0.04</td>\n",
       "      <td>0.01</td>\n",
       "    </tr>\n",
       "  </tbody>\n",
       "</table>\n",
       "</div>"
      ],
      "text/plain": [
       "   Id  ARSON  ASSAULT  BAD CHECKS  BRIBERY  BURGLARY  DISORDERLY CONDUCT  \\\n",
       "0   0    0.0     0.09         0.0      0.0      0.04                0.01   \n",
       "1   1    0.0     0.09         0.0      0.0      0.04                0.01   \n",
       "2   2    0.0     0.09         0.0      0.0      0.04                0.01   \n",
       "\n",
       "   DRIVING UNDER THE INFLUENCE  DRUG/NARCOTIC  DRUNKENNESS  EMBEZZLEMENT  \\\n",
       "0                          0.0           0.05         0.01           0.0   \n",
       "1                          0.0           0.06         0.01           0.0   \n",
       "2                          0.0           0.05         0.01           0.0   \n",
       "\n",
       "   EXTORTION  FAMILY OFFENSES  FORGERY/COUNTERFEITING  FRAUD  GAMBLING  \\\n",
       "0        0.0              0.0                    0.01   0.02       0.0   \n",
       "1        0.0              0.0                    0.01   0.02       0.0   \n",
       "2        0.0              0.0                    0.01   0.02       0.0   \n",
       "\n",
       "   KIDNAPPING  LARCENY/THEFT  LIQUOR LAWS  LOITERING  MISSING PERSON  \\\n",
       "0         0.0           0.20          0.0        0.0            0.02   \n",
       "1         0.0           0.19          0.0        0.0            0.02   \n",
       "2         0.0           0.20          0.0        0.0            0.02   \n",
       "\n",
       "   NON-CRIMINAL  OTHER OFFENSES  PORNOGRAPHY/OBSCENE MAT  PROSTITUTION  \\\n",
       "0          0.09            0.14                      0.0          0.01   \n",
       "1          0.09            0.14                      0.0          0.01   \n",
       "2          0.09            0.14                      0.0          0.01   \n",
       "\n",
       "   RECOVERED VEHICLE  ROBBERY  RUNAWAY  SECONDARY CODES  \\\n",
       "0                0.0     0.03      0.0             0.01   \n",
       "1                0.0     0.03      0.0             0.01   \n",
       "2                0.0     0.03      0.0             0.01   \n",
       "\n",
       "   SEX OFFENSES FORCIBLE  SEX OFFENSES NON FORCIBLE  STOLEN PROPERTY  SUICIDE  \\\n",
       "0                   0.01                        0.0             0.01      0.0   \n",
       "1                   0.01                        0.0             0.01      0.0   \n",
       "2                   0.01                        0.0             0.01      0.0   \n",
       "\n",
       "   SUSPICIOUS OCC  TREA  TRESPASS  VANDALISM  VEHICLE THEFT  WARRANTS  \\\n",
       "0            0.03   0.0      0.01       0.06           0.07      0.04   \n",
       "1            0.03   0.0      0.01       0.06           0.06      0.05   \n",
       "2            0.03   0.0      0.01       0.06           0.07      0.04   \n",
       "\n",
       "   WEAPON LAWS  \n",
       "0         0.01  \n",
       "1         0.01  \n",
       "2         0.01  "
      ]
     },
     "execution_count": 23,
     "metadata": {},
     "output_type": "execute_result"
    }
   ],
   "source": [
    "# Predicting the probabilities from X_kaggle_test.\n",
    "y_kaggle_pred = model.predict_proba(X_kaggle_test_mod).round(2)\n",
    "y_kaggle_pred = pd.DataFrame(y_kaggle_pred, columns=lst_columns).reset_index().rename(columns={'index': 'Id'})\n",
    "y_kaggle_pred.head(3)"
   ]
  },
  {
   "cell_type": "code",
   "execution_count": 24,
   "id": "f9be28a0",
   "metadata": {
    "ExecuteTime": {
     "end_time": "2022-10-26T01:08:45.299858Z",
     "start_time": "2022-10-26T01:08:29.240095Z"
    }
   },
   "outputs": [],
   "source": [
    "y_kaggle_pred.to_csv(PROCESSED_DATA + 'y_kaggle_pred_3rd_prep_7th_model.zip', sep=',', index=False, compression='zip')"
   ]
  },
  {
   "cell_type": "markdown",
   "id": "2948200f",
   "metadata": {},
   "source": [
    "### Kaggle's score:\n",
    "\n",
    "Score: 3.42403 (8% better (less) than baseline)"
   ]
  }
 ],
 "metadata": {
  "hide_input": false,
  "kernelspec": {
   "display_name": "Python 3 (ipykernel)",
   "language": "python",
   "name": "python3"
  },
  "language_info": {
   "codemirror_mode": {
    "name": "ipython",
    "version": 3
   },
   "file_extension": ".py",
   "mimetype": "text/x-python",
   "name": "python",
   "nbconvert_exporter": "python",
   "pygments_lexer": "ipython3",
   "version": "3.9.13"
  },
  "toc": {
   "base_numbering": 1,
   "nav_menu": {},
   "number_sections": true,
   "sideBar": true,
   "skip_h1_title": false,
   "title_cell": "Table of Contents",
   "title_sidebar": "Contents",
   "toc_cell": false,
   "toc_position": {
    "height": "calc(100% - 180px)",
    "left": "10px",
    "top": "150px",
    "width": "384px"
   },
   "toc_section_display": true,
   "toc_window_display": true
  }
 },
 "nbformat": 4,
 "nbformat_minor": 5
}
