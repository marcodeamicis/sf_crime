{
 "cells": [
  {
   "cell_type": "markdown",
   "id": "19619151",
   "metadata": {},
   "source": [
    "# Business and data understanding\n",
    "\n",
    "## Purpose\n",
    "This notebook contains the data preparation phase for the .\n",
    "\n",
    "## Tasks\n",
    "- [x] Attributes that are present in training and testing datasets:\n",
    "    - 'Dates', 'DayOfWeek', 'PdDistrict', 'Address', 'X', 'Y'\n",
    "- [x] Atributte 'Dates' will be replaced by 'dates_year', 'dates_month', 'dates_day', 'dates_hour', 'is_daytime'.\n",
    "- [x] Attribute 'Address' will be replaced by 'simplified_address'\n",
    "- [x] Attributes 'X' and 'Y' needs a preprocessing to replace 67"
   ]
  },
  {
   "cell_type": "markdown",
   "id": "d3ed9e54",
   "metadata": {},
   "source": [
    "# Setup\n",
    "\n",
    "## Library import"
   ]
  },
  {
   "cell_type": "code",
   "execution_count": 1,
   "id": "dc9e6010",
   "metadata": {
    "ExecuteTime": {
     "end_time": "2022-10-26T00:50:12.389304Z",
     "start_time": "2022-10-26T00:50:10.309305Z"
    }
   },
   "outputs": [
    {
     "data": {
      "text/html": [
       "        <script type=\"text/javascript\">\n",
       "        window.PlotlyConfig = {MathJaxConfig: 'local'};\n",
       "        if (window.MathJax && window.MathJax.Hub && window.MathJax.Hub.Config) {window.MathJax.Hub.Config({SVG: {font: \"STIX-Web\"}});}\n",
       "        if (typeof require !== 'undefined') {\n",
       "        require.undef(\"plotly\");\n",
       "        requirejs.config({\n",
       "            paths: {\n",
       "                'plotly': ['https://cdn.plot.ly/plotly-2.14.0.min']\n",
       "            }\n",
       "        });\n",
       "        require(['plotly'], function(Plotly) {\n",
       "            window._Plotly = Plotly;\n",
       "        });\n",
       "        }\n",
       "        </script>\n",
       "        "
      ]
     },
     "metadata": {},
     "output_type": "display_data"
    }
   ],
   "source": [
    "from datetime import datetime \n",
    "import os\n",
    "from pathlib import Path\n",
    "\n",
    "from feature_engine.encoding import CountFrequencyEncoder, RareLabelEncoder, OneHotEncoder, OrdinalEncoder\n",
    "import folium\n",
    "import humps\n",
    "import matplotlib.pyplot as plt\n",
    "import numpy as np\n",
    "import pandas as pd\n",
    "from sklearn.compose import ColumnTransformer\n",
    "from sklearn.model_selection import train_test_split\n",
    "from sklearn.pipeline import Pipeline\n",
    "from sklearn.preprocessing import MinMaxScaler\n",
    "import seaborn as sns\n",
    "import plotly\n",
    "import plotly.express as px\n",
    "import plotly.graph_objs as go\n",
    "import plotly.offline as ply\n",
    "\n",
    "# Autoreload extension\n",
    "if 'autoreload' not in get_ipython().extension_manager.loaded:\n",
    "    %load_ext autoreload\n",
    "\n",
    "%autoreload 2\n",
    "\n",
    "# Options for pandas and plotly\n",
    "pd.options.display.max_columns = None\n",
    "pd.options.display.max_rows = 100\n",
    "pd.options.display.max_colwidth = 200\n",
    "plotly.offline.init_notebook_mode(connected=True)"
   ]
  },
  {
   "cell_type": "markdown",
   "id": "5e29a9ac",
   "metadata": {},
   "source": [
    "## Local library import"
   ]
  },
  {
   "cell_type": "code",
   "execution_count": 2,
   "id": "99479f09",
   "metadata": {
    "ExecuteTime": {
     "end_time": "2022-10-26T00:50:12.547303Z",
     "start_time": "2022-10-26T00:50:12.391304Z"
    }
   },
   "outputs": [],
   "source": [
    "if Path.cwd().name == 'notebooks':\n",
    "    os.chdir('../')\n",
    "\n",
    "from src.utils.data_describe import serie_nulos, cardinalidade\n",
    "from src.data.data_preprocessing import (\n",
    "    TransformCordinates, ScaleMinMax, address_split, create_date_based_columns,\n",
    "    snake_case_columns, create_simplified_address_column, one_hot_encoding_target,\n",
    "    ordinal_encoding_target, cyclic_encoding\n",
    ")\n",
    "\n",
    "if Path.cwd().name == 'sf_crime':\n",
    "    os.chdir('./notebooks/')"
   ]
  },
  {
   "cell_type": "markdown",
   "id": "bff36a68",
   "metadata": {},
   "source": [
    "## Parameter definition\n",
    "We set all relevant parameters for our notebook. By convention, parameters are uppercase, while all the \n",
    "other variables follow Python's guidelines."
   ]
  },
  {
   "cell_type": "code",
   "execution_count": 3,
   "id": "76cda470",
   "metadata": {
    "ExecuteTime": {
     "end_time": "2022-10-26T00:50:12.670320Z",
     "start_time": "2022-10-26T00:50:12.548304Z"
    }
   },
   "outputs": [],
   "source": [
    "RAW_DATA = '../data/raw/' \n",
    "EXTERNAL_DATA = '../data/external/' \n",
    "INTERIM_DATA = '../data/interim/' \n",
    "PROCESSED_DATA = '../data/processed/'\n",
    "REFERENCES = '../references/'\n",
    "RANDOM_STATE = 42"
   ]
  },
  {
   "cell_type": "markdown",
   "id": "3f62c0d0",
   "metadata": {},
   "source": [
    "## Data import\n",
    "We retrieve all the required data for the analysis."
   ]
  },
  {
   "cell_type": "code",
   "execution_count": 4,
   "id": "51e70854",
   "metadata": {
    "ExecuteTime": {
     "end_time": "2022-10-26T00:50:13.876408Z",
     "start_time": "2022-10-26T00:50:13.267407Z"
    }
   },
   "outputs": [
    {
     "name": "stdout",
     "output_type": "stream",
     "text": [
      "Parquet file loaded.\n",
      "Train dataset size: (878049, 9)\n",
      "Kaggle's test dataset size: (884262, 7)\n"
     ]
    },
    {
     "data": {
      "text/html": [
       "<div>\n",
       "<style scoped>\n",
       "    .dataframe tbody tr th:only-of-type {\n",
       "        vertical-align: middle;\n",
       "    }\n",
       "\n",
       "    .dataframe tbody tr th {\n",
       "        vertical-align: top;\n",
       "    }\n",
       "\n",
       "    .dataframe thead th {\n",
       "        text-align: right;\n",
       "    }\n",
       "</style>\n",
       "<table border=\"1\" class=\"dataframe\">\n",
       "  <thead>\n",
       "    <tr style=\"text-align: right;\">\n",
       "      <th></th>\n",
       "      <th>Dates</th>\n",
       "      <th>Category</th>\n",
       "      <th>Descript</th>\n",
       "      <th>DayOfWeek</th>\n",
       "      <th>PdDistrict</th>\n",
       "      <th>Resolution</th>\n",
       "      <th>Address</th>\n",
       "      <th>X</th>\n",
       "      <th>Y</th>\n",
       "    </tr>\n",
       "  </thead>\n",
       "  <tbody>\n",
       "    <tr>\n",
       "      <th>878046</th>\n",
       "      <td>2003-01-06 00:01:00</td>\n",
       "      <td>LARCENY/THEFT</td>\n",
       "      <td>GRAND THEFT FROM LOCKED AUTO</td>\n",
       "      <td>Monday</td>\n",
       "      <td>SOUTHERN</td>\n",
       "      <td>NONE</td>\n",
       "      <td>5TH ST / FOLSOM ST</td>\n",
       "      <td>-122.403390</td>\n",
       "      <td>37.780266</td>\n",
       "    </tr>\n",
       "    <tr>\n",
       "      <th>878047</th>\n",
       "      <td>2003-01-06 00:01:00</td>\n",
       "      <td>VANDALISM</td>\n",
       "      <td>MALICIOUS MISCHIEF, VANDALISM OF VEHICLES</td>\n",
       "      <td>Monday</td>\n",
       "      <td>SOUTHERN</td>\n",
       "      <td>NONE</td>\n",
       "      <td>TOWNSEND ST / 2ND ST</td>\n",
       "      <td>-122.390531</td>\n",
       "      <td>37.780607</td>\n",
       "    </tr>\n",
       "    <tr>\n",
       "      <th>878048</th>\n",
       "      <td>2003-01-06 00:01:00</td>\n",
       "      <td>FORGERY/COUNTERFEITING</td>\n",
       "      <td>CHECKS, FORGERY (FELONY)</td>\n",
       "      <td>Monday</td>\n",
       "      <td>BAYVIEW</td>\n",
       "      <td>NONE</td>\n",
       "      <td>1800 Block of NEWCOMB AV</td>\n",
       "      <td>-122.394926</td>\n",
       "      <td>37.738212</td>\n",
       "    </tr>\n",
       "  </tbody>\n",
       "</table>\n",
       "</div>"
      ],
      "text/plain": [
       "                     Dates                Category  \\\n",
       "878046 2003-01-06 00:01:00           LARCENY/THEFT   \n",
       "878047 2003-01-06 00:01:00               VANDALISM   \n",
       "878048 2003-01-06 00:01:00  FORGERY/COUNTERFEITING   \n",
       "\n",
       "                                         Descript DayOfWeek PdDistrict  \\\n",
       "878046               GRAND THEFT FROM LOCKED AUTO    Monday   SOUTHERN   \n",
       "878047  MALICIOUS MISCHIEF, VANDALISM OF VEHICLES    Monday   SOUTHERN   \n",
       "878048                   CHECKS, FORGERY (FELONY)    Monday    BAYVIEW   \n",
       "\n",
       "       Resolution                   Address           X          Y  \n",
       "878046       NONE        5TH ST / FOLSOM ST -122.403390  37.780266  \n",
       "878047       NONE      TOWNSEND ST / 2ND ST -122.390531  37.780607  \n",
       "878048       NONE  1800 Block of NEWCOMB AV -122.394926  37.738212  "
      ]
     },
     "execution_count": 4,
     "metadata": {},
     "output_type": "execute_result"
    }
   ],
   "source": [
    "try:\n",
    "    df = pd.read_parquet(EXTERNAL_DATA + 'train.pqt')\n",
    "    X_kaggle_test = pd.read_parquet(EXTERNAL_DATA + 'test.pqt')\n",
    "    print('Parquet file loaded.')\n",
    "\n",
    "except FileNotFoundError as e:\n",
    "    df = pd.read_csv(\n",
    "        EXTERNAL_DATA + 'train.csv',\n",
    "        parse_dates=['Dates'],\n",
    "        dtype={'X': float, 'Y': float}\n",
    "    )\n",
    "    df.to_parquet(EXTERNAL_DATA + 'train.pqt', index=False)\n",
    "    \n",
    "    X_kaggle_test = pd.read_csv(\n",
    "        EXTERNAL_DATA + 'test.csv',\n",
    "        parse_dates=['Dates'],\n",
    "        dtype={'X': float, 'Y': float}\n",
    "    )\n",
    "    X_kaggle_test.to_parquet(EXTERNAL_DATA + 'test.pqt', index=False)\n",
    "    \n",
    "    print('CSV file loaded and parquet created.')\n",
    "\n",
    "print(f\"\"\"Train dataset size: {df.shape}\n",
    "Kaggle's test dataset size: {X_kaggle_test.shape}\"\"\")\n",
    "\n",
    "df.tail(3)"
   ]
  },
  {
   "cell_type": "code",
   "execution_count": 5,
   "id": "a70ad961",
   "metadata": {
    "ExecuteTime": {
     "end_time": "2022-10-26T00:50:14.778249Z",
     "start_time": "2022-10-26T00:50:14.595210Z"
    }
   },
   "outputs": [
    {
     "data": {
      "text/html": [
       "<div>\n",
       "<style scoped>\n",
       "    .dataframe tbody tr th:only-of-type {\n",
       "        vertical-align: middle;\n",
       "    }\n",
       "\n",
       "    .dataframe tbody tr th {\n",
       "        vertical-align: top;\n",
       "    }\n",
       "\n",
       "    .dataframe thead th {\n",
       "        text-align: right;\n",
       "    }\n",
       "</style>\n",
       "<table border=\"1\" class=\"dataframe\">\n",
       "  <thead>\n",
       "    <tr style=\"text-align: right;\">\n",
       "      <th></th>\n",
       "      <th>dates</th>\n",
       "      <th>day_of_week</th>\n",
       "      <th>pd_district</th>\n",
       "      <th>address</th>\n",
       "      <th>x</th>\n",
       "      <th>y</th>\n",
       "      <th>category</th>\n",
       "    </tr>\n",
       "  </thead>\n",
       "  <tbody>\n",
       "    <tr>\n",
       "      <th>0</th>\n",
       "      <td>2015-05-13 23:53:00</td>\n",
       "      <td>Wednesday</td>\n",
       "      <td>NORTHERN</td>\n",
       "      <td>OAK ST / LAGUNA ST</td>\n",
       "      <td>-122.425892</td>\n",
       "      <td>37.774599</td>\n",
       "      <td>WARRANTS</td>\n",
       "    </tr>\n",
       "    <tr>\n",
       "      <th>1</th>\n",
       "      <td>2015-05-13 23:53:00</td>\n",
       "      <td>Wednesday</td>\n",
       "      <td>NORTHERN</td>\n",
       "      <td>OAK ST / LAGUNA ST</td>\n",
       "      <td>-122.425892</td>\n",
       "      <td>37.774599</td>\n",
       "      <td>OTHER OFFENSES</td>\n",
       "    </tr>\n",
       "    <tr>\n",
       "      <th>2</th>\n",
       "      <td>2015-05-13 23:33:00</td>\n",
       "      <td>Wednesday</td>\n",
       "      <td>NORTHERN</td>\n",
       "      <td>VANNESS AV / GREENWICH ST</td>\n",
       "      <td>-122.424363</td>\n",
       "      <td>37.800414</td>\n",
       "      <td>OTHER OFFENSES</td>\n",
       "    </tr>\n",
       "    <tr>\n",
       "      <th>3</th>\n",
       "      <td>2015-05-13 23:30:00</td>\n",
       "      <td>Wednesday</td>\n",
       "      <td>NORTHERN</td>\n",
       "      <td>1500 Block of LOMBARD ST</td>\n",
       "      <td>-122.426995</td>\n",
       "      <td>37.800873</td>\n",
       "      <td>LARCENY/THEFT</td>\n",
       "    </tr>\n",
       "    <tr>\n",
       "      <th>4</th>\n",
       "      <td>2015-05-13 23:30:00</td>\n",
       "      <td>Wednesday</td>\n",
       "      <td>PARK</td>\n",
       "      <td>100 Block of BRODERICK ST</td>\n",
       "      <td>-122.438738</td>\n",
       "      <td>37.771541</td>\n",
       "      <td>LARCENY/THEFT</td>\n",
       "    </tr>\n",
       "  </tbody>\n",
       "</table>\n",
       "</div>"
      ],
      "text/plain": [
       "                dates day_of_week pd_district                    address  \\\n",
       "0 2015-05-13 23:53:00   Wednesday    NORTHERN         OAK ST / LAGUNA ST   \n",
       "1 2015-05-13 23:53:00   Wednesday    NORTHERN         OAK ST / LAGUNA ST   \n",
       "2 2015-05-13 23:33:00   Wednesday    NORTHERN  VANNESS AV / GREENWICH ST   \n",
       "3 2015-05-13 23:30:00   Wednesday    NORTHERN   1500 Block of LOMBARD ST   \n",
       "4 2015-05-13 23:30:00   Wednesday        PARK  100 Block of BRODERICK ST   \n",
       "\n",
       "            x          y        category  \n",
       "0 -122.425892  37.774599        WARRANTS  \n",
       "1 -122.425892  37.774599  OTHER OFFENSES  \n",
       "2 -122.424363  37.800414  OTHER OFFENSES  \n",
       "3 -122.426995  37.800873   LARCENY/THEFT  \n",
       "4 -122.438738  37.771541   LARCENY/THEFT  "
      ]
     },
     "execution_count": 5,
     "metadata": {},
     "output_type": "execute_result"
    }
   ],
   "source": [
    "# Train and validation datasets\n",
    "df_prepared = df[['Dates', 'DayOfWeek', 'PdDistrict', 'Address', 'X', 'Y', 'Category']].copy()\n",
    "df_prepared = snake_case_columns(df_prepared)\n",
    "\n",
    "df_prepared.head()"
   ]
  },
  {
   "cell_type": "code",
   "execution_count": 6,
   "id": "b6616c26",
   "metadata": {
    "ExecuteTime": {
     "end_time": "2022-10-26T00:50:15.800361Z",
     "start_time": "2022-10-26T00:50:15.628218Z"
    }
   },
   "outputs": [
    {
     "data": {
      "text/html": [
       "<div>\n",
       "<style scoped>\n",
       "    .dataframe tbody tr th:only-of-type {\n",
       "        vertical-align: middle;\n",
       "    }\n",
       "\n",
       "    .dataframe tbody tr th {\n",
       "        vertical-align: top;\n",
       "    }\n",
       "\n",
       "    .dataframe thead th {\n",
       "        text-align: right;\n",
       "    }\n",
       "</style>\n",
       "<table border=\"1\" class=\"dataframe\">\n",
       "  <thead>\n",
       "    <tr style=\"text-align: right;\">\n",
       "      <th></th>\n",
       "      <th>dates</th>\n",
       "      <th>day_of_week</th>\n",
       "      <th>pd_district</th>\n",
       "      <th>address</th>\n",
       "      <th>x</th>\n",
       "      <th>y</th>\n",
       "    </tr>\n",
       "  </thead>\n",
       "  <tbody>\n",
       "    <tr>\n",
       "      <th>0</th>\n",
       "      <td>2015-05-10 23:59:00</td>\n",
       "      <td>Sunday</td>\n",
       "      <td>BAYVIEW</td>\n",
       "      <td>2000 Block of THOMAS AV</td>\n",
       "      <td>-122.399588</td>\n",
       "      <td>37.735051</td>\n",
       "    </tr>\n",
       "    <tr>\n",
       "      <th>1</th>\n",
       "      <td>2015-05-10 23:51:00</td>\n",
       "      <td>Sunday</td>\n",
       "      <td>BAYVIEW</td>\n",
       "      <td>3RD ST / REVERE AV</td>\n",
       "      <td>-122.391523</td>\n",
       "      <td>37.732432</td>\n",
       "    </tr>\n",
       "    <tr>\n",
       "      <th>2</th>\n",
       "      <td>2015-05-10 23:50:00</td>\n",
       "      <td>Sunday</td>\n",
       "      <td>NORTHERN</td>\n",
       "      <td>2000 Block of GOUGH ST</td>\n",
       "      <td>-122.426002</td>\n",
       "      <td>37.792212</td>\n",
       "    </tr>\n",
       "    <tr>\n",
       "      <th>3</th>\n",
       "      <td>2015-05-10 23:45:00</td>\n",
       "      <td>Sunday</td>\n",
       "      <td>INGLESIDE</td>\n",
       "      <td>4700 Block of MISSION ST</td>\n",
       "      <td>-122.437394</td>\n",
       "      <td>37.721412</td>\n",
       "    </tr>\n",
       "    <tr>\n",
       "      <th>4</th>\n",
       "      <td>2015-05-10 23:45:00</td>\n",
       "      <td>Sunday</td>\n",
       "      <td>INGLESIDE</td>\n",
       "      <td>4700 Block of MISSION ST</td>\n",
       "      <td>-122.437394</td>\n",
       "      <td>37.721412</td>\n",
       "    </tr>\n",
       "  </tbody>\n",
       "</table>\n",
       "</div>"
      ],
      "text/plain": [
       "                dates day_of_week pd_district                   address  \\\n",
       "0 2015-05-10 23:59:00      Sunday     BAYVIEW   2000 Block of THOMAS AV   \n",
       "1 2015-05-10 23:51:00      Sunday     BAYVIEW        3RD ST / REVERE AV   \n",
       "2 2015-05-10 23:50:00      Sunday    NORTHERN    2000 Block of GOUGH ST   \n",
       "3 2015-05-10 23:45:00      Sunday   INGLESIDE  4700 Block of MISSION ST   \n",
       "4 2015-05-10 23:45:00      Sunday   INGLESIDE  4700 Block of MISSION ST   \n",
       "\n",
       "            x          y  \n",
       "0 -122.399588  37.735051  \n",
       "1 -122.391523  37.732432  \n",
       "2 -122.426002  37.792212  \n",
       "3 -122.437394  37.721412  \n",
       "4 -122.437394  37.721412  "
      ]
     },
     "execution_count": 6,
     "metadata": {},
     "output_type": "execute_result"
    }
   ],
   "source": [
    "# Kaggle test dataset\n",
    "X_kaggle_test_prepared = X_kaggle_test[['Dates', 'DayOfWeek', 'PdDistrict', 'Address', 'X', 'Y']].copy()\n",
    "X_kaggle_test_prepared = snake_case_columns(X_kaggle_test_prepared)\n",
    "\n",
    "X_kaggle_test_prepared.head()"
   ]
  },
  {
   "cell_type": "markdown",
   "id": "3920889e",
   "metadata": {},
   "source": [
    "# 1st: Data preparation\n",
    "\n",
    "![](../references/02_dataprep_1st.png)"
   ]
  },
  {
   "cell_type": "code",
   "execution_count": null,
   "id": "09674b44",
   "metadata": {
    "ExecuteTime": {
     "end_time": "2022-10-25T12:55:34.042390Z",
     "start_time": "2022-10-25T12:55:33.812044Z"
    }
   },
   "outputs": [],
   "source": [
    "df_evaluation = df[['Dates', 'DayOfWeek', 'PdDistrict', 'Address', 'X', 'Y', 'Category']].copy()\n",
    "df_evaluation = snake_case_columns(df_evaluation)\n",
    "\n",
    "df_evaluation.head()"
   ]
  },
  {
   "cell_type": "markdown",
   "id": "4067a811",
   "metadata": {},
   "source": [
    "## Target: 'category'\n",
    "\n",
    "'category' is our target and is related to 'descript'. Moreover, the attributes 'descript' and 'resolution' are present only in train dataset, therefore, they will be not used for train the model. "
   ]
  },
  {
   "cell_type": "code",
   "execution_count": null,
   "id": "24287fe3",
   "metadata": {
    "ExecuteTime": {
     "end_time": "2022-10-25T12:55:35.027356Z",
     "start_time": "2022-10-25T12:55:34.045241Z"
    }
   },
   "outputs": [],
   "source": [
    "# Creating dataframe that will be used to produce the graph.\n",
    "df_graph = df_evaluation.groupby(by=['category']).agg({'address': 'count'}).rename(\n",
    "    columns={'address': 'count'}\n",
    ").reset_index()\n",
    "df_graph['prop'] = round(100 * df_graph['count'] / df_graph['count'].sum(), 1)\n",
    "\n",
    "df_graph.sort_values(by=['count'], inplace=True, ascending=False)\n",
    "\n",
    "# Graph\n",
    "fig, ax = plt.subplots(figsize=(10, 5))\n",
    "sns.barplot(data=df_graph[:20], y='category', x='prop', ax=ax)\n",
    "ax.set(\n",
    "    xlabel='Occurence proportion (total in period) - %', ylabel='Category of crimes',\n",
    "    title=f\"Proportion of occurences in the period ({df_evaluation['dates'].dt.date.min()} - {df_evaluation['dates'].dt.date.max()})\"\n",
    ")\n",
    "ax.bar_label(ax.containers[0]);"
   ]
  },
  {
   "cell_type": "markdown",
   "id": "08a16f24",
   "metadata": {},
   "source": [
    "## Attribute: 'dates'"
   ]
  },
  {
   "cell_type": "code",
   "execution_count": null,
   "id": "a4bef803",
   "metadata": {
    "ExecuteTime": {
     "end_time": "2022-10-25T12:55:35.449517Z",
     "start_time": "2022-10-25T12:55:35.029314Z"
    }
   },
   "outputs": [],
   "source": [
    "df_evaluation = create_date_based_columns(df_evaluation)\n",
    "\n",
    "df_evaluation.head()"
   ]
  },
  {
   "cell_type": "markdown",
   "id": "c20d2b39",
   "metadata": {},
   "source": [
    "## Attribute: 'address'"
   ]
  },
  {
   "cell_type": "code",
   "execution_count": null,
   "id": "fe177d8e",
   "metadata": {
    "ExecuteTime": {
     "end_time": "2022-10-25T12:55:35.932320Z",
     "start_time": "2022-10-25T12:55:35.452030Z"
    }
   },
   "outputs": [],
   "source": [
    "if 'address' in df_evaluation.columns:\n",
    "    df_evaluation['simplified_address'] = df_evaluation['address'].apply(address_split)\n",
    "#     df_evaluation.drop(columns=['address'], inplace=True)\n",
    "else:\n",
    "    pass\n",
    "\n",
    "df_evaluation.head()"
   ]
  },
  {
   "cell_type": "markdown",
   "id": "bc3f61d1",
   "metadata": {},
   "source": [
    "## Attribute: 'x' and 'y' (or longitude and latitude)"
   ]
  },
  {
   "cell_type": "code",
   "execution_count": null,
   "id": "883bcf2a",
   "metadata": {
    "ExecuteTime": {
     "end_time": "2022-10-25T12:55:36.384178Z",
     "start_time": "2022-10-25T12:55:35.933852Z"
    }
   },
   "outputs": [],
   "source": [
    "transform_cordinates = TransformCordinates()\n",
    "transform_cordinates.fit(df_evaluation)\n",
    "transform_cordinates.transform(df_evaluation)[['x', 'y']].describe().T"
   ]
  },
  {
   "cell_type": "markdown",
   "id": "ef4e94ef",
   "metadata": {},
   "source": [
    "## Attribute: pd_district"
   ]
  },
  {
   "cell_type": "code",
   "execution_count": null,
   "id": "6197da8f",
   "metadata": {
    "ExecuteTime": {
     "end_time": "2022-10-25T12:55:36.788381Z",
     "start_time": "2022-10-25T12:55:36.387180Z"
    }
   },
   "outputs": [],
   "source": [
    "# Creating dataframe that will be used to produce the graph.\n",
    "df_graph = df_evaluation.groupby(by=['pd_district', 'dates_year']).agg({'simplified_address': 'count'}).rename(\n",
    "    columns={'simplified_address': 'count'}).reset_index()\n",
    "df_graph = df_graph.groupby(by=['pd_district']).agg({'count': 'mean'}).reset_index()\n",
    "df_graph['prop'] = round(100 * df_graph['count'] / df_graph['count'].sum(), 1)\n",
    "df_graph.sort_values(by=['count'], inplace=True, ascending=False)\n",
    "\n",
    "# Graph\n",
    "fig, ax = plt.subplots(figsize=(10, 5))\n",
    "sns.barplot(data=df_graph, y='pd_district', x='prop', ax=ax)\n",
    "ax.set(\n",
    "    xlabel='Proportion of occurences (total in period) - %', ylabel='Police department districts',\n",
    "    title=f\"Proportion of occurences per PD ({df_evaluation['dates_year'].min()} - {df_evaluation['dates_year'].max()})\"\n",
    ")\n",
    "ax.bar_label(ax.containers[0]);"
   ]
  },
  {
   "cell_type": "markdown",
   "id": "03826330",
   "metadata": {},
   "source": [
    "## Attribute: address\n",
    "\n",
    "In 'address', we can see that it has a very large cardinality (23228 distinct occurences), and the largest proportion is only 3%. Here, one option can be extracting just the main street name.  name of the street, i.e., to exclude the number of the block.\n",
    "\n",
    "I found two patterns in the 'Address' atribute:\n",
    "\n",
    "1. Registries specifying the block of the street, and\n",
    "1. Registries with two streets separated with a '/'.\n",
    "\n",
    "In the first case, I will get just the street's name. And, in the second one, I will get just the firsthalf of the name (part before '/').\n",
    "\n",
    "### Comments:\n",
    "With this strategy, the number of distinct values decreased to 2031 values (~9% of the original)."
   ]
  },
  {
   "cell_type": "code",
   "execution_count": null,
   "id": "0d1cb038",
   "metadata": {
    "ExecuteTime": {
     "end_time": "2022-10-25T12:55:37.006866Z",
     "start_time": "2022-10-25T12:55:36.790284Z"
    }
   },
   "outputs": [],
   "source": [
    "df_graph = pd.DataFrame(100 * df_evaluation['address'].value_counts() / df_evaluation['address'].value_counts().sum()).reset_index()\n",
    "df_graph.columns = ['address', 'proportion']\n",
    "df_graph.head(10)"
   ]
  },
  {
   "cell_type": "code",
   "execution_count": null,
   "id": "e2e41732",
   "metadata": {
    "ExecuteTime": {
     "end_time": "2022-10-25T12:55:37.147160Z",
     "start_time": "2022-10-25T12:55:37.008359Z"
    }
   },
   "outputs": [],
   "source": [
    "df_graph['simplified_address'] = df_graph['address'].apply(address_split)\n",
    "df_temp = df_graph.groupby(by=['simplified_address']).agg({'proportion': 'sum'}).reset_index()\n",
    "df_temp.sort_values(by='proportion', ascending=False, inplace=True)\n",
    "df_temp.head(10)"
   ]
  },
  {
   "cell_type": "markdown",
   "id": "de7f30bf",
   "metadata": {},
   "source": [
    "## Transforming and splitting data"
   ]
  },
  {
   "cell_type": "markdown",
   "id": "969e9f2a",
   "metadata": {},
   "source": [
    "### Splitting"
   ]
  },
  {
   "cell_type": "code",
   "execution_count": null,
   "id": "4bb6f7af",
   "metadata": {
    "ExecuteTime": {
     "end_time": "2022-10-25T12:55:37.850117Z",
     "start_time": "2022-10-25T12:55:37.537446Z"
    }
   },
   "outputs": [],
   "source": [
    "X = df_prepared.drop(columns=['category'])\n",
    "y = df_prepared[['category']]\n",
    "\n",
    "X_train, X_validation, y_train, y_validation = train_test_split(X, y, test_size=0.1, random_state=RANDOM_STATE)\n",
    "\n",
    "print(f\"\"\"X_train: {X_train.shape}\n",
    "y_train: {y_train.shape}\n",
    "X_validation: {X_validation.shape}\n",
    "y_validation: {y_validation.shape}\"\"\")"
   ]
  },
  {
   "cell_type": "markdown",
   "id": "e398a1a1",
   "metadata": {},
   "source": [
    "### Transforming X"
   ]
  },
  {
   "cell_type": "code",
   "execution_count": null,
   "id": "99642a1b",
   "metadata": {
    "ExecuteTime": {
     "end_time": "2022-10-25T12:55:42.610474Z",
     "start_time": "2022-10-25T12:55:37.852137Z"
    }
   },
   "outputs": [],
   "source": [
    "X_train_transformed = X_train.copy()\n",
    "X_train_transformed = create_date_based_columns(X_train_transformed)\n",
    "X_train_transformed = create_simplified_address_column(X_train_transformed)\n",
    "\n",
    "X_validation_transformed = X_validation.copy()\n",
    "X_validation_transformed = create_date_based_columns(X_validation_transformed)\n",
    "X_validation_transformed = create_simplified_address_column(X_validation_transformed)\n",
    "\n",
    "X_kaggle_test_transformed = X_kaggle_test_prepared.copy()\n",
    "X_kaggle_test_transformed = create_date_based_columns(X_kaggle_test_transformed)\n",
    "X_kaggle_test_transformed = create_simplified_address_column(X_kaggle_test_transformed)\n",
    "\n",
    "pipe = Pipeline([\n",
    "    ('preprocessing', TransformCordinates(columns=['x', 'y'])),\n",
    "    ('rare', RareLabelEncoder(tol=0.01, variables=['simplified_address'])),\n",
    "    ('frequency_address', CountFrequencyEncoder(encoding_method='frequency', variables=['simplified_address'])),\n",
    "    ('frequency_others', CountFrequencyEncoder(encoding_method='frequency', variables=['pd_district', 'day_of_week']))\n",
    "])\n",
    "\n",
    "pipe.fit(X_train_transformed)\n",
    "X_train_transformed = pipe.transform(X_train_transformed)\n",
    "X_validation_transformed = pipe.transform(X_validation_transformed)\n",
    "X_kaggle_test_transformed = pipe.transform(X_kaggle_test_transformed)\n",
    "\n",
    "X_train_transformed.head(3)"
   ]
  },
  {
   "cell_type": "markdown",
   "id": "1db2ccc5",
   "metadata": {},
   "source": [
    "### Transforming y\n",
    "\n",
    "#### One hot encoding"
   ]
  },
  {
   "cell_type": "code",
   "execution_count": null,
   "id": "42d5d151",
   "metadata": {
    "ExecuteTime": {
     "end_time": "2022-10-25T12:55:44.651456Z",
     "start_time": "2022-10-25T12:55:42.613029Z"
    },
    "scrolled": true
   },
   "outputs": [],
   "source": [
    "ohe = OneHotEncoder(drop_last=False)\n",
    "y_train_ohe = ohe.fit_transform(y_train)\n",
    "y_train_ohe = y_train_ohe[sorted(y_train_ohe.columns)]\n",
    "y_train_ohe.columns = [x[9:] for x in y_train_ohe.columns]\n",
    "\n",
    "y_validation_ohe = ohe.transform(y_validation)\n",
    "y_validation_ohe = y_validation_ohe[sorted(y_validation_ohe.columns)]\n",
    "y_validation_ohe.columns = [x[9:] for x in y_validation_ohe.columns]\n",
    "\n",
    "print(f\"\"\"y_train_transformed: {y_train_ohe.shape}\n",
    "y_validation_transformed: {y_validation_ohe.shape}\"\"\")\n",
    "\n",
    "y_train_ohe.head(3)"
   ]
  },
  {
   "cell_type": "markdown",
   "id": "56e1e019",
   "metadata": {},
   "source": [
    "#### Ordinal encoder"
   ]
  },
  {
   "cell_type": "code",
   "execution_count": null,
   "id": "44d21130",
   "metadata": {
    "ExecuteTime": {
     "end_time": "2022-10-25T12:55:45.617198Z",
     "start_time": "2022-10-25T12:55:44.653478Z"
    }
   },
   "outputs": [],
   "source": [
    "y_train_ordinal = ordinal_encoding_target(y_train, column_name='category')\n",
    "\n",
    "y_validation_ordinal = ordinal_encoding_target(y_validation, column_name='category')\n",
    "\n",
    "print(f\"\"\"y_train_transformed: {y_train_ohe.shape}\n",
    "y_validation_transformed: {y_validation_ohe.shape}\"\"\")\n",
    "\n",
    "y_train_ordinal.head(3)"
   ]
  },
  {
   "cell_type": "markdown",
   "id": "2f147920",
   "metadata": {},
   "source": [
    "### Exporting prepared data to interim folder"
   ]
  },
  {
   "cell_type": "code",
   "execution_count": null,
   "id": "3d7b1bca",
   "metadata": {
    "ExecuteTime": {
     "end_time": "2022-10-25T12:55:46.843619Z",
     "start_time": "2022-10-25T12:55:45.619203Z"
    }
   },
   "outputs": [],
   "source": [
    "# Predictors / factors\n",
    "X_train_transformed.to_parquet(INTERIM_DATA + 'X_train_transformed.pqt')\n",
    "X_validation_transformed.to_parquet(INTERIM_DATA + 'X_validation_transformed.pqt')\n",
    "X_kaggle_test_transformed.to_parquet(INTERIM_DATA + 'X_kaggle_test_transformed_transformed.pqt')\n",
    "\n",
    "# Target one hot encoding\n",
    "y_train_ohe.to_parquet(INTERIM_DATA + 'y_train_ohe.pqt')\n",
    "y_validation_ohe.to_parquet(INTERIM_DATA + 'y_validation_ohe.pqt')\n",
    "\n",
    "# Target ordinal encoding\n",
    "y_train_ordinal.to_parquet(INTERIM_DATA + 'y_train_ordinal.pqt')\n",
    "y_validation_ordinal.to_parquet(INTERIM_DATA + 'y_validation_ordinal.pqt')"
   ]
  },
  {
   "cell_type": "markdown",
   "id": "0a980aed",
   "metadata": {},
   "source": [
    "# 2nd: Data preparation\n",
    "\n",
    "![](../references/02_dataprep_2nd.png)"
   ]
  },
  {
   "cell_type": "markdown",
   "id": "bff8f37e",
   "metadata": {},
   "source": [
    "### Splitting"
   ]
  },
  {
   "cell_type": "code",
   "execution_count": null,
   "id": "5a489365",
   "metadata": {
    "ExecuteTime": {
     "end_time": "2022-10-25T12:55:47.170588Z",
     "start_time": "2022-10-25T12:55:46.845180Z"
    }
   },
   "outputs": [],
   "source": [
    "X = df_prepared.drop(columns=['category'])\n",
    "y = df_prepared[['category']]\n",
    "\n",
    "X_train, X_validation, y_train, y_validation = train_test_split(X, y, test_size=0.1, random_state=RANDOM_STATE)\n",
    "\n",
    "print(f\"\"\"X_train: {X_train.shape}\n",
    "y_train: {y_train.shape}\n",
    "X_validation: {X_validation.shape}\n",
    "y_validation: {y_validation.shape}\"\"\")"
   ]
  },
  {
   "cell_type": "markdown",
   "id": "f21958a0",
   "metadata": {},
   "source": [
    "### Transforming X"
   ]
  },
  {
   "cell_type": "code",
   "execution_count": null,
   "id": "771d8466",
   "metadata": {
    "ExecuteTime": {
     "end_time": "2022-10-25T13:29:00.346995Z",
     "start_time": "2022-10-25T13:28:54.967970Z"
    }
   },
   "outputs": [],
   "source": [
    "X_train_transformed = X_train.copy()\n",
    "X_train_transformed = create_date_based_columns(X_train_transformed)\n",
    "X_train_transformed = create_simplified_address_column(X_train_transformed)\n",
    "# TODO: Create the sine and cosine features for each cyclic feature.\n",
    "X_train_transformed = cyclic_encoding(\n",
    "    df=X_train_transformed,\n",
    "    column_name=['dates_month', 'dates_day', 'dates_hour'],\n",
    "    maximum_value=[12, 31, 23]\n",
    ")\n",
    "\n",
    "X_validation_transformed = X_validation.copy()\n",
    "X_validation_transformed = create_date_based_columns(X_validation_transformed)\n",
    "X_validation_transformed = create_simplified_address_column(X_validation_transformed)\n",
    "X_validation_transformed = cyclic_encoding(\n",
    "    df=X_validation_transformed,\n",
    "    column_name=['dates_month', 'dates_day', 'dates_hour'],\n",
    "    maximum_value=[12, 31, 23]\n",
    ")\n",
    "\n",
    "X_kaggle_test_transformed = X_kaggle_test_prepared.copy()\n",
    "X_kaggle_test_transformed = create_date_based_columns(X_kaggle_test_transformed)\n",
    "X_kaggle_test_transformed = create_simplified_address_column(X_kaggle_test_transformed)\n",
    "X_kaggle_test_transformed = cyclic_encoding(\n",
    "    df=X_kaggle_test_transformed,\n",
    "    column_name=['dates_month', 'dates_day', 'dates_hour'],\n",
    "    maximum_value=[12, 31, 23]\n",
    ")\n",
    "\n",
    "pipe = Pipeline([\n",
    "    ('preprocessing', TransformCordinates(columns=['x', 'y'])),\n",
    "    ('rare', RareLabelEncoder(tol=0.01, variables=['simplified_address'])),\n",
    "    ('frequency_address', CountFrequencyEncoder(encoding_method='frequency', variables=['simplified_address'])),\n",
    "    ('frequency_others', CountFrequencyEncoder(encoding_method='frequency', variables=['pd_district', 'day_of_week']))\n",
    "])\n",
    "\n",
    "pipe.fit(X_train_transformed)\n",
    "X_train_transformed = pipe.transform(X_train_transformed)\n",
    "X_validation_transformed = pipe.transform(X_validation_transformed)\n",
    "X_kaggle_test_transformed = pipe.transform(X_kaggle_test_transformed)\n",
    "\n",
    "X_train_transformed.head(3)"
   ]
  },
  {
   "cell_type": "markdown",
   "id": "cd2b2f31",
   "metadata": {},
   "source": [
    "### Transforming y\n",
    "\n",
    "#### Ordinal encoder"
   ]
  },
  {
   "cell_type": "code",
   "execution_count": null,
   "id": "6b6de9cd",
   "metadata": {
    "ExecuteTime": {
     "end_time": "2022-10-25T13:29:01.344951Z",
     "start_time": "2022-10-25T13:29:00.348946Z"
    }
   },
   "outputs": [],
   "source": [
    "y_train_ordinal = ordinal_encoding_target(y_train, column_name='category')\n",
    "\n",
    "y_validation_ordinal = ordinal_encoding_target(y_validation, column_name='category')\n",
    "\n",
    "print(f\"\"\"y_train_transformed: {y_train_ohe.shape}\n",
    "y_validation_transformed: {y_validation_ohe.shape}\"\"\")\n",
    "\n",
    "y_train_ordinal.head(3)"
   ]
  },
  {
   "cell_type": "markdown",
   "id": "aceb8462",
   "metadata": {},
   "source": [
    "### Exporting prepared data to interim folder"
   ]
  },
  {
   "cell_type": "code",
   "execution_count": null,
   "id": "289414ad",
   "metadata": {
    "ExecuteTime": {
     "end_time": "2022-10-25T13:29:02.256987Z",
     "start_time": "2022-10-25T13:29:01.346947Z"
    }
   },
   "outputs": [],
   "source": [
    "# Predictors / factors\n",
    "X_train_transformed.to_parquet(INTERIM_DATA + 'X_train_transformed_2nd_dataprep.pqt')\n",
    "X_validation_transformed.to_parquet(INTERIM_DATA + 'X_validation_transformed_2nd_dataprep.pqt')\n",
    "X_kaggle_test_transformed.to_parquet(INTERIM_DATA + 'X_kaggle_test_transformed_transformed_2nd_dataprep.pqt')\n",
    "\n",
    "# Target ordinal encoding\n",
    "y_train_ordinal.to_parquet(INTERIM_DATA + 'y_train_ordinal.pqt')\n",
    "y_validation_ordinal.to_parquet(INTERIM_DATA + 'y_validation_ordinal.pqt')"
   ]
  },
  {
   "cell_type": "markdown",
   "id": "3dddbc03",
   "metadata": {},
   "source": [
    "# 3rd: Data preparation: MinMax scaling\n",
    "\n",
    "![](../references/02_dataprep_2nd.png)"
   ]
  },
  {
   "cell_type": "markdown",
   "id": "3b2aad13",
   "metadata": {},
   "source": [
    "### Splitting"
   ]
  },
  {
   "cell_type": "code",
   "execution_count": 7,
   "id": "9732668c",
   "metadata": {
    "ExecuteTime": {
     "end_time": "2022-10-26T00:50:21.135378Z",
     "start_time": "2022-10-26T00:50:20.858780Z"
    }
   },
   "outputs": [
    {
     "name": "stdout",
     "output_type": "stream",
     "text": [
      "X_train: (790244, 6)\n",
      "y_train: (790244, 1)\n",
      "X_validation: (87805, 6)\n",
      "y_validation: (87805, 1)\n"
     ]
    }
   ],
   "source": [
    "X = df_prepared.drop(columns=['category'])\n",
    "y = df_prepared[['category']]\n",
    "\n",
    "X_train, X_validation, y_train, y_validation = train_test_split(X, y, test_size=0.1, random_state=RANDOM_STATE)\n",
    "\n",
    "print(f\"\"\"X_train: {X_train.shape}\n",
    "y_train: {y_train.shape}\n",
    "X_validation: {X_validation.shape}\n",
    "y_validation: {y_validation.shape}\"\"\")"
   ]
  },
  {
   "cell_type": "markdown",
   "id": "242702b7",
   "metadata": {},
   "source": [
    "### Transforming X"
   ]
  },
  {
   "cell_type": "code",
   "execution_count": 14,
   "id": "2c699316",
   "metadata": {
    "ExecuteTime": {
     "end_time": "2022-10-26T00:56:13.440813Z",
     "start_time": "2022-10-26T00:56:08.032778Z"
    }
   },
   "outputs": [
    {
     "data": {
      "text/html": [
       "<div>\n",
       "<style scoped>\n",
       "    .dataframe tbody tr th:only-of-type {\n",
       "        vertical-align: middle;\n",
       "    }\n",
       "\n",
       "    .dataframe tbody tr th {\n",
       "        vertical-align: top;\n",
       "    }\n",
       "\n",
       "    .dataframe thead th {\n",
       "        text-align: right;\n",
       "    }\n",
       "</style>\n",
       "<table border=\"1\" class=\"dataframe\">\n",
       "  <thead>\n",
       "    <tr style=\"text-align: right;\">\n",
       "      <th></th>\n",
       "      <th>dates_year</th>\n",
       "      <th>is_daytime</th>\n",
       "      <th>day_of_week</th>\n",
       "      <th>pd_district</th>\n",
       "      <th>x</th>\n",
       "      <th>y</th>\n",
       "      <th>simplified_address</th>\n",
       "      <th>dates_month_sin</th>\n",
       "      <th>dates_month_cos</th>\n",
       "      <th>dates_day_sin</th>\n",
       "      <th>dates_day_cos</th>\n",
       "      <th>dates_hour_sin</th>\n",
       "      <th>dates_hour_cos</th>\n",
       "    </tr>\n",
       "  </thead>\n",
       "  <tbody>\n",
       "    <tr>\n",
       "      <th>251113</th>\n",
       "      <td>2011</td>\n",
       "      <td>1</td>\n",
       "      <td>0.147319</td>\n",
       "      <td>0.097218</td>\n",
       "      <td>-122.411519</td>\n",
       "      <td>37.786941</td>\n",
       "      <td>0.776874</td>\n",
       "      <td>0.500000</td>\n",
       "      <td>1.000000</td>\n",
       "      <td>0.213861</td>\n",
       "      <td>0.910151</td>\n",
       "      <td>0.815329</td>\n",
       "      <td>0.107990</td>\n",
       "    </tr>\n",
       "    <tr>\n",
       "      <th>392823</th>\n",
       "      <td>2009</td>\n",
       "      <td>0</td>\n",
       "      <td>0.132910</td>\n",
       "      <td>0.119973</td>\n",
       "      <td>-122.424607</td>\n",
       "      <td>37.789043</td>\n",
       "      <td>0.776874</td>\n",
       "      <td>0.250000</td>\n",
       "      <td>0.933013</td>\n",
       "      <td>0.600393</td>\n",
       "      <td>0.989739</td>\n",
       "      <td>0.759512</td>\n",
       "      <td>0.926869</td>\n",
       "    </tr>\n",
       "    <tr>\n",
       "      <th>157077</th>\n",
       "      <td>2013</td>\n",
       "      <td>0</td>\n",
       "      <td>0.142289</td>\n",
       "      <td>0.074496</td>\n",
       "      <td>-122.472725</td>\n",
       "      <td>37.731394</td>\n",
       "      <td>0.776874</td>\n",
       "      <td>0.933013</td>\n",
       "      <td>0.250000</td>\n",
       "      <td>0.449062</td>\n",
       "      <td>0.000000</td>\n",
       "      <td>0.364361</td>\n",
       "      <td>0.981372</td>\n",
       "    </tr>\n",
       "    <tr>\n",
       "      <th>408259</th>\n",
       "      <td>2009</td>\n",
       "      <td>1</td>\n",
       "      <td>0.142262</td>\n",
       "      <td>0.051560</td>\n",
       "      <td>-122.482454</td>\n",
       "      <td>37.777310</td>\n",
       "      <td>0.776874</td>\n",
       "      <td>0.066987</td>\n",
       "      <td>0.250000</td>\n",
       "      <td>0.104037</td>\n",
       "      <td>0.191874</td>\n",
       "      <td>0.431254</td>\n",
       "      <td>0.000000</td>\n",
       "    </tr>\n",
       "    <tr>\n",
       "      <th>334681</th>\n",
       "      <td>2010</td>\n",
       "      <td>1</td>\n",
       "      <td>0.152310</td>\n",
       "      <td>0.119973</td>\n",
       "      <td>-122.423157</td>\n",
       "      <td>37.790209</td>\n",
       "      <td>0.776874</td>\n",
       "      <td>0.000000</td>\n",
       "      <td>0.500000</td>\n",
       "      <td>0.005127</td>\n",
       "      <td>0.574623</td>\n",
       "      <td>0.299984</td>\n",
       "      <td>0.036909</td>\n",
       "    </tr>\n",
       "    <tr>\n",
       "      <th>...</th>\n",
       "      <td>...</td>\n",
       "      <td>...</td>\n",
       "      <td>...</td>\n",
       "      <td>...</td>\n",
       "      <td>...</td>\n",
       "      <td>...</td>\n",
       "      <td>...</td>\n",
       "      <td>...</td>\n",
       "      <td>...</td>\n",
       "      <td>...</td>\n",
       "      <td>...</td>\n",
       "      <td>...</td>\n",
       "      <td>...</td>\n",
       "    </tr>\n",
       "    <tr>\n",
       "      <th>259178</th>\n",
       "      <td>2011</td>\n",
       "      <td>1</td>\n",
       "      <td>0.138624</td>\n",
       "      <td>0.093148</td>\n",
       "      <td>-122.405895</td>\n",
       "      <td>37.786734</td>\n",
       "      <td>0.012892</td>\n",
       "      <td>0.250000</td>\n",
       "      <td>0.933013</td>\n",
       "      <td>0.649457</td>\n",
       "      <td>0.020417</td>\n",
       "      <td>0.000000</td>\n",
       "      <td>0.463380</td>\n",
       "    </tr>\n",
       "    <tr>\n",
       "      <th>365838</th>\n",
       "      <td>2010</td>\n",
       "      <td>0</td>\n",
       "      <td>0.152310</td>\n",
       "      <td>0.179080</td>\n",
       "      <td>-122.396759</td>\n",
       "      <td>37.773173</td>\n",
       "      <td>0.776874</td>\n",
       "      <td>0.933013</td>\n",
       "      <td>0.250000</td>\n",
       "      <td>0.984028</td>\n",
       "      <td>0.373065</td>\n",
       "      <td>0.364361</td>\n",
       "      <td>0.981372</td>\n",
       "    </tr>\n",
       "    <tr>\n",
       "      <th>131932</th>\n",
       "      <td>2013</td>\n",
       "      <td>0</td>\n",
       "      <td>0.144286</td>\n",
       "      <td>0.136463</td>\n",
       "      <td>-122.426956</td>\n",
       "      <td>37.769247</td>\n",
       "      <td>0.039924</td>\n",
       "      <td>0.066987</td>\n",
       "      <td>0.250000</td>\n",
       "      <td>0.948869</td>\n",
       "      <td>0.277951</td>\n",
       "      <td>0.364361</td>\n",
       "      <td>0.981372</td>\n",
       "    </tr>\n",
       "    <tr>\n",
       "      <th>671155</th>\n",
       "      <td>2005</td>\n",
       "      <td>0</td>\n",
       "      <td>0.152310</td>\n",
       "      <td>0.102038</td>\n",
       "      <td>-122.386942</td>\n",
       "      <td>37.754168</td>\n",
       "      <td>0.776874</td>\n",
       "      <td>0.250000</td>\n",
       "      <td>0.933013</td>\n",
       "      <td>0.862308</td>\n",
       "      <td>0.844083</td>\n",
       "      <td>0.989530</td>\n",
       "      <td>0.599865</td>\n",
       "    </tr>\n",
       "    <tr>\n",
       "      <th>121958</th>\n",
       "      <td>2013</td>\n",
       "      <td>1</td>\n",
       "      <td>0.138624</td>\n",
       "      <td>0.179080</td>\n",
       "      <td>-122.408068</td>\n",
       "      <td>37.783992</td>\n",
       "      <td>0.039924</td>\n",
       "      <td>0.000000</td>\n",
       "      <td>0.500000</td>\n",
       "      <td>0.398965</td>\n",
       "      <td>0.989739</td>\n",
       "      <td>0.431254</td>\n",
       "      <td>0.000000</td>\n",
       "    </tr>\n",
       "  </tbody>\n",
       "</table>\n",
       "<p>790244 rows × 13 columns</p>\n",
       "</div>"
      ],
      "text/plain": [
       "        dates_year  is_daytime  day_of_week  pd_district           x  \\\n",
       "251113        2011           1     0.147319     0.097218 -122.411519   \n",
       "392823        2009           0     0.132910     0.119973 -122.424607   \n",
       "157077        2013           0     0.142289     0.074496 -122.472725   \n",
       "408259        2009           1     0.142262     0.051560 -122.482454   \n",
       "334681        2010           1     0.152310     0.119973 -122.423157   \n",
       "...            ...         ...          ...          ...         ...   \n",
       "259178        2011           1     0.138624     0.093148 -122.405895   \n",
       "365838        2010           0     0.152310     0.179080 -122.396759   \n",
       "131932        2013           0     0.144286     0.136463 -122.426956   \n",
       "671155        2005           0     0.152310     0.102038 -122.386942   \n",
       "121958        2013           1     0.138624     0.179080 -122.408068   \n",
       "\n",
       "                y  simplified_address  dates_month_sin  dates_month_cos  \\\n",
       "251113  37.786941            0.776874         0.500000         1.000000   \n",
       "392823  37.789043            0.776874         0.250000         0.933013   \n",
       "157077  37.731394            0.776874         0.933013         0.250000   \n",
       "408259  37.777310            0.776874         0.066987         0.250000   \n",
       "334681  37.790209            0.776874         0.000000         0.500000   \n",
       "...           ...                 ...              ...              ...   \n",
       "259178  37.786734            0.012892         0.250000         0.933013   \n",
       "365838  37.773173            0.776874         0.933013         0.250000   \n",
       "131932  37.769247            0.039924         0.066987         0.250000   \n",
       "671155  37.754168            0.776874         0.250000         0.933013   \n",
       "121958  37.783992            0.039924         0.000000         0.500000   \n",
       "\n",
       "        dates_day_sin  dates_day_cos  dates_hour_sin  dates_hour_cos  \n",
       "251113       0.213861       0.910151        0.815329        0.107990  \n",
       "392823       0.600393       0.989739        0.759512        0.926869  \n",
       "157077       0.449062       0.000000        0.364361        0.981372  \n",
       "408259       0.104037       0.191874        0.431254        0.000000  \n",
       "334681       0.005127       0.574623        0.299984        0.036909  \n",
       "...               ...            ...             ...             ...  \n",
       "259178       0.649457       0.020417        0.000000        0.463380  \n",
       "365838       0.984028       0.373065        0.364361        0.981372  \n",
       "131932       0.948869       0.277951        0.364361        0.981372  \n",
       "671155       0.862308       0.844083        0.989530        0.599865  \n",
       "121958       0.398965       0.989739        0.431254        0.000000  \n",
       "\n",
       "[790244 rows x 13 columns]"
      ]
     },
     "execution_count": 14,
     "metadata": {},
     "output_type": "execute_result"
    }
   ],
   "source": [
    "X_train_transformed = X_train.copy()\n",
    "X_train_transformed = create_date_based_columns(X_train_transformed)\n",
    "X_train_transformed = create_simplified_address_column(X_train_transformed)\n",
    "# TODO: Create the sine and cosine features for each cyclic feature.\n",
    "X_train_transformed = cyclic_encoding(\n",
    "    df=X_train_transformed,\n",
    "    column_name=['dates_month', 'dates_day', 'dates_hour'],\n",
    "    maximum_value=[12, 31, 23]\n",
    ")\n",
    "\n",
    "X_validation_transformed = X_validation.copy()\n",
    "X_validation_transformed = create_date_based_columns(X_validation_transformed)\n",
    "X_validation_transformed = create_simplified_address_column(X_validation_transformed)\n",
    "X_validation_transformed = cyclic_encoding(\n",
    "    df=X_validation_transformed,\n",
    "    column_name=['dates_month', 'dates_day', 'dates_hour'],\n",
    "    maximum_value=[12, 31, 23]\n",
    ")\n",
    "\n",
    "X_kaggle_test_transformed = X_kaggle_test_prepared.copy()\n",
    "X_kaggle_test_transformed = create_date_based_columns(X_kaggle_test_transformed)\n",
    "X_kaggle_test_transformed = create_simplified_address_column(X_kaggle_test_transformed)\n",
    "X_kaggle_test_transformed = cyclic_encoding(\n",
    "    df=X_kaggle_test_transformed,\n",
    "    column_name=['dates_month', 'dates_day', 'dates_hour'],\n",
    "    maximum_value=[12, 31, 23]\n",
    ")\n",
    "\n",
    "dct_minmax = {\n",
    "    'dates_month_sin': 1,\n",
    "    'dates_month_cos': 1,\n",
    "    'dates_day_sin': 1,\n",
    "    'dates_day_cos': 1,\n",
    "    'dates_hour_sin': 1,\n",
    "    'dates_hour_cos': 1\n",
    "}\n",
    "\n",
    "pipe = Pipeline([\n",
    "    ('preprocessing', TransformCordinates(columns=['x', 'y'])),\n",
    "    ('minmax', ScaleMinMax(columns=dct_minmax)),\n",
    "    ('rare', RareLabelEncoder(tol=0.01, variables=['simplified_address'])),\n",
    "    ('frequency_address', CountFrequencyEncoder(encoding_method='frequency', variables=['simplified_address'])),\n",
    "    ('frequency_others', CountFrequencyEncoder(encoding_method='frequency', variables=['pd_district', 'day_of_week'])),\n",
    "])\n",
    "\n",
    "pipe.fit(X_train_transformed)\n",
    "X_train_transformed = pipe.transform(X_train_transformed)\n",
    "X_validation_transformed = pipe.transform(X_validation_transformed)\n",
    "X_kaggle_test_transformed = pipe.transform(X_kaggle_test_transformed)\n",
    "\n",
    "X_train_transformed"
   ]
  },
  {
   "cell_type": "markdown",
   "id": "6a25b2d5",
   "metadata": {},
   "source": [
    "### Transforming y\n",
    "\n",
    "#### Ordinal encoder"
   ]
  },
  {
   "cell_type": "code",
   "execution_count": 16,
   "id": "5d4f3c21",
   "metadata": {
    "ExecuteTime": {
     "end_time": "2022-10-26T00:56:40.214216Z",
     "start_time": "2022-10-26T00:56:38.889216Z"
    }
   },
   "outputs": [
    {
     "name": "stdout",
     "output_type": "stream",
     "text": [
      "y_train_transformed: (790244, 1)\n",
      "y_validation_transformed: (87805, 1)\n"
     ]
    },
    {
     "data": {
      "text/html": [
       "<div>\n",
       "<style scoped>\n",
       "    .dataframe tbody tr th:only-of-type {\n",
       "        vertical-align: middle;\n",
       "    }\n",
       "\n",
       "    .dataframe tbody tr th {\n",
       "        vertical-align: top;\n",
       "    }\n",
       "\n",
       "    .dataframe thead th {\n",
       "        text-align: right;\n",
       "    }\n",
       "</style>\n",
       "<table border=\"1\" class=\"dataframe\">\n",
       "  <thead>\n",
       "    <tr style=\"text-align: right;\">\n",
       "      <th></th>\n",
       "      <th>category</th>\n",
       "    </tr>\n",
       "  </thead>\n",
       "  <tbody>\n",
       "    <tr>\n",
       "      <th>251113</th>\n",
       "      <td>7</td>\n",
       "    </tr>\n",
       "    <tr>\n",
       "      <th>392823</th>\n",
       "      <td>1</td>\n",
       "    </tr>\n",
       "    <tr>\n",
       "      <th>157077</th>\n",
       "      <td>4</td>\n",
       "    </tr>\n",
       "  </tbody>\n",
       "</table>\n",
       "</div>"
      ],
      "text/plain": [
       "        category\n",
       "251113         7\n",
       "392823         1\n",
       "157077         4"
      ]
     },
     "execution_count": 16,
     "metadata": {},
     "output_type": "execute_result"
    }
   ],
   "source": [
    "y_train_ordinal = ordinal_encoding_target(y_train, column_name='category')\n",
    "\n",
    "y_validation_ordinal = ordinal_encoding_target(y_validation, column_name='category')\n",
    "\n",
    "print(f\"\"\"y_train_transformed: {y_train_ordinal.shape}\n",
    "y_validation_transformed: {y_validation_ordinal.shape}\"\"\")\n",
    "\n",
    "y_train_ordinal.head(3)"
   ]
  },
  {
   "cell_type": "markdown",
   "id": "3ae48ae4",
   "metadata": {},
   "source": [
    "### Exporting prepared data to interim folder"
   ]
  },
  {
   "cell_type": "code",
   "execution_count": 17,
   "id": "1191ba60",
   "metadata": {
    "ExecuteTime": {
     "end_time": "2022-10-26T00:57:25.467642Z",
     "start_time": "2022-10-26T00:57:24.699820Z"
    }
   },
   "outputs": [],
   "source": [
    "# Predictors / factors\n",
    "X_train_transformed.to_parquet(INTERIM_DATA + 'X_train_transformed_3rd_dataprep.pqt')\n",
    "X_validation_transformed.to_parquet(INTERIM_DATA + 'X_validation_transformed_3rd_dataprep.pqt')\n",
    "X_kaggle_test_transformed.to_parquet(INTERIM_DATA + 'X_kaggle_test_transformed_transformed_3rd_dataprep.pqt')"
   ]
  }
 ],
 "metadata": {
  "hide_input": false,
  "kernelspec": {
   "display_name": "Python 3 (ipykernel)",
   "language": "python",
   "name": "python3"
  },
  "language_info": {
   "codemirror_mode": {
    "name": "ipython",
    "version": 3
   },
   "file_extension": ".py",
   "mimetype": "text/x-python",
   "name": "python",
   "nbconvert_exporter": "python",
   "pygments_lexer": "ipython3",
   "version": "3.9.13"
  },
  "toc": {
   "base_numbering": 1,
   "nav_menu": {},
   "number_sections": true,
   "sideBar": true,
   "skip_h1_title": false,
   "title_cell": "Table of Contents",
   "title_sidebar": "Contents",
   "toc_cell": false,
   "toc_position": {
    "height": "calc(100% - 180px)",
    "left": "10px",
    "top": "150px",
    "width": "341px"
   },
   "toc_section_display": true,
   "toc_window_display": true
  },
  "vscode": {
   "interpreter": {
    "hash": "374afc8755296f97fde2e739aec9c9ec8878540dead34483e411ca357e1a53f0"
   }
  }
 },
 "nbformat": 4,
 "nbformat_minor": 5
}
