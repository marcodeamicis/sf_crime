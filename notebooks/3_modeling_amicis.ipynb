{
 "cells": [
  {
   "cell_type": "markdown",
   "id": "d8cb053b",
   "metadata": {},
   "source": [
    "# Modeling"
   ]
  },
  {
   "cell_type": "markdown",
   "id": "2fb25cb0",
   "metadata": {},
   "source": [
    "## Library import"
   ]
  },
  {
   "cell_type": "code",
   "execution_count": 12,
   "id": "fdf6e0ad",
   "metadata": {
    "ExecuteTime": {
     "end_time": "2022-10-27T02:00:15.752948Z",
     "start_time": "2022-10-27T02:00:15.739433Z"
    }
   },
   "outputs": [],
   "source": [
    "# Import libraries\n",
    "## Basic libs\n",
    "import pandas as pd\n",
    "import numpy as np\n",
    "import warnings\n",
    "## Data Visualization\n",
    "import seaborn as sns\n",
    "import matplotlib.pyplot as plt\n",
    "\n",
    "from feature_engine.encoding import OrdinalEncoder, RareLabelEncoder\n",
    "from feature_engine.imputation import MeanMedianImputer\n",
    "from sklearn.ensemble import RandomForestClassifier\n",
    "from sklearn.model_selection import train_test_split\n",
    "from sklearn.metrics import classification_report, log_loss\n",
    "\n",
    "# Configure libraries\n",
    "warnings.filterwarnings('ignore')\n",
    "plt.rcParams['figure.figsize'] = (10, 10)\n",
    "plt.style.use('seaborn')"
   ]
  },
  {
   "cell_type": "markdown",
   "id": "93767e35",
   "metadata": {},
   "source": [
    "## Parameter definition"
   ]
  },
  {
   "cell_type": "code",
   "execution_count": 2,
   "id": "e1ba0585",
   "metadata": {
    "ExecuteTime": {
     "end_time": "2022-10-27T01:57:38.006905Z",
     "start_time": "2022-10-27T01:57:37.997367Z"
    }
   },
   "outputs": [],
   "source": [
    "RAW_DATA = '../data/raw/' \n",
    "EXTERNAL_DATA = '../data/external/' \n",
    "INTERIM_DATA = '../data/interim/' \n",
    "PROCESSED_DATA = '../data/processed/'\n",
    "REFERENCES = '../references/'\n",
    "RANDOM_STATE = 14"
   ]
  },
  {
   "cell_type": "markdown",
   "id": "dd12fe4f",
   "metadata": {},
   "source": [
    "## Importing data"
   ]
  },
  {
   "cell_type": "code",
   "execution_count": null,
   "id": "cf0c64e7",
   "metadata": {
    "ExecuteTime": {
     "end_time": "2022-10-27T01:46:37.307730Z",
     "start_time": "2022-10-27T01:46:37.294186Z"
    }
   },
   "outputs": [],
   "source": [
    "# df = pd.read_parquet(INTERIM_DATA + 'train.pqt')\n",
    "# df.describe()"
   ]
  },
  {
   "cell_type": "markdown",
   "id": "62d855e2",
   "metadata": {},
   "source": [
    "## First attempt (baseline)"
   ]
  },
  {
   "cell_type": "code",
   "execution_count": null,
   "id": "cd49c7ab",
   "metadata": {
    "ExecuteTime": {
     "end_time": "2022-10-27T01:46:39.410868Z",
     "start_time": "2022-10-27T01:46:38.869903Z"
    }
   },
   "outputs": [],
   "source": [
    "df = pd.read_parquet(PROCESSED_DATA + 'train_1.pqt')\n",
    "df.describe()"
   ]
  },
  {
   "cell_type": "code",
   "execution_count": null,
   "id": "f5c35b63",
   "metadata": {
    "ExecuteTime": {
     "end_time": "2022-10-27T01:46:40.966784Z",
     "start_time": "2022-10-27T01:46:40.911559Z"
    }
   },
   "outputs": [],
   "source": [
    "X = df.drop(columns=['Category', 'Descript', 'Resolution', 'Address']).copy()\n",
    "y = df[['Category']].copy()\n",
    "X"
   ]
  },
  {
   "cell_type": "code",
   "execution_count": null,
   "id": "abe2ac93",
   "metadata": {
    "ExecuteTime": {
     "end_time": "2022-10-27T01:46:44.900710Z",
     "start_time": "2022-10-27T01:46:44.741801Z"
    }
   },
   "outputs": [],
   "source": [
    "X_train, X_test, y_train, y_test = train_test_split(X, y, \n",
    "                                                    shuffle = True, \n",
    "                                                    test_size=0.2, \n",
    "                                                    random_state=RANDOM_STATE)"
   ]
  },
  {
   "cell_type": "code",
   "execution_count": null,
   "id": "ce93bb2c",
   "metadata": {
    "ExecuteTime": {
     "end_time": "2022-10-27T01:46:47.884879Z",
     "start_time": "2022-10-27T01:46:47.354130Z"
    }
   },
   "outputs": [],
   "source": [
    "# set up the encoder\n",
    "#encoder_rare_predictors = RareLabelEncoder(n_categories=100, variables=['Address'])\n",
    "\n",
    "encoder_predictors = OrdinalEncoder(encoding_method='arbitrary', variables=['DayOfWeek', 'PdDistrict'])\n",
    "encoder_target = OrdinalEncoder(encoding_method='arbitrary', variables=['Category'])\n",
    "\n",
    "# fit the encoder\n",
    "#X_train_transformed = encoder_rare_predictors.fit_transform(X_train)\n",
    "\n",
    "X_train_transformed = encoder_predictors.fit_transform(X_train)\n",
    "y_train_transformed = encoder_target.fit_transform(y_train)\n"
   ]
  },
  {
   "cell_type": "code",
   "execution_count": null,
   "id": "a0654a6f",
   "metadata": {
    "ExecuteTime": {
     "end_time": "2022-10-27T01:46:47.900058Z",
     "start_time": "2022-10-27T01:46:47.886879Z"
    }
   },
   "outputs": [],
   "source": [
    "#encoder_predictors.encoder_dict_"
   ]
  },
  {
   "cell_type": "code",
   "execution_count": null,
   "id": "98c6a9cf",
   "metadata": {
    "ExecuteTime": {
     "end_time": "2022-10-27T01:46:48.553981Z",
     "start_time": "2022-10-27T01:46:48.468831Z"
    }
   },
   "outputs": [],
   "source": [
    "#X_test_transformed = encoder_rare_predictors.transform(X_test)\n",
    "\n",
    "X_test_transformed = encoder_predictors.transform(X_test)\n",
    "y_test_transformed = encoder_target.transform(y_test)"
   ]
  },
  {
   "cell_type": "code",
   "execution_count": null,
   "id": "757b91ea",
   "metadata": {
    "ExecuteTime": {
     "end_time": "2022-10-27T01:48:32.903366Z",
     "start_time": "2022-10-27T01:46:49.134052Z"
    }
   },
   "outputs": [],
   "source": [
    "model = RandomForestClassifier(random_state=RANDOM_STATE, n_jobs=2)\n",
    "model.fit(X_train_transformed, y_train_transformed)"
   ]
  },
  {
   "cell_type": "code",
   "execution_count": null,
   "id": "e52762b1",
   "metadata": {
    "ExecuteTime": {
     "start_time": "2022-10-27T01:46:51.464Z"
    }
   },
   "outputs": [],
   "source": [
    "y_pred = model.predict(X_test_transformed)"
   ]
  },
  {
   "cell_type": "code",
   "execution_count": null,
   "id": "56619609",
   "metadata": {
    "ExecuteTime": {
     "start_time": "2022-10-27T01:46:51.961Z"
    }
   },
   "outputs": [],
   "source": [
    "model.score(X_test_transformed, y_test_transformed)"
   ]
  },
  {
   "cell_type": "code",
   "execution_count": null,
   "id": "1813904e",
   "metadata": {
    "ExecuteTime": {
     "start_time": "2022-10-27T01:46:52.949Z"
    }
   },
   "outputs": [],
   "source": [
    "print(classification_report(y_test_transformed, y_pred))"
   ]
  },
  {
   "cell_type": "markdown",
   "id": "53a447e5",
   "metadata": {
    "ExecuteTime": {
     "end_time": "2022-09-21T20:48:48.500766Z",
     "start_time": "2022-09-21T20:48:48.480758Z"
    }
   },
   "source": [
    "## Second attempt"
   ]
  },
  {
   "cell_type": "markdown",
   "id": "3610cdd0",
   "metadata": {},
   "source": [
    "For this attempt I've:\n",
    " - Droped all duplicated rows\n",
    " - Created column \"weekend\" that shows if the crime happened during the week or the weekend"
   ]
  },
  {
   "cell_type": "code",
   "execution_count": 3,
   "id": "6281a123",
   "metadata": {
    "ExecuteTime": {
     "end_time": "2022-10-27T01:57:47.653839Z",
     "start_time": "2022-10-27T01:57:47.160938Z"
    }
   },
   "outputs": [
    {
     "data": {
      "text/html": [
       "<div>\n",
       "<style scoped>\n",
       "    .dataframe tbody tr th:only-of-type {\n",
       "        vertical-align: middle;\n",
       "    }\n",
       "\n",
       "    .dataframe tbody tr th {\n",
       "        vertical-align: top;\n",
       "    }\n",
       "\n",
       "    .dataframe thead th {\n",
       "        text-align: right;\n",
       "    }\n",
       "</style>\n",
       "<table border=\"1\" class=\"dataframe\">\n",
       "  <thead>\n",
       "    <tr style=\"text-align: right;\">\n",
       "      <th></th>\n",
       "      <th>X</th>\n",
       "      <th>Y</th>\n",
       "      <th>month</th>\n",
       "      <th>day</th>\n",
       "      <th>year</th>\n",
       "      <th>hour</th>\n",
       "      <th>Weekend</th>\n",
       "    </tr>\n",
       "  </thead>\n",
       "  <tbody>\n",
       "    <tr>\n",
       "      <th>count</th>\n",
       "      <td>873391.000000</td>\n",
       "      <td>873391.000000</td>\n",
       "      <td>873391.000000</td>\n",
       "      <td>873391.000000</td>\n",
       "      <td>873391.000000</td>\n",
       "      <td>873391.000000</td>\n",
       "      <td>873391.000000</td>\n",
       "    </tr>\n",
       "    <tr>\n",
       "      <th>mean</th>\n",
       "      <td>-122.422639</td>\n",
       "      <td>37.771028</td>\n",
       "      <td>6.436067</td>\n",
       "      <td>15.573364</td>\n",
       "      <td>2008.712930</td>\n",
       "      <td>13.409799</td>\n",
       "      <td>0.277364</td>\n",
       "    </tr>\n",
       "    <tr>\n",
       "      <th>std</th>\n",
       "      <td>0.030384</td>\n",
       "      <td>0.458107</td>\n",
       "      <td>3.429044</td>\n",
       "      <td>8.783104</td>\n",
       "      <td>3.630581</td>\n",
       "      <td>6.549561</td>\n",
       "      <td>0.447698</td>\n",
       "    </tr>\n",
       "    <tr>\n",
       "      <th>min</th>\n",
       "      <td>-122.513642</td>\n",
       "      <td>37.707879</td>\n",
       "      <td>1.000000</td>\n",
       "      <td>1.000000</td>\n",
       "      <td>2003.000000</td>\n",
       "      <td>0.000000</td>\n",
       "      <td>0.000000</td>\n",
       "    </tr>\n",
       "    <tr>\n",
       "      <th>25%</th>\n",
       "      <td>-122.432957</td>\n",
       "      <td>37.752409</td>\n",
       "      <td>3.000000</td>\n",
       "      <td>8.000000</td>\n",
       "      <td>2006.000000</td>\n",
       "      <td>9.000000</td>\n",
       "      <td>0.000000</td>\n",
       "    </tr>\n",
       "    <tr>\n",
       "      <th>50%</th>\n",
       "      <td>-122.416446</td>\n",
       "      <td>37.775421</td>\n",
       "      <td>6.000000</td>\n",
       "      <td>16.000000</td>\n",
       "      <td>2009.000000</td>\n",
       "      <td>14.000000</td>\n",
       "      <td>0.000000</td>\n",
       "    </tr>\n",
       "    <tr>\n",
       "      <th>75%</th>\n",
       "      <td>-122.406970</td>\n",
       "      <td>37.784372</td>\n",
       "      <td>9.000000</td>\n",
       "      <td>23.000000</td>\n",
       "      <td>2012.000000</td>\n",
       "      <td>19.000000</td>\n",
       "      <td>1.000000</td>\n",
       "    </tr>\n",
       "    <tr>\n",
       "      <th>max</th>\n",
       "      <td>-120.500000</td>\n",
       "      <td>90.000000</td>\n",
       "      <td>12.000000</td>\n",
       "      <td>31.000000</td>\n",
       "      <td>2015.000000</td>\n",
       "      <td>23.000000</td>\n",
       "      <td>1.000000</td>\n",
       "    </tr>\n",
       "  </tbody>\n",
       "</table>\n",
       "</div>"
      ],
      "text/plain": [
       "                   X              Y          month            day  \\\n",
       "count  873391.000000  873391.000000  873391.000000  873391.000000   \n",
       "mean     -122.422639      37.771028       6.436067      15.573364   \n",
       "std         0.030384       0.458107       3.429044       8.783104   \n",
       "min      -122.513642      37.707879       1.000000       1.000000   \n",
       "25%      -122.432957      37.752409       3.000000       8.000000   \n",
       "50%      -122.416446      37.775421       6.000000      16.000000   \n",
       "75%      -122.406970      37.784372       9.000000      23.000000   \n",
       "max      -120.500000      90.000000      12.000000      31.000000   \n",
       "\n",
       "                year           hour        Weekend  \n",
       "count  873391.000000  873391.000000  873391.000000  \n",
       "mean     2008.712930      13.409799       0.277364  \n",
       "std         3.630581       6.549561       0.447698  \n",
       "min      2003.000000       0.000000       0.000000  \n",
       "25%      2006.000000       9.000000       0.000000  \n",
       "50%      2009.000000      14.000000       0.000000  \n",
       "75%      2012.000000      19.000000       1.000000  \n",
       "max      2015.000000      23.000000       1.000000  "
      ]
     },
     "execution_count": 3,
     "metadata": {},
     "output_type": "execute_result"
    }
   ],
   "source": [
    "df = pd.read_parquet(PROCESSED_DATA + 'train_2.pqt')\n",
    "df.describe()"
   ]
  },
  {
   "cell_type": "code",
   "execution_count": 4,
   "id": "7da58009",
   "metadata": {
    "ExecuteTime": {
     "end_time": "2022-10-27T01:57:47.902098Z",
     "start_time": "2022-10-27T01:57:47.843374Z"
    }
   },
   "outputs": [
    {
     "data": {
      "text/html": [
       "<div>\n",
       "<style scoped>\n",
       "    .dataframe tbody tr th:only-of-type {\n",
       "        vertical-align: middle;\n",
       "    }\n",
       "\n",
       "    .dataframe tbody tr th {\n",
       "        vertical-align: top;\n",
       "    }\n",
       "\n",
       "    .dataframe thead th {\n",
       "        text-align: right;\n",
       "    }\n",
       "</style>\n",
       "<table border=\"1\" class=\"dataframe\">\n",
       "  <thead>\n",
       "    <tr style=\"text-align: right;\">\n",
       "      <th></th>\n",
       "      <th>DayOfWeek</th>\n",
       "      <th>PdDistrict</th>\n",
       "      <th>X</th>\n",
       "      <th>Y</th>\n",
       "      <th>month</th>\n",
       "      <th>day</th>\n",
       "      <th>year</th>\n",
       "      <th>hour</th>\n",
       "      <th>Weekend</th>\n",
       "    </tr>\n",
       "  </thead>\n",
       "  <tbody>\n",
       "    <tr>\n",
       "      <th>0</th>\n",
       "      <td>Wednesday</td>\n",
       "      <td>NORTHERN</td>\n",
       "      <td>-122.425892</td>\n",
       "      <td>37.774599</td>\n",
       "      <td>5</td>\n",
       "      <td>13</td>\n",
       "      <td>2015</td>\n",
       "      <td>23</td>\n",
       "      <td>0</td>\n",
       "    </tr>\n",
       "    <tr>\n",
       "      <th>1</th>\n",
       "      <td>Wednesday</td>\n",
       "      <td>NORTHERN</td>\n",
       "      <td>-122.425892</td>\n",
       "      <td>37.774599</td>\n",
       "      <td>5</td>\n",
       "      <td>13</td>\n",
       "      <td>2015</td>\n",
       "      <td>23</td>\n",
       "      <td>0</td>\n",
       "    </tr>\n",
       "    <tr>\n",
       "      <th>2</th>\n",
       "      <td>Wednesday</td>\n",
       "      <td>NORTHERN</td>\n",
       "      <td>-122.424363</td>\n",
       "      <td>37.800414</td>\n",
       "      <td>5</td>\n",
       "      <td>13</td>\n",
       "      <td>2015</td>\n",
       "      <td>23</td>\n",
       "      <td>0</td>\n",
       "    </tr>\n",
       "    <tr>\n",
       "      <th>3</th>\n",
       "      <td>Wednesday</td>\n",
       "      <td>NORTHERN</td>\n",
       "      <td>-122.426995</td>\n",
       "      <td>37.800873</td>\n",
       "      <td>5</td>\n",
       "      <td>13</td>\n",
       "      <td>2015</td>\n",
       "      <td>23</td>\n",
       "      <td>0</td>\n",
       "    </tr>\n",
       "    <tr>\n",
       "      <th>4</th>\n",
       "      <td>Wednesday</td>\n",
       "      <td>PARK</td>\n",
       "      <td>-122.438738</td>\n",
       "      <td>37.771541</td>\n",
       "      <td>5</td>\n",
       "      <td>13</td>\n",
       "      <td>2015</td>\n",
       "      <td>23</td>\n",
       "      <td>0</td>\n",
       "    </tr>\n",
       "    <tr>\n",
       "      <th>...</th>\n",
       "      <td>...</td>\n",
       "      <td>...</td>\n",
       "      <td>...</td>\n",
       "      <td>...</td>\n",
       "      <td>...</td>\n",
       "      <td>...</td>\n",
       "      <td>...</td>\n",
       "      <td>...</td>\n",
       "      <td>...</td>\n",
       "    </tr>\n",
       "    <tr>\n",
       "      <th>873386</th>\n",
       "      <td>Monday</td>\n",
       "      <td>TARAVAL</td>\n",
       "      <td>-122.459033</td>\n",
       "      <td>37.714056</td>\n",
       "      <td>1</td>\n",
       "      <td>6</td>\n",
       "      <td>2003</td>\n",
       "      <td>0</td>\n",
       "      <td>0</td>\n",
       "    </tr>\n",
       "    <tr>\n",
       "      <th>873387</th>\n",
       "      <td>Monday</td>\n",
       "      <td>INGLESIDE</td>\n",
       "      <td>-122.447364</td>\n",
       "      <td>37.731948</td>\n",
       "      <td>1</td>\n",
       "      <td>6</td>\n",
       "      <td>2003</td>\n",
       "      <td>0</td>\n",
       "      <td>0</td>\n",
       "    </tr>\n",
       "    <tr>\n",
       "      <th>873388</th>\n",
       "      <td>Monday</td>\n",
       "      <td>SOUTHERN</td>\n",
       "      <td>-122.403390</td>\n",
       "      <td>37.780266</td>\n",
       "      <td>1</td>\n",
       "      <td>6</td>\n",
       "      <td>2003</td>\n",
       "      <td>0</td>\n",
       "      <td>0</td>\n",
       "    </tr>\n",
       "    <tr>\n",
       "      <th>873389</th>\n",
       "      <td>Monday</td>\n",
       "      <td>SOUTHERN</td>\n",
       "      <td>-122.390531</td>\n",
       "      <td>37.780607</td>\n",
       "      <td>1</td>\n",
       "      <td>6</td>\n",
       "      <td>2003</td>\n",
       "      <td>0</td>\n",
       "      <td>0</td>\n",
       "    </tr>\n",
       "    <tr>\n",
       "      <th>873390</th>\n",
       "      <td>Monday</td>\n",
       "      <td>BAYVIEW</td>\n",
       "      <td>-122.394926</td>\n",
       "      <td>37.738212</td>\n",
       "      <td>1</td>\n",
       "      <td>6</td>\n",
       "      <td>2003</td>\n",
       "      <td>0</td>\n",
       "      <td>0</td>\n",
       "    </tr>\n",
       "  </tbody>\n",
       "</table>\n",
       "<p>873391 rows × 9 columns</p>\n",
       "</div>"
      ],
      "text/plain": [
       "        DayOfWeek PdDistrict           X          Y  month  day  year  hour  \\\n",
       "0       Wednesday   NORTHERN -122.425892  37.774599      5   13  2015    23   \n",
       "1       Wednesday   NORTHERN -122.425892  37.774599      5   13  2015    23   \n",
       "2       Wednesday   NORTHERN -122.424363  37.800414      5   13  2015    23   \n",
       "3       Wednesday   NORTHERN -122.426995  37.800873      5   13  2015    23   \n",
       "4       Wednesday       PARK -122.438738  37.771541      5   13  2015    23   \n",
       "...           ...        ...         ...        ...    ...  ...   ...   ...   \n",
       "873386     Monday    TARAVAL -122.459033  37.714056      1    6  2003     0   \n",
       "873387     Monday  INGLESIDE -122.447364  37.731948      1    6  2003     0   \n",
       "873388     Monday   SOUTHERN -122.403390  37.780266      1    6  2003     0   \n",
       "873389     Monday   SOUTHERN -122.390531  37.780607      1    6  2003     0   \n",
       "873390     Monday    BAYVIEW -122.394926  37.738212      1    6  2003     0   \n",
       "\n",
       "        Weekend  \n",
       "0             0  \n",
       "1             0  \n",
       "2             0  \n",
       "3             0  \n",
       "4             0  \n",
       "...         ...  \n",
       "873386        0  \n",
       "873387        0  \n",
       "873388        0  \n",
       "873389        0  \n",
       "873390        0  \n",
       "\n",
       "[873391 rows x 9 columns]"
      ]
     },
     "execution_count": 4,
     "metadata": {},
     "output_type": "execute_result"
    }
   ],
   "source": [
    "X = df.drop(columns=['Category', 'Descript', 'Resolution', 'Address']).copy()\n",
    "y = df[['Category']].copy()\n",
    "X"
   ]
  },
  {
   "cell_type": "code",
   "execution_count": 5,
   "id": "a81df60b",
   "metadata": {
    "ExecuteTime": {
     "end_time": "2022-10-27T01:57:51.007254Z",
     "start_time": "2022-10-27T01:57:50.857920Z"
    }
   },
   "outputs": [],
   "source": [
    "X_train, X_test, y_train, y_test = train_test_split(X, y, \n",
    "                                                    shuffle = True, \n",
    "                                                    test_size=0.2, \n",
    "                                                    random_state=RANDOM_STATE)"
   ]
  },
  {
   "cell_type": "code",
   "execution_count": 6,
   "id": "cf2b206c",
   "metadata": {
    "ExecuteTime": {
     "end_time": "2022-10-27T01:57:52.054445Z",
     "start_time": "2022-10-27T01:57:51.515015Z"
    }
   },
   "outputs": [],
   "source": [
    "# set up the encoder\n",
    "#encoder_rare_predictors = RareLabelEncoder(n_categories=100, variables=['Address'])\n",
    "\n",
    "encoder_predictors = OrdinalEncoder(encoding_method='arbitrary', variables=['DayOfWeek', 'PdDistrict'])\n",
    "encoder_target = OrdinalEncoder(encoding_method='arbitrary', variables=['Category'])\n",
    "\n",
    "# fit the encoder\n",
    "#X_train_transformed = encoder_rare_predictors.fit_transform(X_train)\n",
    "\n",
    "X_train_transformed = encoder_predictors.fit_transform(X_train)\n",
    "y_train_transformed = encoder_target.fit_transform(y_train)"
   ]
  },
  {
   "cell_type": "code",
   "execution_count": 7,
   "id": "36dfd005",
   "metadata": {
    "ExecuteTime": {
     "end_time": "2022-10-27T01:57:53.748955Z",
     "start_time": "2022-10-27T01:57:53.664313Z"
    }
   },
   "outputs": [],
   "source": [
    "#X_test_transformed = encoder_rare_predictors.transform(X_test)\n",
    "\n",
    "X_test_transformed = encoder_predictors.transform(X_test)\n",
    "y_test_transformed = encoder_target.transform(y_test)"
   ]
  },
  {
   "cell_type": "code",
   "execution_count": 8,
   "id": "2f89212d",
   "metadata": {
    "ExecuteTime": {
     "end_time": "2022-10-27T01:58:06.717322Z",
     "start_time": "2022-10-27T01:57:54.652704Z"
    }
   },
   "outputs": [
    {
     "data": {
      "text/html": [
       "<style>#sk-container-id-1 {color: black;background-color: white;}#sk-container-id-1 pre{padding: 0;}#sk-container-id-1 div.sk-toggleable {background-color: white;}#sk-container-id-1 label.sk-toggleable__label {cursor: pointer;display: block;width: 100%;margin-bottom: 0;padding: 0.3em;box-sizing: border-box;text-align: center;}#sk-container-id-1 label.sk-toggleable__label-arrow:before {content: \"▸\";float: left;margin-right: 0.25em;color: #696969;}#sk-container-id-1 label.sk-toggleable__label-arrow:hover:before {color: black;}#sk-container-id-1 div.sk-estimator:hover label.sk-toggleable__label-arrow:before {color: black;}#sk-container-id-1 div.sk-toggleable__content {max-height: 0;max-width: 0;overflow: hidden;text-align: left;background-color: #f0f8ff;}#sk-container-id-1 div.sk-toggleable__content pre {margin: 0.2em;color: black;border-radius: 0.25em;background-color: #f0f8ff;}#sk-container-id-1 input.sk-toggleable__control:checked~div.sk-toggleable__content {max-height: 200px;max-width: 100%;overflow: auto;}#sk-container-id-1 input.sk-toggleable__control:checked~label.sk-toggleable__label-arrow:before {content: \"▾\";}#sk-container-id-1 div.sk-estimator input.sk-toggleable__control:checked~label.sk-toggleable__label {background-color: #d4ebff;}#sk-container-id-1 div.sk-label input.sk-toggleable__control:checked~label.sk-toggleable__label {background-color: #d4ebff;}#sk-container-id-1 input.sk-hidden--visually {border: 0;clip: rect(1px 1px 1px 1px);clip: rect(1px, 1px, 1px, 1px);height: 1px;margin: -1px;overflow: hidden;padding: 0;position: absolute;width: 1px;}#sk-container-id-1 div.sk-estimator {font-family: monospace;background-color: #f0f8ff;border: 1px dotted black;border-radius: 0.25em;box-sizing: border-box;margin-bottom: 0.5em;}#sk-container-id-1 div.sk-estimator:hover {background-color: #d4ebff;}#sk-container-id-1 div.sk-parallel-item::after {content: \"\";width: 100%;border-bottom: 1px solid gray;flex-grow: 1;}#sk-container-id-1 div.sk-label:hover label.sk-toggleable__label {background-color: #d4ebff;}#sk-container-id-1 div.sk-serial::before {content: \"\";position: absolute;border-left: 1px solid gray;box-sizing: border-box;top: 0;bottom: 0;left: 50%;z-index: 0;}#sk-container-id-1 div.sk-serial {display: flex;flex-direction: column;align-items: center;background-color: white;padding-right: 0.2em;padding-left: 0.2em;position: relative;}#sk-container-id-1 div.sk-item {position: relative;z-index: 1;}#sk-container-id-1 div.sk-parallel {display: flex;align-items: stretch;justify-content: center;background-color: white;position: relative;}#sk-container-id-1 div.sk-item::before, #sk-container-id-1 div.sk-parallel-item::before {content: \"\";position: absolute;border-left: 1px solid gray;box-sizing: border-box;top: 0;bottom: 0;left: 50%;z-index: -1;}#sk-container-id-1 div.sk-parallel-item {display: flex;flex-direction: column;z-index: 1;position: relative;background-color: white;}#sk-container-id-1 div.sk-parallel-item:first-child::after {align-self: flex-end;width: 50%;}#sk-container-id-1 div.sk-parallel-item:last-child::after {align-self: flex-start;width: 50%;}#sk-container-id-1 div.sk-parallel-item:only-child::after {width: 0;}#sk-container-id-1 div.sk-dashed-wrapped {border: 1px dashed gray;margin: 0 0.4em 0.5em 0.4em;box-sizing: border-box;padding-bottom: 0.4em;background-color: white;}#sk-container-id-1 div.sk-label label {font-family: monospace;font-weight: bold;display: inline-block;line-height: 1.2em;}#sk-container-id-1 div.sk-label-container {text-align: center;}#sk-container-id-1 div.sk-container {/* jupyter's `normalize.less` sets `[hidden] { display: none; }` but bootstrap.min.css set `[hidden] { display: none !important; }` so we also need the `!important` here to be able to override the default hidden behavior on the sphinx rendered scikit-learn.org. See: https://github.com/scikit-learn/scikit-learn/issues/21755 */display: inline-block !important;position: relative;}#sk-container-id-1 div.sk-text-repr-fallback {display: none;}</style><div id=\"sk-container-id-1\" class=\"sk-top-container\"><div class=\"sk-text-repr-fallback\"><pre>RandomForestClassifier(max_depth=4, min_samples_leaf=100, n_jobs=-1,\n",
       "                       random_state=14)</pre><b>In a Jupyter environment, please rerun this cell to show the HTML representation or trust the notebook. <br />On GitHub, the HTML representation is unable to render, please try loading this page with nbviewer.org.</b></div><div class=\"sk-container\" hidden><div class=\"sk-item\"><div class=\"sk-estimator sk-toggleable\"><input class=\"sk-toggleable__control sk-hidden--visually\" id=\"sk-estimator-id-1\" type=\"checkbox\" checked><label for=\"sk-estimator-id-1\" class=\"sk-toggleable__label sk-toggleable__label-arrow\">RandomForestClassifier</label><div class=\"sk-toggleable__content\"><pre>RandomForestClassifier(max_depth=4, min_samples_leaf=100, n_jobs=-1,\n",
       "                       random_state=14)</pre></div></div></div></div></div>"
      ],
      "text/plain": [
       "RandomForestClassifier(max_depth=4, min_samples_leaf=100, n_jobs=-1,\n",
       "                       random_state=14)"
      ]
     },
     "execution_count": 8,
     "metadata": {},
     "output_type": "execute_result"
    }
   ],
   "source": [
    "model = RandomForestClassifier(random_state=RANDOM_STATE, max_depth=4, min_samples_leaf=100, n_jobs=-1)\n",
    "model.fit(X_train_transformed, y_train_transformed)"
   ]
  },
  {
   "cell_type": "code",
   "execution_count": 13,
   "id": "f49a4986",
   "metadata": {
    "ExecuteTime": {
     "end_time": "2022-10-27T02:02:22.484938Z",
     "start_time": "2022-10-27T02:02:20.432914Z"
    }
   },
   "outputs": [],
   "source": [
    "y_pred_proba = model.predict_proba(X_test_transformed)"
   ]
  },
  {
   "cell_type": "code",
   "execution_count": 10,
   "id": "fd2b217b",
   "metadata": {
    "ExecuteTime": {
     "end_time": "2022-10-27T01:59:29.121271Z",
     "start_time": "2022-10-27T01:59:26.916495Z"
    }
   },
   "outputs": [
    {
     "data": {
      "text/plain": [
       "0.2315733431036358"
      ]
     },
     "execution_count": 10,
     "metadata": {},
     "output_type": "execute_result"
    }
   ],
   "source": [
    "model.score(X_test_transformed, y_test_transformed)"
   ]
  },
  {
   "cell_type": "code",
   "execution_count": 11,
   "id": "cd3188d7",
   "metadata": {
    "ExecuteTime": {
     "end_time": "2022-10-27T01:59:29.355888Z",
     "start_time": "2022-10-27T01:59:29.122272Z"
    }
   },
   "outputs": [
    {
     "name": "stdout",
     "output_type": "stream",
     "text": [
      "              precision    recall  f1-score   support\n",
      "\n",
      "           0       0.00      0.00      0.00      6274\n",
      "           1       0.00      0.00      0.00     18504\n",
      "           2       0.00      0.00      0.00      5039\n",
      "           3       0.19      0.36      0.24     25226\n",
      "           4       0.24      0.84      0.38     34801\n",
      "           5       0.28      0.02      0.04     10721\n",
      "           6       0.00      0.00      0.00      8903\n",
      "           7       0.00      0.00      0.00      7227\n",
      "           8       0.00      0.00      0.00      8350\n",
      "           9       0.00      0.00      0.00     15350\n",
      "          10       0.00      0.00      0.00      4503\n",
      "          11       0.00      0.00      0.00       900\n",
      "          12       0.00      0.00      0.00      2085\n",
      "          13       0.00      0.00      0.00        35\n",
      "          14       0.35      0.18      0.24     10708\n",
      "          15       0.00      0.00      0.00      3327\n",
      "          16       0.00      0.00      0.00       851\n",
      "          17       0.00      0.00      0.00       462\n",
      "          18       0.00      0.00      0.00       362\n",
      "          19       0.00      0.00      0.00       896\n",
      "          20       0.00      0.00      0.00       407\n",
      "          21       0.00      0.00      0.00        84\n",
      "          22       0.00      0.00      0.00       235\n",
      "          23       0.00      0.00      0.00       635\n",
      "          24       0.00      0.00      0.00      1716\n",
      "          25       0.00      0.00      0.00      1965\n",
      "          26       0.00      0.00      0.00       468\n",
      "          27       0.00      0.00      0.00      1421\n",
      "          28       0.00      0.00      0.00      1425\n",
      "          29       0.00      0.00      0.00       306\n",
      "          30       0.00      0.00      0.00       888\n",
      "          31       0.00      0.00      0.00       109\n",
      "          32       0.00      0.00      0.00       235\n",
      "          33       0.00      0.00      0.00        65\n",
      "          34       0.00      0.00      0.00       109\n",
      "          35       0.00      0.00      0.00        29\n",
      "          36       0.00      0.00      0.00        51\n",
      "          37       0.00      0.00      0.00         6\n",
      "          38       0.00      0.00      0.00         1\n",
      "\n",
      "    accuracy                           0.23    174679\n",
      "   macro avg       0.03      0.04      0.02    174679\n",
      "weighted avg       0.11      0.23      0.13    174679\n",
      "\n"
     ]
    }
   ],
   "source": [
    "print(classification_report(y_test_transformed, y_pred))"
   ]
  },
  {
   "cell_type": "code",
   "execution_count": 15,
   "id": "c05aaa1d",
   "metadata": {
    "ExecuteTime": {
     "end_time": "2022-10-27T02:04:39.558809Z",
     "start_time": "2022-10-27T02:04:39.554117Z"
    }
   },
   "outputs": [],
   "source": [
    "lst_labels = np.arange(0, 39).tolist()"
   ]
  },
  {
   "cell_type": "code",
   "execution_count": 17,
   "id": "813c39fd",
   "metadata": {
    "ExecuteTime": {
     "end_time": "2022-10-27T02:05:33.750087Z",
     "start_time": "2022-10-27T02:05:33.619922Z"
    }
   },
   "outputs": [
    {
     "data": {
      "text/plain": [
       "2.5841613172554823"
      ]
     },
     "execution_count": 17,
     "metadata": {},
     "output_type": "execute_result"
    }
   ],
   "source": [
    "log_loss(y_test_transformed, y_pred_proba, labels=lst_labels)"
   ]
  },
  {
   "cell_type": "markdown",
   "id": "f0eff03e",
   "metadata": {},
   "source": [
    "## Third attempt"
   ]
  },
  {
   "cell_type": "markdown",
   "id": "c61d7dd3",
   "metadata": {},
   "source": [
    "For this attempt I've:\n",
    "  - Created column \"day_period\" that shows if the crime happened during dawn, morning, afternoon or night"
   ]
  },
  {
   "cell_type": "code",
   "execution_count": null,
   "id": "7fece977",
   "metadata": {
    "ExecuteTime": {
     "end_time": "2022-10-27T00:24:58.850105Z",
     "start_time": "2022-10-27T00:24:58.310983Z"
    }
   },
   "outputs": [],
   "source": [
    "df = pd.read_parquet(PROCESSED_DATA + 'train_3.pqt')\n",
    "df.describe()"
   ]
  },
  {
   "cell_type": "code",
   "execution_count": null,
   "id": "fdd980d2",
   "metadata": {
    "ExecuteTime": {
     "end_time": "2022-10-27T00:24:59.121166Z",
     "start_time": "2022-10-27T00:24:59.060152Z"
    }
   },
   "outputs": [],
   "source": [
    "X = df.drop(columns=['Category', 'Descript', 'Resolution', 'Address']).copy()\n",
    "y = df[['Category']].copy()\n",
    "X"
   ]
  },
  {
   "cell_type": "code",
   "execution_count": null,
   "id": "57083710",
   "metadata": {
    "ExecuteTime": {
     "end_time": "2022-10-27T00:25:02.870018Z",
     "start_time": "2022-10-27T00:25:02.707982Z"
    }
   },
   "outputs": [],
   "source": [
    "X_train, X_test, y_train, y_test = train_test_split(X, y, \n",
    "                                                    shuffle = True, \n",
    "                                                    test_size=0.2, \n",
    "                                                    random_state=RANDOM_STATE)"
   ]
  },
  {
   "cell_type": "code",
   "execution_count": null,
   "id": "91ef4fe7",
   "metadata": {
    "ExecuteTime": {
     "end_time": "2022-10-27T00:25:04.060287Z",
     "start_time": "2022-10-27T00:25:03.326121Z"
    }
   },
   "outputs": [],
   "source": [
    "# set up the encoder\n",
    "#encoder_rare_predictors = RareLabelEncoder(n_categories=100, variables=['Address'])\n",
    "\n",
    "encoder_predictors = OrdinalEncoder(encoding_method='arbitrary', variables=['DayOfWeek', 'PdDistrict', 'day_period'])\n",
    "encoder_target = OrdinalEncoder(encoding_method='arbitrary', variables=['Category'])\n",
    "\n",
    "# fit the encoder\n",
    "#X_train_transformed = encoder_rare_predictors.fit_transform(X_train)\n",
    "\n",
    "X_train_transformed = encoder_predictors.fit_transform(X_train)\n",
    "y_train_transformed = encoder_target.fit_transform(y_train)"
   ]
  },
  {
   "cell_type": "code",
   "execution_count": null,
   "id": "7d87f35a",
   "metadata": {
    "ExecuteTime": {
     "end_time": "2022-10-27T00:25:04.268334Z",
     "start_time": "2022-10-27T00:25:04.151308Z"
    }
   },
   "outputs": [],
   "source": [
    "#X_test_transformed = encoder_rare_predictors.transform(X_test)\n",
    "\n",
    "X_test_transformed = encoder_predictors.transform(X_test)\n",
    "y_test_transformed = encoder_target.transform(y_test)"
   ]
  },
  {
   "cell_type": "code",
   "execution_count": null,
   "id": "c971f04f",
   "metadata": {
    "ExecuteTime": {
     "end_time": "2022-10-27T00:26:44.329506Z",
     "start_time": "2022-10-27T00:25:07.279016Z"
    }
   },
   "outputs": [],
   "source": [
    "model = RandomForestClassifier(random_state=RANDOM_STATE, n_jobs=2)\n",
    "model.fit(X_train_transformed, y_train_transformed)"
   ]
  },
  {
   "cell_type": "code",
   "execution_count": null,
   "id": "4b9bf63b",
   "metadata": {
    "ExecuteTime": {
     "end_time": "2022-10-27T00:27:53.068233Z",
     "start_time": "2022-10-27T00:26:44.338509Z"
    }
   },
   "outputs": [],
   "source": [
    "y_pred = model.predict(X_test_transformed)"
   ]
  },
  {
   "cell_type": "code",
   "execution_count": null,
   "id": "d14a40de",
   "metadata": {
    "ExecuteTime": {
     "end_time": "2022-10-27T00:29:11.017239Z",
     "start_time": "2022-10-27T00:27:53.079236Z"
    }
   },
   "outputs": [],
   "source": [
    "model.score(X_test_transformed, y_test_transformed)"
   ]
  },
  {
   "cell_type": "code",
   "execution_count": null,
   "id": "0ef0118d",
   "metadata": {
    "ExecuteTime": {
     "end_time": "2022-10-27T00:29:11.380030Z",
     "start_time": "2022-10-27T00:29:11.028241Z"
    }
   },
   "outputs": [],
   "source": [
    "print(classification_report(y_test_transformed, y_pred))"
   ]
  },
  {
   "cell_type": "markdown",
   "id": "ad6e9d3e",
   "metadata": {},
   "source": [
    "## Fourth attempt"
   ]
  },
  {
   "cell_type": "markdown",
   "id": "f50c7f02",
   "metadata": {},
   "source": [
    "For this attempt I've:\n",
    "  - Replaced outliers longitude and latitude for mode values"
   ]
  },
  {
   "cell_type": "code",
   "execution_count": null,
   "id": "6d87b725",
   "metadata": {
    "ExecuteTime": {
     "end_time": "2022-10-27T00:39:58.833864Z",
     "start_time": "2022-10-27T00:39:58.103047Z"
    }
   },
   "outputs": [],
   "source": [
    "df = pd.read_parquet(PROCESSED_DATA + 'train_4.pqt')\n",
    "df.info()"
   ]
  },
  {
   "cell_type": "code",
   "execution_count": null,
   "id": "7dfdf9c4",
   "metadata": {
    "ExecuteTime": {
     "end_time": "2022-10-27T00:40:02.137206Z",
     "start_time": "2022-10-27T00:40:01.659534Z"
    }
   },
   "outputs": [],
   "source": [
    "mode_X = df['X'].mode().values[0]\n",
    "mode_Y = df['X'].mode().values[0]\n",
    "df['X'].fillna(mode_X, inplace=True)\n",
    "df['Y'].fillna(mode_Y, inplace=True)\n",
    "df.info()"
   ]
  },
  {
   "cell_type": "code",
   "execution_count": null,
   "id": "7b312a61",
   "metadata": {
    "ExecuteTime": {
     "end_time": "2022-10-27T00:40:10.006847Z",
     "start_time": "2022-10-27T00:40:09.939713Z"
    }
   },
   "outputs": [],
   "source": [
    "X = df.drop(columns=['Category', 'Descript', 'Resolution', 'Address']).copy()\n",
    "y = df[['Category']].copy()\n",
    "X"
   ]
  },
  {
   "cell_type": "code",
   "execution_count": null,
   "id": "60d61d47",
   "metadata": {
    "ExecuteTime": {
     "end_time": "2022-10-27T00:40:13.238114Z",
     "start_time": "2022-10-27T00:40:13.027319Z"
    }
   },
   "outputs": [],
   "source": [
    "X_train, X_test, y_train, y_test = train_test_split(X, y, \n",
    "                                                    shuffle = True, \n",
    "                                                    test_size=0.2, \n",
    "                                                    random_state=RANDOM_STATE)"
   ]
  },
  {
   "cell_type": "code",
   "execution_count": null,
   "id": "bc220b0e",
   "metadata": {
    "ExecuteTime": {
     "end_time": "2022-10-27T00:40:16.089578Z",
     "start_time": "2022-10-27T00:40:15.646970Z"
    }
   },
   "outputs": [],
   "source": [
    "df.info()"
   ]
  },
  {
   "cell_type": "code",
   "execution_count": null,
   "id": "c263a13b",
   "metadata": {
    "ExecuteTime": {
     "end_time": "2022-10-27T00:40:19.362649Z",
     "start_time": "2022-10-27T00:40:18.660323Z"
    }
   },
   "outputs": [],
   "source": [
    "# set up the encoder\n",
    "#encoder_rare_predictors = RareLabelEncoder(n_categories=100, variables=['Address'])\n",
    "\n",
    "encoder_predictors = OrdinalEncoder(encoding_method='arbitrary', variables=['DayOfWeek', 'PdDistrict', 'day_period'])\n",
    "encoder_target = OrdinalEncoder(encoding_method='arbitrary', variables=['Category'])\n",
    "\n",
    "# fit the encoder\n",
    "#X_train_transformed = encoder_rare_predictors.fit_transform(X_train)\n",
    "\n",
    "X_train_transformed = encoder_predictors.fit_transform(X_train)\n",
    "y_train_transformed = encoder_target.fit_transform(y_train)"
   ]
  },
  {
   "cell_type": "code",
   "execution_count": null,
   "id": "a9619b0c",
   "metadata": {
    "ExecuteTime": {
     "end_time": "2022-10-27T00:40:20.151740Z",
     "start_time": "2022-10-27T00:40:20.056965Z"
    }
   },
   "outputs": [],
   "source": [
    "#X_test_transformed = encoder_rare_predictors.transform(X_test)\n",
    "\n",
    "X_test_transformed = encoder_predictors.transform(X_test)\n",
    "y_test_transformed = encoder_target.transform(y_test)"
   ]
  },
  {
   "cell_type": "code",
   "execution_count": null,
   "id": "d730168e",
   "metadata": {
    "ExecuteTime": {
     "end_time": "2022-10-27T00:41:51.772065Z",
     "start_time": "2022-10-27T00:40:21.410638Z"
    }
   },
   "outputs": [],
   "source": [
    "model = RandomForestClassifier(random_state=RANDOM_STATE, n_jobs=2)\n",
    "model.fit(X_train_transformed, y_train_transformed)"
   ]
  },
  {
   "cell_type": "code",
   "execution_count": null,
   "id": "88bd8faa",
   "metadata": {
    "ExecuteTime": {
     "end_time": "2022-10-27T00:43:07.684865Z",
     "start_time": "2022-10-27T00:41:51.779131Z"
    }
   },
   "outputs": [],
   "source": [
    "y_pred = model.predict(X_test_transformed)"
   ]
  },
  {
   "cell_type": "code",
   "execution_count": null,
   "id": "641ec165",
   "metadata": {
    "ExecuteTime": {
     "end_time": "2022-10-27T00:44:30.027513Z",
     "start_time": "2022-10-27T00:43:07.694867Z"
    }
   },
   "outputs": [],
   "source": [
    "model.score(X_test_transformed, y_test_transformed)"
   ]
  },
  {
   "cell_type": "code",
   "execution_count": null,
   "id": "23d15673",
   "metadata": {
    "ExecuteTime": {
     "end_time": "2022-10-27T00:44:30.337583Z",
     "start_time": "2022-10-27T00:44:30.038709Z"
    }
   },
   "outputs": [],
   "source": [
    "print(classification_report(y_test_transformed, y_pred))"
   ]
  },
  {
   "cell_type": "markdown",
   "id": "18473f6a",
   "metadata": {
    "ExecuteTime": {
     "end_time": "2022-10-15T19:40:52.286098Z",
     "start_time": "2022-10-15T19:40:52.274303Z"
    }
   },
   "source": [
    "## Fifth attempt"
   ]
  },
  {
   "cell_type": "code",
   "execution_count": null,
   "id": "16a80fba",
   "metadata": {
    "ExecuteTime": {
     "end_time": "2022-09-22T23:04:37.246026Z",
     "start_time": "2022-09-22T23:04:36.805164Z"
    }
   },
   "outputs": [],
   "source": [
    "from sklearn import preprocessing\n",
    "\n",
    "le = preprocessing.LabelEncoder()\n",
    "\n",
    "df['Category'] = le.fit_transform(df['Category'])\n",
    "\n",
    "#df['Category'] = df['Category'].astype('category')\n",
    "df.info()"
   ]
  },
  {
   "cell_type": "code",
   "execution_count": null,
   "id": "4476ad97",
   "metadata": {
    "ExecuteTime": {
     "end_time": "2022-09-22T18:42:09.309420Z",
     "start_time": "2022-09-22T18:42:09.295974Z"
    }
   },
   "outputs": [],
   "source": [
    "rom sklearn.preprocessing import OneHotEncoder\n",
    "\n",
    "encoder = OneHotEncoder(sparse=False)\n",
    "cat_cols = ['DayOfWeek', 'PdDistrict', 'Address']\n",
    "\n",
    "# Encode Categorical Data\n",
    "df_encoded = pd.DataFrame(encoder.fit_transform(df[cat_cols]))\n",
    "df_encoded.columns = encoder.get_feature_names(cat_cols)\n",
    "\n",
    "# Replace Categotical Data with Encoded Data\n",
    "df = df.drop(cat_cols ,axis=1)\n",
    "df = pd.concat([df_encoded, df], axis=1)\n",
    "\n",
    "# Encode target value\n",
    "df['Category'] = df['Category'].apply(lambda x: 1 if x == 'yes' else 0)\n",
    "\n",
    "print('Shape of dataframe:', df.shape)\n",
    "df.head()"
   ]
  },
  {
   "cell_type": "code",
   "execution_count": null,
   "id": "9ddf16ee",
   "metadata": {
    "ExecuteTime": {
     "end_time": "2022-09-22T18:42:09.310418Z",
     "start_time": "2022-09-22T18:42:09.310418Z"
    }
   },
   "outputs": [],
   "source": [
    "# Select Features\n",
    "feature = df.drop(['Category', 'Descript', 'Resolution'], axis=1)\n",
    "\n",
    "# Select Target\n",
    "target = df['Category']\n",
    "\n",
    "# Set Training and Testing Data\n",
    "from sklearn.model_selection import train_test_split\n",
    "X_train, X_test, y_train, y_test = train_test_split(feature , target, \n",
    "                                                    shuffle = True, \n",
    "                                                    test_size=0.2, \n",
    "                                                    random_state=1)\n",
    "\n",
    "# Show the Training and Testing Data\n",
    "print('Shape of training feature:', X_train.shape)\n",
    "print('Shape of testing feature:', X_test.shape)\n",
    "print('Shape of training label:', y_train.shape)\n",
    "print('Shape of training label:', y_test.shape)"
   ]
  },
  {
   "cell_type": "code",
   "execution_count": null,
   "id": "33c0323c",
   "metadata": {
    "ExecuteTime": {
     "end_time": "2022-09-22T18:42:09.311419Z",
     "start_time": "2022-09-22T18:42:09.311419Z"
    }
   },
   "outputs": [],
   "source": [
    "def evaluate_model(model, x_test, y_test):\n",
    "    from sklearn import metrics\n",
    "\n",
    "    # Predict Test Data \n",
    "    y_pred = model.predict(x_test)\n",
    "\n",
    "    # Calculate accuracy, precision, recall, f1-score, and kappa score\n",
    "    acc = metrics.accuracy_score(y_test, y_pred)\n",
    "    prec = metrics.precision_score(y_test, y_pred)\n",
    "    rec = metrics.recall_score(y_test, y_pred)\n",
    "    f1 = metrics.f1_score(y_test, y_pred)\n",
    "    kappa = metrics.cohen_kappa_score(y_test, y_pred)\n",
    "\n",
    "    # Calculate area under curve (AUC)\n",
    "    y_pred_proba = model.predict_proba(x_test)[::,1]\n",
    "    fpr, tpr, _ = metrics.roc_curve(y_test, y_pred_proba)\n",
    "    auc = metrics.roc_auc_score(y_test, y_pred_proba)\n",
    "\n",
    "    # Display confussion matrix\n",
    "    cm = metrics.confusion_matrix(y_test, y_pred)\n",
    "\n",
    "    return {'acc': acc, 'prec': prec, 'rec': rec, 'f1': f1, 'kappa': kappa, \n",
    "            'fpr': fpr, 'tpr': tpr, 'auc': auc, 'cm': cm}"
   ]
  },
  {
   "cell_type": "code",
   "execution_count": null,
   "id": "94ecdcba",
   "metadata": {
    "ExecuteTime": {
     "end_time": "2022-09-22T18:42:09.312421Z",
     "start_time": "2022-09-22T18:42:09.312421Z"
    }
   },
   "outputs": [],
   "source": [
    "from sklearn import tree\n",
    "\n",
    "# Building Decision Tree model \n",
    "dtc = tree.DecisionTreeClassifier(random_state=RANDOM_STATE)\n",
    "dtc.fit(X_train, y_train)\n",
    "\n",
    "# Evaluate Model\n",
    "dtc_eval = evaluate_model(dtc, X_test, y_test)\n",
    "\n",
    "# Print result\n",
    "print('Accuracy:', dtc_eval['acc'])\n",
    "print('Precision:', dtc_eval['prec'])\n",
    "print('Recall:', dtc_eval['rec'])\n",
    "print('F1 Score:', dtc_eval['f1'])\n",
    "print('Cohens Kappa Score:', dtc_eval['kappa'])\n",
    "print('Area Under Curve:', dtc_eval['auc'])\n",
    "print('Confusion Matrix:\\n', dtc_eval['cm'])"
   ]
  }
 ],
 "metadata": {
  "hide_input": false,
  "kernelspec": {
   "display_name": "Python 3 (ipykernel)",
   "language": "python",
   "name": "python3"
  },
  "language_info": {
   "codemirror_mode": {
    "name": "ipython",
    "version": 3
   },
   "file_extension": ".py",
   "mimetype": "text/x-python",
   "name": "python",
   "nbconvert_exporter": "python",
   "pygments_lexer": "ipython3",
   "version": "3.9.13"
  },
  "toc": {
   "base_numbering": 1,
   "nav_menu": {},
   "number_sections": true,
   "sideBar": true,
   "skip_h1_title": false,
   "title_cell": "Table of Contents",
   "title_sidebar": "Contents",
   "toc_cell": false,
   "toc_position": {
    "height": "calc(100% - 180px)",
    "left": "10px",
    "top": "150px",
    "width": "200.825px"
   },
   "toc_section_display": true,
   "toc_window_display": false
  }
 },
 "nbformat": 4,
 "nbformat_minor": 5
}
