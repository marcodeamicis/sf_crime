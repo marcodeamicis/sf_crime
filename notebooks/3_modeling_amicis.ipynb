{
 "cells": [
  {
   "cell_type": "markdown",
   "id": "d8cb053b",
   "metadata": {},
   "source": [
    "# Modeling"
   ]
  },
  {
   "cell_type": "markdown",
   "id": "2fb25cb0",
   "metadata": {},
   "source": [
    "## Library import"
   ]
  },
  {
   "cell_type": "code",
   "execution_count": 15,
   "id": "fdf6e0ad",
   "metadata": {
    "ExecuteTime": {
     "end_time": "2022-09-23T00:19:26.907573Z",
     "start_time": "2022-09-23T00:19:26.829102Z"
    }
   },
   "outputs": [],
   "source": [
    "# Import libraries\n",
    "## Basic libs\n",
    "import pandas as pd\n",
    "import numpy as np\n",
    "import warnings\n",
    "## Data Visualization\n",
    "import seaborn as sns\n",
    "import matplotlib.pyplot as plt\n",
    "\n",
    "from feature_engine.encoding import OrdinalEncoder, RareLabelEncoder\n",
    "from sklearn.ensemble import RandomForestClassifier\n",
    "from sklearn.model_selection import train_test_split\n",
    "from sklearn.metrics import classification_report\n",
    "\n",
    "# Configure libraries\n",
    "warnings.filterwarnings('ignore')\n",
    "plt.rcParams['figure.figsize'] = (10, 10)\n",
    "plt.style.use('seaborn')"
   ]
  },
  {
   "cell_type": "markdown",
   "id": "93767e35",
   "metadata": {},
   "source": [
    "## Parameter definition"
   ]
  },
  {
   "cell_type": "code",
   "execution_count": 3,
   "id": "e1ba0585",
   "metadata": {
    "ExecuteTime": {
     "end_time": "2022-09-23T00:09:56.167376Z",
     "start_time": "2022-09-23T00:09:56.154205Z"
    }
   },
   "outputs": [],
   "source": [
    "RAW_DATA = '../data/raw/' \n",
    "EXTERNAL_DATA = '../data/external/' \n",
    "INTERIM_DATA = '../data/interim/' \n",
    "PROCESSED_DATA = '../data/processed/'\n",
    "REFERENCES = '../references/'\n",
    "RANDOM_STATE = 14"
   ]
  },
  {
   "cell_type": "markdown",
   "id": "dd12fe4f",
   "metadata": {},
   "source": [
    "## Importing data"
   ]
  },
  {
   "cell_type": "code",
   "execution_count": 4,
   "id": "cf0c64e7",
   "metadata": {
    "ExecuteTime": {
     "end_time": "2022-09-23T00:09:56.574329Z",
     "start_time": "2022-09-23T00:09:56.184030Z"
    }
   },
   "outputs": [
    {
     "data": {
      "text/html": [
       "<div>\n",
       "<style scoped>\n",
       "    .dataframe tbody tr th:only-of-type {\n",
       "        vertical-align: middle;\n",
       "    }\n",
       "\n",
       "    .dataframe tbody tr th {\n",
       "        vertical-align: top;\n",
       "    }\n",
       "\n",
       "    .dataframe thead th {\n",
       "        text-align: right;\n",
       "    }\n",
       "</style>\n",
       "<table border=\"1\" class=\"dataframe\">\n",
       "  <thead>\n",
       "    <tr style=\"text-align: right;\">\n",
       "      <th></th>\n",
       "      <th>Category</th>\n",
       "      <th>Descript</th>\n",
       "      <th>DayOfWeek</th>\n",
       "      <th>PdDistrict</th>\n",
       "      <th>Resolution</th>\n",
       "      <th>Address</th>\n",
       "      <th>X</th>\n",
       "      <th>Y</th>\n",
       "      <th>month</th>\n",
       "      <th>day</th>\n",
       "      <th>year</th>\n",
       "      <th>hour</th>\n",
       "    </tr>\n",
       "  </thead>\n",
       "  <tbody>\n",
       "    <tr>\n",
       "      <th>0</th>\n",
       "      <td>WARRANTS</td>\n",
       "      <td>WARRANT ARREST</td>\n",
       "      <td>Wednesday</td>\n",
       "      <td>NORTHERN</td>\n",
       "      <td>ARREST, BOOKED</td>\n",
       "      <td>OAK ST / LAGUNA ST</td>\n",
       "      <td>-122.425892</td>\n",
       "      <td>37.774599</td>\n",
       "      <td>5</td>\n",
       "      <td>13</td>\n",
       "      <td>2015</td>\n",
       "      <td>23</td>\n",
       "    </tr>\n",
       "    <tr>\n",
       "      <th>1</th>\n",
       "      <td>OTHER OFFENSES</td>\n",
       "      <td>TRAFFIC VIOLATION ARREST</td>\n",
       "      <td>Wednesday</td>\n",
       "      <td>NORTHERN</td>\n",
       "      <td>ARREST, BOOKED</td>\n",
       "      <td>OAK ST / LAGUNA ST</td>\n",
       "      <td>-122.425892</td>\n",
       "      <td>37.774599</td>\n",
       "      <td>5</td>\n",
       "      <td>13</td>\n",
       "      <td>2015</td>\n",
       "      <td>23</td>\n",
       "    </tr>\n",
       "    <tr>\n",
       "      <th>2</th>\n",
       "      <td>OTHER OFFENSES</td>\n",
       "      <td>TRAFFIC VIOLATION ARREST</td>\n",
       "      <td>Wednesday</td>\n",
       "      <td>NORTHERN</td>\n",
       "      <td>ARREST, BOOKED</td>\n",
       "      <td>VANNESS AV / GREENWICH ST</td>\n",
       "      <td>-122.424363</td>\n",
       "      <td>37.800414</td>\n",
       "      <td>5</td>\n",
       "      <td>13</td>\n",
       "      <td>2015</td>\n",
       "      <td>23</td>\n",
       "    </tr>\n",
       "    <tr>\n",
       "      <th>3</th>\n",
       "      <td>LARCENY/THEFT</td>\n",
       "      <td>GRAND THEFT FROM LOCKED AUTO</td>\n",
       "      <td>Wednesday</td>\n",
       "      <td>NORTHERN</td>\n",
       "      <td>NONE</td>\n",
       "      <td>1500 Block of LOMBARD ST</td>\n",
       "      <td>-122.426995</td>\n",
       "      <td>37.800873</td>\n",
       "      <td>5</td>\n",
       "      <td>13</td>\n",
       "      <td>2015</td>\n",
       "      <td>23</td>\n",
       "    </tr>\n",
       "    <tr>\n",
       "      <th>4</th>\n",
       "      <td>LARCENY/THEFT</td>\n",
       "      <td>GRAND THEFT FROM LOCKED AUTO</td>\n",
       "      <td>Wednesday</td>\n",
       "      <td>PARK</td>\n",
       "      <td>NONE</td>\n",
       "      <td>100 Block of BRODERICK ST</td>\n",
       "      <td>-122.438738</td>\n",
       "      <td>37.771541</td>\n",
       "      <td>5</td>\n",
       "      <td>13</td>\n",
       "      <td>2015</td>\n",
       "      <td>23</td>\n",
       "    </tr>\n",
       "    <tr>\n",
       "      <th>...</th>\n",
       "      <td>...</td>\n",
       "      <td>...</td>\n",
       "      <td>...</td>\n",
       "      <td>...</td>\n",
       "      <td>...</td>\n",
       "      <td>...</td>\n",
       "      <td>...</td>\n",
       "      <td>...</td>\n",
       "      <td>...</td>\n",
       "      <td>...</td>\n",
       "      <td>...</td>\n",
       "      <td>...</td>\n",
       "    </tr>\n",
       "    <tr>\n",
       "      <th>878044</th>\n",
       "      <td>ROBBERY</td>\n",
       "      <td>ROBBERY ON THE STREET WITH A GUN</td>\n",
       "      <td>Monday</td>\n",
       "      <td>TARAVAL</td>\n",
       "      <td>NONE</td>\n",
       "      <td>FARALLONES ST / CAPITOL AV</td>\n",
       "      <td>-122.459033</td>\n",
       "      <td>37.714056</td>\n",
       "      <td>1</td>\n",
       "      <td>6</td>\n",
       "      <td>2003</td>\n",
       "      <td>0</td>\n",
       "    </tr>\n",
       "    <tr>\n",
       "      <th>878045</th>\n",
       "      <td>LARCENY/THEFT</td>\n",
       "      <td>GRAND THEFT FROM LOCKED AUTO</td>\n",
       "      <td>Monday</td>\n",
       "      <td>INGLESIDE</td>\n",
       "      <td>NONE</td>\n",
       "      <td>600 Block of EDNA ST</td>\n",
       "      <td>-122.447364</td>\n",
       "      <td>37.731948</td>\n",
       "      <td>1</td>\n",
       "      <td>6</td>\n",
       "      <td>2003</td>\n",
       "      <td>0</td>\n",
       "    </tr>\n",
       "    <tr>\n",
       "      <th>878046</th>\n",
       "      <td>LARCENY/THEFT</td>\n",
       "      <td>GRAND THEFT FROM LOCKED AUTO</td>\n",
       "      <td>Monday</td>\n",
       "      <td>SOUTHERN</td>\n",
       "      <td>NONE</td>\n",
       "      <td>5TH ST / FOLSOM ST</td>\n",
       "      <td>-122.403390</td>\n",
       "      <td>37.780266</td>\n",
       "      <td>1</td>\n",
       "      <td>6</td>\n",
       "      <td>2003</td>\n",
       "      <td>0</td>\n",
       "    </tr>\n",
       "    <tr>\n",
       "      <th>878047</th>\n",
       "      <td>VANDALISM</td>\n",
       "      <td>MALICIOUS MISCHIEF, VANDALISM OF VEHICLES</td>\n",
       "      <td>Monday</td>\n",
       "      <td>SOUTHERN</td>\n",
       "      <td>NONE</td>\n",
       "      <td>TOWNSEND ST / 2ND ST</td>\n",
       "      <td>-122.390531</td>\n",
       "      <td>37.780607</td>\n",
       "      <td>1</td>\n",
       "      <td>6</td>\n",
       "      <td>2003</td>\n",
       "      <td>0</td>\n",
       "    </tr>\n",
       "    <tr>\n",
       "      <th>878048</th>\n",
       "      <td>FORGERY/COUNTERFEITING</td>\n",
       "      <td>CHECKS, FORGERY (FELONY)</td>\n",
       "      <td>Monday</td>\n",
       "      <td>BAYVIEW</td>\n",
       "      <td>NONE</td>\n",
       "      <td>1800 Block of NEWCOMB AV</td>\n",
       "      <td>-122.394926</td>\n",
       "      <td>37.738212</td>\n",
       "      <td>1</td>\n",
       "      <td>6</td>\n",
       "      <td>2003</td>\n",
       "      <td>0</td>\n",
       "    </tr>\n",
       "  </tbody>\n",
       "</table>\n",
       "<p>878049 rows × 12 columns</p>\n",
       "</div>"
      ],
      "text/plain": [
       "                      Category                                   Descript  \\\n",
       "0                     WARRANTS                             WARRANT ARREST   \n",
       "1               OTHER OFFENSES                   TRAFFIC VIOLATION ARREST   \n",
       "2               OTHER OFFENSES                   TRAFFIC VIOLATION ARREST   \n",
       "3                LARCENY/THEFT               GRAND THEFT FROM LOCKED AUTO   \n",
       "4                LARCENY/THEFT               GRAND THEFT FROM LOCKED AUTO   \n",
       "...                        ...                                        ...   \n",
       "878044                 ROBBERY           ROBBERY ON THE STREET WITH A GUN   \n",
       "878045           LARCENY/THEFT               GRAND THEFT FROM LOCKED AUTO   \n",
       "878046           LARCENY/THEFT               GRAND THEFT FROM LOCKED AUTO   \n",
       "878047               VANDALISM  MALICIOUS MISCHIEF, VANDALISM OF VEHICLES   \n",
       "878048  FORGERY/COUNTERFEITING                   CHECKS, FORGERY (FELONY)   \n",
       "\n",
       "        DayOfWeek PdDistrict      Resolution                     Address  \\\n",
       "0       Wednesday   NORTHERN  ARREST, BOOKED          OAK ST / LAGUNA ST   \n",
       "1       Wednesday   NORTHERN  ARREST, BOOKED          OAK ST / LAGUNA ST   \n",
       "2       Wednesday   NORTHERN  ARREST, BOOKED   VANNESS AV / GREENWICH ST   \n",
       "3       Wednesday   NORTHERN            NONE    1500 Block of LOMBARD ST   \n",
       "4       Wednesday       PARK            NONE   100 Block of BRODERICK ST   \n",
       "...           ...        ...             ...                         ...   \n",
       "878044     Monday    TARAVAL            NONE  FARALLONES ST / CAPITOL AV   \n",
       "878045     Monday  INGLESIDE            NONE        600 Block of EDNA ST   \n",
       "878046     Monday   SOUTHERN            NONE          5TH ST / FOLSOM ST   \n",
       "878047     Monday   SOUTHERN            NONE        TOWNSEND ST / 2ND ST   \n",
       "878048     Monday    BAYVIEW            NONE    1800 Block of NEWCOMB AV   \n",
       "\n",
       "                 X          Y  month  day  year  hour  \n",
       "0      -122.425892  37.774599      5   13  2015    23  \n",
       "1      -122.425892  37.774599      5   13  2015    23  \n",
       "2      -122.424363  37.800414      5   13  2015    23  \n",
       "3      -122.426995  37.800873      5   13  2015    23  \n",
       "4      -122.438738  37.771541      5   13  2015    23  \n",
       "...            ...        ...    ...  ...   ...   ...  \n",
       "878044 -122.459033  37.714056      1    6  2003     0  \n",
       "878045 -122.447364  37.731948      1    6  2003     0  \n",
       "878046 -122.403390  37.780266      1    6  2003     0  \n",
       "878047 -122.390531  37.780607      1    6  2003     0  \n",
       "878048 -122.394926  37.738212      1    6  2003     0  \n",
       "\n",
       "[878049 rows x 12 columns]"
      ]
     },
     "execution_count": 4,
     "metadata": {},
     "output_type": "execute_result"
    }
   ],
   "source": [
    "df = pd.read_parquet(INTERIM_DATA + 'train.pqt')\n",
    "df"
   ]
  },
  {
   "cell_type": "markdown",
   "id": "62d855e2",
   "metadata": {},
   "source": [
    "## First attempt (baseline)"
   ]
  },
  {
   "cell_type": "code",
   "execution_count": 5,
   "id": "f5c35b63",
   "metadata": {
    "ExecuteTime": {
     "end_time": "2022-09-23T00:10:00.308431Z",
     "start_time": "2022-09-23T00:10:00.266292Z"
    }
   },
   "outputs": [
    {
     "data": {
      "text/html": [
       "<div>\n",
       "<style scoped>\n",
       "    .dataframe tbody tr th:only-of-type {\n",
       "        vertical-align: middle;\n",
       "    }\n",
       "\n",
       "    .dataframe tbody tr th {\n",
       "        vertical-align: top;\n",
       "    }\n",
       "\n",
       "    .dataframe thead th {\n",
       "        text-align: right;\n",
       "    }\n",
       "</style>\n",
       "<table border=\"1\" class=\"dataframe\">\n",
       "  <thead>\n",
       "    <tr style=\"text-align: right;\">\n",
       "      <th></th>\n",
       "      <th>DayOfWeek</th>\n",
       "      <th>PdDistrict</th>\n",
       "      <th>X</th>\n",
       "      <th>Y</th>\n",
       "      <th>month</th>\n",
       "      <th>day</th>\n",
       "      <th>year</th>\n",
       "      <th>hour</th>\n",
       "    </tr>\n",
       "  </thead>\n",
       "  <tbody>\n",
       "    <tr>\n",
       "      <th>0</th>\n",
       "      <td>Wednesday</td>\n",
       "      <td>NORTHERN</td>\n",
       "      <td>-122.425892</td>\n",
       "      <td>37.774599</td>\n",
       "      <td>5</td>\n",
       "      <td>13</td>\n",
       "      <td>2015</td>\n",
       "      <td>23</td>\n",
       "    </tr>\n",
       "    <tr>\n",
       "      <th>1</th>\n",
       "      <td>Wednesday</td>\n",
       "      <td>NORTHERN</td>\n",
       "      <td>-122.425892</td>\n",
       "      <td>37.774599</td>\n",
       "      <td>5</td>\n",
       "      <td>13</td>\n",
       "      <td>2015</td>\n",
       "      <td>23</td>\n",
       "    </tr>\n",
       "    <tr>\n",
       "      <th>2</th>\n",
       "      <td>Wednesday</td>\n",
       "      <td>NORTHERN</td>\n",
       "      <td>-122.424363</td>\n",
       "      <td>37.800414</td>\n",
       "      <td>5</td>\n",
       "      <td>13</td>\n",
       "      <td>2015</td>\n",
       "      <td>23</td>\n",
       "    </tr>\n",
       "    <tr>\n",
       "      <th>3</th>\n",
       "      <td>Wednesday</td>\n",
       "      <td>NORTHERN</td>\n",
       "      <td>-122.426995</td>\n",
       "      <td>37.800873</td>\n",
       "      <td>5</td>\n",
       "      <td>13</td>\n",
       "      <td>2015</td>\n",
       "      <td>23</td>\n",
       "    </tr>\n",
       "    <tr>\n",
       "      <th>4</th>\n",
       "      <td>Wednesday</td>\n",
       "      <td>PARK</td>\n",
       "      <td>-122.438738</td>\n",
       "      <td>37.771541</td>\n",
       "      <td>5</td>\n",
       "      <td>13</td>\n",
       "      <td>2015</td>\n",
       "      <td>23</td>\n",
       "    </tr>\n",
       "    <tr>\n",
       "      <th>...</th>\n",
       "      <td>...</td>\n",
       "      <td>...</td>\n",
       "      <td>...</td>\n",
       "      <td>...</td>\n",
       "      <td>...</td>\n",
       "      <td>...</td>\n",
       "      <td>...</td>\n",
       "      <td>...</td>\n",
       "    </tr>\n",
       "    <tr>\n",
       "      <th>878044</th>\n",
       "      <td>Monday</td>\n",
       "      <td>TARAVAL</td>\n",
       "      <td>-122.459033</td>\n",
       "      <td>37.714056</td>\n",
       "      <td>1</td>\n",
       "      <td>6</td>\n",
       "      <td>2003</td>\n",
       "      <td>0</td>\n",
       "    </tr>\n",
       "    <tr>\n",
       "      <th>878045</th>\n",
       "      <td>Monday</td>\n",
       "      <td>INGLESIDE</td>\n",
       "      <td>-122.447364</td>\n",
       "      <td>37.731948</td>\n",
       "      <td>1</td>\n",
       "      <td>6</td>\n",
       "      <td>2003</td>\n",
       "      <td>0</td>\n",
       "    </tr>\n",
       "    <tr>\n",
       "      <th>878046</th>\n",
       "      <td>Monday</td>\n",
       "      <td>SOUTHERN</td>\n",
       "      <td>-122.403390</td>\n",
       "      <td>37.780266</td>\n",
       "      <td>1</td>\n",
       "      <td>6</td>\n",
       "      <td>2003</td>\n",
       "      <td>0</td>\n",
       "    </tr>\n",
       "    <tr>\n",
       "      <th>878047</th>\n",
       "      <td>Monday</td>\n",
       "      <td>SOUTHERN</td>\n",
       "      <td>-122.390531</td>\n",
       "      <td>37.780607</td>\n",
       "      <td>1</td>\n",
       "      <td>6</td>\n",
       "      <td>2003</td>\n",
       "      <td>0</td>\n",
       "    </tr>\n",
       "    <tr>\n",
       "      <th>878048</th>\n",
       "      <td>Monday</td>\n",
       "      <td>BAYVIEW</td>\n",
       "      <td>-122.394926</td>\n",
       "      <td>37.738212</td>\n",
       "      <td>1</td>\n",
       "      <td>6</td>\n",
       "      <td>2003</td>\n",
       "      <td>0</td>\n",
       "    </tr>\n",
       "  </tbody>\n",
       "</table>\n",
       "<p>878049 rows × 8 columns</p>\n",
       "</div>"
      ],
      "text/plain": [
       "        DayOfWeek PdDistrict           X          Y  month  day  year  hour\n",
       "0       Wednesday   NORTHERN -122.425892  37.774599      5   13  2015    23\n",
       "1       Wednesday   NORTHERN -122.425892  37.774599      5   13  2015    23\n",
       "2       Wednesday   NORTHERN -122.424363  37.800414      5   13  2015    23\n",
       "3       Wednesday   NORTHERN -122.426995  37.800873      5   13  2015    23\n",
       "4       Wednesday       PARK -122.438738  37.771541      5   13  2015    23\n",
       "...           ...        ...         ...        ...    ...  ...   ...   ...\n",
       "878044     Monday    TARAVAL -122.459033  37.714056      1    6  2003     0\n",
       "878045     Monday  INGLESIDE -122.447364  37.731948      1    6  2003     0\n",
       "878046     Monday   SOUTHERN -122.403390  37.780266      1    6  2003     0\n",
       "878047     Monday   SOUTHERN -122.390531  37.780607      1    6  2003     0\n",
       "878048     Monday    BAYVIEW -122.394926  37.738212      1    6  2003     0\n",
       "\n",
       "[878049 rows x 8 columns]"
      ]
     },
     "execution_count": 5,
     "metadata": {},
     "output_type": "execute_result"
    }
   ],
   "source": [
    "X = df.drop(columns=['Category', 'Descript', 'Resolution', 'Address']).copy()\n",
    "y = df[['Category']].copy()\n",
    "X"
   ]
  },
  {
   "cell_type": "code",
   "execution_count": 8,
   "id": "abe2ac93",
   "metadata": {
    "ExecuteTime": {
     "end_time": "2022-09-23T00:10:53.000835Z",
     "start_time": "2022-09-23T00:10:52.847272Z"
    }
   },
   "outputs": [],
   "source": [
    "X_train, X_test, y_train, y_test = train_test_split(X, y, \n",
    "                                                    shuffle = True, \n",
    "                                                    test_size=0.2, \n",
    "                                                    random_state=RANDOM_STATE)"
   ]
  },
  {
   "cell_type": "code",
   "execution_count": 9,
   "id": "ce93bb2c",
   "metadata": {
    "ExecuteTime": {
     "end_time": "2022-09-23T00:11:14.800291Z",
     "start_time": "2022-09-23T00:11:14.274906Z"
    }
   },
   "outputs": [],
   "source": [
    "# set up the encoder\n",
    "#encoder_rare_predictors = RareLabelEncoder(n_categories=100, variables=['Address'])\n",
    "\n",
    "encoder_predictors = OrdinalEncoder(encoding_method='arbitrary', variables=['DayOfWeek', 'PdDistrict'])\n",
    "encoder_target = OrdinalEncoder(encoding_method='arbitrary', variables=['Category'])\n",
    "\n",
    "# fit the encoder\n",
    "#X_train_transformed = encoder_rare_predictors.fit_transform(X_train)\n",
    "\n",
    "X_train_transformed = encoder_predictors.fit_transform(X_train)\n",
    "y_train_transformed = encoder_target.fit_transform(y_train)\n"
   ]
  },
  {
   "cell_type": "code",
   "execution_count": 35,
   "id": "a0654a6f",
   "metadata": {
    "ExecuteTime": {
     "end_time": "2022-09-22T23:36:17.369128Z",
     "start_time": "2022-09-22T23:36:17.361097Z"
    }
   },
   "outputs": [],
   "source": [
    "#encoder_predictors.encoder_dict_"
   ]
  },
  {
   "cell_type": "code",
   "execution_count": 10,
   "id": "98c6a9cf",
   "metadata": {
    "ExecuteTime": {
     "end_time": "2022-09-23T00:11:31.179471Z",
     "start_time": "2022-09-23T00:11:31.103454Z"
    }
   },
   "outputs": [],
   "source": [
    "#X_test_transformed = encoder_rare_predictors.transform(X_test)\n",
    "\n",
    "X_test_transformed = encoder_predictors.transform(X_test)\n",
    "y_test_transformed = encoder_target.transform(y_test)"
   ]
  },
  {
   "cell_type": "code",
   "execution_count": 11,
   "id": "757b91ea",
   "metadata": {
    "ExecuteTime": {
     "end_time": "2022-09-23T00:13:04.834213Z",
     "start_time": "2022-09-23T00:11:37.929154Z"
    }
   },
   "outputs": [
    {
     "data": {
      "text/html": [
       "<style>#sk-container-id-1 {color: black;background-color: white;}#sk-container-id-1 pre{padding: 0;}#sk-container-id-1 div.sk-toggleable {background-color: white;}#sk-container-id-1 label.sk-toggleable__label {cursor: pointer;display: block;width: 100%;margin-bottom: 0;padding: 0.3em;box-sizing: border-box;text-align: center;}#sk-container-id-1 label.sk-toggleable__label-arrow:before {content: \"▸\";float: left;margin-right: 0.25em;color: #696969;}#sk-container-id-1 label.sk-toggleable__label-arrow:hover:before {color: black;}#sk-container-id-1 div.sk-estimator:hover label.sk-toggleable__label-arrow:before {color: black;}#sk-container-id-1 div.sk-toggleable__content {max-height: 0;max-width: 0;overflow: hidden;text-align: left;background-color: #f0f8ff;}#sk-container-id-1 div.sk-toggleable__content pre {margin: 0.2em;color: black;border-radius: 0.25em;background-color: #f0f8ff;}#sk-container-id-1 input.sk-toggleable__control:checked~div.sk-toggleable__content {max-height: 200px;max-width: 100%;overflow: auto;}#sk-container-id-1 input.sk-toggleable__control:checked~label.sk-toggleable__label-arrow:before {content: \"▾\";}#sk-container-id-1 div.sk-estimator input.sk-toggleable__control:checked~label.sk-toggleable__label {background-color: #d4ebff;}#sk-container-id-1 div.sk-label input.sk-toggleable__control:checked~label.sk-toggleable__label {background-color: #d4ebff;}#sk-container-id-1 input.sk-hidden--visually {border: 0;clip: rect(1px 1px 1px 1px);clip: rect(1px, 1px, 1px, 1px);height: 1px;margin: -1px;overflow: hidden;padding: 0;position: absolute;width: 1px;}#sk-container-id-1 div.sk-estimator {font-family: monospace;background-color: #f0f8ff;border: 1px dotted black;border-radius: 0.25em;box-sizing: border-box;margin-bottom: 0.5em;}#sk-container-id-1 div.sk-estimator:hover {background-color: #d4ebff;}#sk-container-id-1 div.sk-parallel-item::after {content: \"\";width: 100%;border-bottom: 1px solid gray;flex-grow: 1;}#sk-container-id-1 div.sk-label:hover label.sk-toggleable__label {background-color: #d4ebff;}#sk-container-id-1 div.sk-serial::before {content: \"\";position: absolute;border-left: 1px solid gray;box-sizing: border-box;top: 0;bottom: 0;left: 50%;z-index: 0;}#sk-container-id-1 div.sk-serial {display: flex;flex-direction: column;align-items: center;background-color: white;padding-right: 0.2em;padding-left: 0.2em;position: relative;}#sk-container-id-1 div.sk-item {position: relative;z-index: 1;}#sk-container-id-1 div.sk-parallel {display: flex;align-items: stretch;justify-content: center;background-color: white;position: relative;}#sk-container-id-1 div.sk-item::before, #sk-container-id-1 div.sk-parallel-item::before {content: \"\";position: absolute;border-left: 1px solid gray;box-sizing: border-box;top: 0;bottom: 0;left: 50%;z-index: -1;}#sk-container-id-1 div.sk-parallel-item {display: flex;flex-direction: column;z-index: 1;position: relative;background-color: white;}#sk-container-id-1 div.sk-parallel-item:first-child::after {align-self: flex-end;width: 50%;}#sk-container-id-1 div.sk-parallel-item:last-child::after {align-self: flex-start;width: 50%;}#sk-container-id-1 div.sk-parallel-item:only-child::after {width: 0;}#sk-container-id-1 div.sk-dashed-wrapped {border: 1px dashed gray;margin: 0 0.4em 0.5em 0.4em;box-sizing: border-box;padding-bottom: 0.4em;background-color: white;}#sk-container-id-1 div.sk-label label {font-family: monospace;font-weight: bold;display: inline-block;line-height: 1.2em;}#sk-container-id-1 div.sk-label-container {text-align: center;}#sk-container-id-1 div.sk-container {/* jupyter's `normalize.less` sets `[hidden] { display: none; }` but bootstrap.min.css set `[hidden] { display: none !important; }` so we also need the `!important` here to be able to override the default hidden behavior on the sphinx rendered scikit-learn.org. See: https://github.com/scikit-learn/scikit-learn/issues/21755 */display: inline-block !important;position: relative;}#sk-container-id-1 div.sk-text-repr-fallback {display: none;}</style><div id=\"sk-container-id-1\" class=\"sk-top-container\"><div class=\"sk-text-repr-fallback\"><pre>RandomForestClassifier(n_jobs=2, random_state=14)</pre><b>In a Jupyter environment, please rerun this cell to show the HTML representation or trust the notebook. <br />On GitHub, the HTML representation is unable to render, please try loading this page with nbviewer.org.</b></div><div class=\"sk-container\" hidden><div class=\"sk-item\"><div class=\"sk-estimator sk-toggleable\"><input class=\"sk-toggleable__control sk-hidden--visually\" id=\"sk-estimator-id-1\" type=\"checkbox\" checked><label for=\"sk-estimator-id-1\" class=\"sk-toggleable__label sk-toggleable__label-arrow\">RandomForestClassifier</label><div class=\"sk-toggleable__content\"><pre>RandomForestClassifier(n_jobs=2, random_state=14)</pre></div></div></div></div></div>"
      ],
      "text/plain": [
       "RandomForestClassifier(n_jobs=2, random_state=14)"
      ]
     },
     "execution_count": 11,
     "metadata": {},
     "output_type": "execute_result"
    }
   ],
   "source": [
    "model = RandomForestClassifier(random_state=RANDOM_STATE, n_jobs=2)\n",
    "model.fit(X_train_transformed, y_train_transformed)"
   ]
  },
  {
   "cell_type": "code",
   "execution_count": 12,
   "id": "e52762b1",
   "metadata": {
    "ExecuteTime": {
     "end_time": "2022-09-23T00:15:01.550035Z",
     "start_time": "2022-09-23T00:13:28.046561Z"
    }
   },
   "outputs": [],
   "source": [
    "y_pred = model.predict(X_test_transformed)"
   ]
  },
  {
   "cell_type": "code",
   "execution_count": 14,
   "id": "56619609",
   "metadata": {
    "ExecuteTime": {
     "end_time": "2022-09-23T00:18:26.892518Z",
     "start_time": "2022-09-23T00:17:15.591260Z"
    }
   },
   "outputs": [
    {
     "data": {
      "text/plain": [
       "0.3014748590626957"
      ]
     },
     "execution_count": 14,
     "metadata": {},
     "output_type": "execute_result"
    }
   ],
   "source": [
    "model.score(X_test_transformed, y_test_transformed)"
   ]
  },
  {
   "cell_type": "code",
   "execution_count": 17,
   "id": "1813904e",
   "metadata": {
    "ExecuteTime": {
     "end_time": "2022-09-23T00:20:28.405018Z",
     "start_time": "2022-09-23T00:20:28.144517Z"
    }
   },
   "outputs": [
    {
     "name": "stdout",
     "output_type": "stream",
     "text": [
      "              precision    recall  f1-score   support\n",
      "\n",
      "           0       0.25      0.32      0.28     25298\n",
      "           1       0.16      0.12      0.14      1655\n",
      "           2       0.38      0.61      0.47     35285\n",
      "           3       0.14      0.11      0.12      8374\n",
      "           4       0.09      0.04      0.05      6316\n",
      "           5       0.24      0.21      0.22     15528\n",
      "           6       0.24      0.20      0.21     18276\n",
      "           7       0.61      0.49      0.54      5084\n",
      "           8       0.17      0.08      0.11      8854\n",
      "           9       0.37      0.43      0.40     10737\n",
      "          10       0.18      0.09      0.12      7340\n",
      "          11       0.48      0.43      0.45     10846\n",
      "          12       0.28      0.20      0.24       361\n",
      "          13       0.21      0.10      0.13      2178\n",
      "          14       0.05      0.03      0.04      1366\n",
      "          15       0.01      0.00      0.01      2035\n",
      "          16       0.15      0.09      0.12       412\n",
      "          17       0.23      0.14      0.18       849\n",
      "          18       0.09      0.03      0.05       316\n",
      "          19       0.11      0.06      0.08      3415\n",
      "          20       0.59      0.66      0.62      1535\n",
      "          21       0.04      0.03      0.03       848\n",
      "          22       0.00      0.00      0.00       830\n",
      "          23       0.11      0.04      0.06      4543\n",
      "          24       0.01      0.01      0.01       854\n",
      "          25       0.06      0.01      0.02       620\n",
      "          26       0.03      0.02      0.03       466\n",
      "          27       0.09      0.03      0.05        33\n",
      "          28       0.25      0.15      0.19       246\n",
      "          29       0.05      0.03      0.03       472\n",
      "          30       0.00      0.00      0.00        55\n",
      "          31       0.07      0.02      0.03       228\n",
      "          32       0.00      0.00      0.00        44\n",
      "          33       0.00      0.00      0.00        35\n",
      "          34       0.02      0.01      0.01       103\n",
      "          35       0.12      0.04      0.06        92\n",
      "          36       0.00      0.00      0.00        80\n",
      "          37       0.00      0.00      0.00         1\n",
      "          38       0.00      0.00      0.00         0\n",
      "\n",
      "    accuracy                           0.30    175610\n",
      "   macro avg       0.15      0.12      0.13    175610\n",
      "weighted avg       0.27      0.30      0.28    175610\n",
      "\n"
     ]
    }
   ],
   "source": [
    "print(classification_report(y_test_transformed, y_pred))"
   ]
  },
  {
   "cell_type": "markdown",
   "id": "53a447e5",
   "metadata": {
    "ExecuteTime": {
     "end_time": "2022-09-21T20:48:48.500766Z",
     "start_time": "2022-09-21T20:48:48.480758Z"
    }
   },
   "source": [
    "## Second attempt"
   ]
  },
  {
   "cell_type": "code",
   "execution_count": 20,
   "id": "16a80fba",
   "metadata": {
    "ExecuteTime": {
     "end_time": "2022-09-22T23:04:37.246026Z",
     "start_time": "2022-09-22T23:04:36.805164Z"
    }
   },
   "outputs": [
    {
     "name": "stdout",
     "output_type": "stream",
     "text": [
      "<class 'pandas.core.frame.DataFrame'>\n",
      "RangeIndex: 878049 entries, 0 to 878048\n",
      "Data columns (total 12 columns):\n",
      " #   Column      Non-Null Count   Dtype   \n",
      "---  ------      --------------   -----   \n",
      " 0   Category    878049 non-null  category\n",
      " 1   Descript    878049 non-null  object  \n",
      " 2   DayOfWeek   878049 non-null  object  \n",
      " 3   PdDistrict  878049 non-null  object  \n",
      " 4   Resolution  878049 non-null  object  \n",
      " 5   Address     878049 non-null  object  \n",
      " 6   X           878049 non-null  float64 \n",
      " 7   Y           878049 non-null  float64 \n",
      " 8   month       878049 non-null  int64   \n",
      " 9   day         878049 non-null  int64   \n",
      " 10  year        878049 non-null  int64   \n",
      " 11  time        878049 non-null  object  \n",
      "dtypes: category(1), float64(2), int64(3), object(6)\n",
      "memory usage: 74.5+ MB\n"
     ]
    }
   ],
   "source": [
    "from sklearn import preprocessing\n",
    "\n",
    "le = preprocessing.LabelEncoder()\n",
    "\n",
    "df['Category'] = le.fit_transform(df['Category'])\n",
    "\n",
    "#df['Category'] = df['Category'].astype('category')\n",
    "df.info()"
   ]
  },
  {
   "cell_type": "code",
   "execution_count": 18,
   "id": "4476ad97",
   "metadata": {
    "ExecuteTime": {
     "end_time": "2022-09-22T18:42:09.309420Z",
     "start_time": "2022-09-22T18:42:09.295974Z"
    }
   },
   "outputs": [
    {
     "ename": "SyntaxError",
     "evalue": "invalid syntax (1332060275.py, line 1)",
     "output_type": "error",
     "traceback": [
      "\u001b[1;36m  Input \u001b[1;32mIn [18]\u001b[1;36m\u001b[0m\n\u001b[1;33m    rom sklearn.preprocessing import OneHotEncoder\u001b[0m\n\u001b[1;37m        ^\u001b[0m\n\u001b[1;31mSyntaxError\u001b[0m\u001b[1;31m:\u001b[0m invalid syntax\n"
     ]
    }
   ],
   "source": [
    "rom sklearn.preprocessing import OneHotEncoder\n",
    "\n",
    "encoder = OneHotEncoder(sparse=False)\n",
    "cat_cols = ['DayOfWeek', 'PdDistrict', 'Address']\n",
    "\n",
    "# Encode Categorical Data\n",
    "df_encoded = pd.DataFrame(encoder.fit_transform(df[cat_cols]))\n",
    "df_encoded.columns = encoder.get_feature_names(cat_cols)\n",
    "\n",
    "# Replace Categotical Data with Encoded Data\n",
    "df = df.drop(cat_cols ,axis=1)\n",
    "df = pd.concat([df_encoded, df], axis=1)\n",
    "\n",
    "# Encode target value\n",
    "df['Category'] = df['Category'].apply(lambda x: 1 if x == 'yes' else 0)\n",
    "\n",
    "print('Shape of dataframe:', df.shape)\n",
    "df.head()"
   ]
  },
  {
   "cell_type": "code",
   "execution_count": null,
   "id": "9ddf16ee",
   "metadata": {
    "ExecuteTime": {
     "end_time": "2022-09-22T18:42:09.310418Z",
     "start_time": "2022-09-22T18:42:09.310418Z"
    }
   },
   "outputs": [],
   "source": [
    "# Select Features\n",
    "feature = df.drop(['Category', 'Descript', 'Resolution'], axis=1)\n",
    "\n",
    "# Select Target\n",
    "target = df['Category']\n",
    "\n",
    "# Set Training and Testing Data\n",
    "from sklearn.model_selection import train_test_split\n",
    "X_train, X_test, y_train, y_test = train_test_split(feature , target, \n",
    "                                                    shuffle = True, \n",
    "                                                    test_size=0.2, \n",
    "                                                    random_state=1)\n",
    "\n",
    "# Show the Training and Testing Data\n",
    "print('Shape of training feature:', X_train.shape)\n",
    "print('Shape of testing feature:', X_test.shape)\n",
    "print('Shape of training label:', y_train.shape)\n",
    "print('Shape of training label:', y_test.shape)"
   ]
  },
  {
   "cell_type": "code",
   "execution_count": null,
   "id": "33c0323c",
   "metadata": {
    "ExecuteTime": {
     "end_time": "2022-09-22T18:42:09.311419Z",
     "start_time": "2022-09-22T18:42:09.311419Z"
    }
   },
   "outputs": [],
   "source": [
    "def evaluate_model(model, x_test, y_test):\n",
    "    from sklearn import metrics\n",
    "\n",
    "    # Predict Test Data \n",
    "    y_pred = model.predict(x_test)\n",
    "\n",
    "    # Calculate accuracy, precision, recall, f1-score, and kappa score\n",
    "    acc = metrics.accuracy_score(y_test, y_pred)\n",
    "    prec = metrics.precision_score(y_test, y_pred)\n",
    "    rec = metrics.recall_score(y_test, y_pred)\n",
    "    f1 = metrics.f1_score(y_test, y_pred)\n",
    "    kappa = metrics.cohen_kappa_score(y_test, y_pred)\n",
    "\n",
    "    # Calculate area under curve (AUC)\n",
    "    y_pred_proba = model.predict_proba(x_test)[::,1]\n",
    "    fpr, tpr, _ = metrics.roc_curve(y_test, y_pred_proba)\n",
    "    auc = metrics.roc_auc_score(y_test, y_pred_proba)\n",
    "\n",
    "    # Display confussion matrix\n",
    "    cm = metrics.confusion_matrix(y_test, y_pred)\n",
    "\n",
    "    return {'acc': acc, 'prec': prec, 'rec': rec, 'f1': f1, 'kappa': kappa, \n",
    "            'fpr': fpr, 'tpr': tpr, 'auc': auc, 'cm': cm}"
   ]
  },
  {
   "cell_type": "code",
   "execution_count": null,
   "id": "94ecdcba",
   "metadata": {
    "ExecuteTime": {
     "end_time": "2022-09-22T18:42:09.312421Z",
     "start_time": "2022-09-22T18:42:09.312421Z"
    }
   },
   "outputs": [],
   "source": [
    "from sklearn import tree\n",
    "\n",
    "# Building Decision Tree model \n",
    "dtc = tree.DecisionTreeClassifier(random_state=RANDOM_STATE)\n",
    "dtc.fit(X_train, y_train)\n",
    "\n",
    "# Evaluate Model\n",
    "dtc_eval = evaluate_model(dtc, X_test, y_test)\n",
    "\n",
    "# Print result\n",
    "print('Accuracy:', dtc_eval['acc'])\n",
    "print('Precision:', dtc_eval['prec'])\n",
    "print('Recall:', dtc_eval['rec'])\n",
    "print('F1 Score:', dtc_eval['f1'])\n",
    "print('Cohens Kappa Score:', dtc_eval['kappa'])\n",
    "print('Area Under Curve:', dtc_eval['auc'])\n",
    "print('Confusion Matrix:\\n', dtc_eval['cm'])"
   ]
  }
 ],
 "metadata": {
  "hide_input": false,
  "kernelspec": {
   "display_name": "Python 3 (ipykernel)",
   "language": "python",
   "name": "python3"
  },
  "language_info": {
   "codemirror_mode": {
    "name": "ipython",
    "version": 3
   },
   "file_extension": ".py",
   "mimetype": "text/x-python",
   "name": "python",
   "nbconvert_exporter": "python",
   "pygments_lexer": "ipython3",
   "version": "3.9.13"
  },
  "toc": {
   "base_numbering": 1,
   "nav_menu": {},
   "number_sections": true,
   "sideBar": true,
   "skip_h1_title": false,
   "title_cell": "Table of Contents",
   "title_sidebar": "Contents",
   "toc_cell": false,
   "toc_position": {
    "height": "calc(100% - 180px)",
    "left": "10px",
    "top": "150px",
    "width": "303.837px"
   },
   "toc_section_display": true,
   "toc_window_display": true
  }
 },
 "nbformat": 4,
 "nbformat_minor": 5
}
