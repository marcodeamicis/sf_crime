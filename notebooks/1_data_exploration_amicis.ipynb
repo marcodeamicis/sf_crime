{
 "cells": [
  {
   "cell_type": "markdown",
   "id": "00a593b4",
   "metadata": {},
   "source": [
    "# San Francisco Crime Classification"
   ]
  },
  {
   "cell_type": "markdown",
   "id": "788014f0",
   "metadata": {},
   "source": [
    "## Library import"
   ]
  },
  {
   "cell_type": "code",
   "execution_count": 33,
   "id": "78a10055",
   "metadata": {
    "ExecuteTime": {
     "end_time": "2022-09-22T18:39:20.533785Z",
     "start_time": "2022-09-22T18:39:20.529855Z"
    }
   },
   "outputs": [],
   "source": [
    "import pandas as pd\n",
    "import numpy as np\n",
    "import matplotlib.pyplot as plt\n",
    "import seaborn as sns\n",
    "from sklearn.pipeline import Pipeline\n",
    "\n",
    "# import geopandas as gpd\n",
    "# from shapely.geometry import Point\n",
    "# from geopandas import GeoDataFrame\n"
   ]
  },
  {
   "cell_type": "markdown",
   "id": "63d1e743",
   "metadata": {},
   "source": [
    "## Parameter definition"
   ]
  },
  {
   "cell_type": "code",
   "execution_count": 55,
   "id": "c06e940c",
   "metadata": {
    "ExecuteTime": {
     "end_time": "2022-09-22T18:41:06.056684Z",
     "start_time": "2022-09-22T18:41:06.040678Z"
    }
   },
   "outputs": [],
   "source": [
    "RAW_DATA = '../data/raw/' \n",
    "EXTERNAL_DATA = '../data/external/' \n",
    "INTERIM_DATA = '../data/interim/' \n",
    "PROCESSED_DATA = '../data/processed/'\n",
    "REFERENCES = '../references/'\n",
    "RANDOM_STATE = 14"
   ]
  },
  {
   "cell_type": "markdown",
   "id": "6f0a9a4b",
   "metadata": {},
   "source": [
    "## Data fields"
   ]
  },
  {
   "cell_type": "markdown",
   "id": "bfa041c7",
   "metadata": {},
   "source": [
    "Data fields\n",
    " - Dates - timestamp of the crime incident\n",
    " - **Category - category of the crime incident (only in train.csv). This is the target variable you are going to predict.**\n",
    " - **Descript - detailed description of the crime incident (only in train.csv)**\n",
    " - DayOfWeek - the day of the week\n",
    " - PdDistrict - name of the Police Department District\n",
    " - **Resolution - how the crime incident was resolved (only in train.csv)**\n",
    " - Address - the approximate street address of the crime incident \n",
    " - X - Longitude\n",
    " - Y - Latitude"
   ]
  },
  {
   "cell_type": "markdown",
   "id": "a0a54d94",
   "metadata": {},
   "source": [
    "Public holidays in San Francisco\n",
    "\n",
    " - New Year's Day: 1st January.\n",
    " - Martin Luther King Jr Day: Third Monday of January.\n",
    " - Presidents' Day: Third Monday in February.\n",
    " - Memorial Day: Last Monday in May.\n",
    " - Independence Day: 4th July.\n",
    " - Labor Day: First Monday in September.\n",
    " - Columbus Day: Second Monday in October.\n",
    " - Veterans' Day: 11th November.\n",
    " - Thanksgiving: Last Thursday in November.\n",
    " - Christmas Day: 25th December."
   ]
  },
  {
   "cell_type": "markdown",
   "id": "0731ca23",
   "metadata": {},
   "source": [
    "## Learning dataset"
   ]
  },
  {
   "cell_type": "code",
   "execution_count": 78,
   "id": "03fd8dba",
   "metadata": {
    "ExecuteTime": {
     "end_time": "2022-09-22T23:44:47.575947Z",
     "start_time": "2022-09-22T23:44:46.502053Z"
    }
   },
   "outputs": [
    {
     "data": {
      "text/html": [
       "<div>\n",
       "<style scoped>\n",
       "    .dataframe tbody tr th:only-of-type {\n",
       "        vertical-align: middle;\n",
       "    }\n",
       "\n",
       "    .dataframe tbody tr th {\n",
       "        vertical-align: top;\n",
       "    }\n",
       "\n",
       "    .dataframe thead th {\n",
       "        text-align: right;\n",
       "    }\n",
       "</style>\n",
       "<table border=\"1\" class=\"dataframe\">\n",
       "  <thead>\n",
       "    <tr style=\"text-align: right;\">\n",
       "      <th></th>\n",
       "      <th>Dates</th>\n",
       "      <th>Category</th>\n",
       "      <th>Descript</th>\n",
       "      <th>DayOfWeek</th>\n",
       "      <th>PdDistrict</th>\n",
       "      <th>Resolution</th>\n",
       "      <th>Address</th>\n",
       "      <th>X</th>\n",
       "      <th>Y</th>\n",
       "    </tr>\n",
       "  </thead>\n",
       "  <tbody>\n",
       "    <tr>\n",
       "      <th>0</th>\n",
       "      <td>2015-05-13 23:53:00</td>\n",
       "      <td>WARRANTS</td>\n",
       "      <td>WARRANT ARREST</td>\n",
       "      <td>Wednesday</td>\n",
       "      <td>NORTHERN</td>\n",
       "      <td>ARREST, BOOKED</td>\n",
       "      <td>OAK ST / LAGUNA ST</td>\n",
       "      <td>-122.425892</td>\n",
       "      <td>37.774599</td>\n",
       "    </tr>\n",
       "    <tr>\n",
       "      <th>1</th>\n",
       "      <td>2015-05-13 23:53:00</td>\n",
       "      <td>OTHER OFFENSES</td>\n",
       "      <td>TRAFFIC VIOLATION ARREST</td>\n",
       "      <td>Wednesday</td>\n",
       "      <td>NORTHERN</td>\n",
       "      <td>ARREST, BOOKED</td>\n",
       "      <td>OAK ST / LAGUNA ST</td>\n",
       "      <td>-122.425892</td>\n",
       "      <td>37.774599</td>\n",
       "    </tr>\n",
       "    <tr>\n",
       "      <th>2</th>\n",
       "      <td>2015-05-13 23:33:00</td>\n",
       "      <td>OTHER OFFENSES</td>\n",
       "      <td>TRAFFIC VIOLATION ARREST</td>\n",
       "      <td>Wednesday</td>\n",
       "      <td>NORTHERN</td>\n",
       "      <td>ARREST, BOOKED</td>\n",
       "      <td>VANNESS AV / GREENWICH ST</td>\n",
       "      <td>-122.424363</td>\n",
       "      <td>37.800414</td>\n",
       "    </tr>\n",
       "    <tr>\n",
       "      <th>3</th>\n",
       "      <td>2015-05-13 23:30:00</td>\n",
       "      <td>LARCENY/THEFT</td>\n",
       "      <td>GRAND THEFT FROM LOCKED AUTO</td>\n",
       "      <td>Wednesday</td>\n",
       "      <td>NORTHERN</td>\n",
       "      <td>NONE</td>\n",
       "      <td>1500 Block of LOMBARD ST</td>\n",
       "      <td>-122.426995</td>\n",
       "      <td>37.800873</td>\n",
       "    </tr>\n",
       "    <tr>\n",
       "      <th>4</th>\n",
       "      <td>2015-05-13 23:30:00</td>\n",
       "      <td>LARCENY/THEFT</td>\n",
       "      <td>GRAND THEFT FROM LOCKED AUTO</td>\n",
       "      <td>Wednesday</td>\n",
       "      <td>PARK</td>\n",
       "      <td>NONE</td>\n",
       "      <td>100 Block of BRODERICK ST</td>\n",
       "      <td>-122.438738</td>\n",
       "      <td>37.771541</td>\n",
       "    </tr>\n",
       "  </tbody>\n",
       "</table>\n",
       "</div>"
      ],
      "text/plain": [
       "                 Dates        Category                      Descript  \\\n",
       "0  2015-05-13 23:53:00        WARRANTS                WARRANT ARREST   \n",
       "1  2015-05-13 23:53:00  OTHER OFFENSES      TRAFFIC VIOLATION ARREST   \n",
       "2  2015-05-13 23:33:00  OTHER OFFENSES      TRAFFIC VIOLATION ARREST   \n",
       "3  2015-05-13 23:30:00   LARCENY/THEFT  GRAND THEFT FROM LOCKED AUTO   \n",
       "4  2015-05-13 23:30:00   LARCENY/THEFT  GRAND THEFT FROM LOCKED AUTO   \n",
       "\n",
       "   DayOfWeek PdDistrict      Resolution                    Address  \\\n",
       "0  Wednesday   NORTHERN  ARREST, BOOKED         OAK ST / LAGUNA ST   \n",
       "1  Wednesday   NORTHERN  ARREST, BOOKED         OAK ST / LAGUNA ST   \n",
       "2  Wednesday   NORTHERN  ARREST, BOOKED  VANNESS AV / GREENWICH ST   \n",
       "3  Wednesday   NORTHERN            NONE   1500 Block of LOMBARD ST   \n",
       "4  Wednesday       PARK            NONE  100 Block of BRODERICK ST   \n",
       "\n",
       "            X          Y  \n",
       "0 -122.425892  37.774599  \n",
       "1 -122.425892  37.774599  \n",
       "2 -122.424363  37.800414  \n",
       "3 -122.426995  37.800873  \n",
       "4 -122.438738  37.771541  "
      ]
     },
     "execution_count": 78,
     "metadata": {},
     "output_type": "execute_result"
    }
   ],
   "source": [
    "df = pd.read_csv(RAW_DATA + 'train.csv')\n",
    "df.head()"
   ]
  },
  {
   "cell_type": "code",
   "execution_count": 57,
   "id": "4c345df6",
   "metadata": {
    "ExecuteTime": {
     "end_time": "2022-09-22T18:41:07.456327Z",
     "start_time": "2022-09-22T18:41:07.020814Z"
    }
   },
   "outputs": [
    {
     "name": "stdout",
     "output_type": "stream",
     "text": [
      "<class 'pandas.core.frame.DataFrame'>\n",
      "RangeIndex: 878049 entries, 0 to 878048\n",
      "Data columns (total 9 columns):\n",
      " #   Column      Non-Null Count   Dtype  \n",
      "---  ------      --------------   -----  \n",
      " 0   Dates       878049 non-null  object \n",
      " 1   Category    878049 non-null  object \n",
      " 2   Descript    878049 non-null  object \n",
      " 3   DayOfWeek   878049 non-null  object \n",
      " 4   PdDistrict  878049 non-null  object \n",
      " 5   Resolution  878049 non-null  object \n",
      " 6   Address     878049 non-null  object \n",
      " 7   X           878049 non-null  float64\n",
      " 8   Y           878049 non-null  float64\n",
      "dtypes: float64(2), object(7)\n",
      "memory usage: 60.3+ MB\n"
     ]
    }
   ],
   "source": [
    "df.info()"
   ]
  },
  {
   "cell_type": "code",
   "execution_count": 58,
   "id": "0e08a531",
   "metadata": {
    "ExecuteTime": {
     "end_time": "2022-09-22T18:41:07.881266Z",
     "start_time": "2022-09-22T18:41:07.459326Z"
    }
   },
   "outputs": [
    {
     "data": {
      "text/plain": [
       "Dates         0\n",
       "Category      0\n",
       "Descript      0\n",
       "DayOfWeek     0\n",
       "PdDistrict    0\n",
       "Resolution    0\n",
       "Address       0\n",
       "X             0\n",
       "Y             0\n",
       "dtype: int64"
      ]
     },
     "execution_count": 58,
     "metadata": {},
     "output_type": "execute_result"
    }
   ],
   "source": [
    "df.isna().sum()"
   ]
  },
  {
   "cell_type": "markdown",
   "id": "267f9a74",
   "metadata": {},
   "source": [
    "There is no null value on train dataset."
   ]
  },
  {
   "cell_type": "code",
   "execution_count": 59,
   "id": "03dd4961",
   "metadata": {
    "ExecuteTime": {
     "end_time": "2022-09-22T18:41:08.374056Z",
     "start_time": "2022-09-22T18:41:07.883571Z"
    }
   },
   "outputs": [
    {
     "name": "stdout",
     "output_type": "stream",
     "text": [
      "Dates\n",
      "2011-01-01 00:01:00    185\n",
      "2006-01-01 00:01:00    136\n",
      "2012-01-01 00:01:00     94\n",
      "2006-01-01 12:00:00     63\n",
      "2007-06-01 00:01:00     61\n",
      "                      ... \n",
      "2012-06-26 00:10:00      1\n",
      "2012-06-26 00:16:00      1\n",
      "2012-06-26 00:55:00      1\n",
      "2012-06-26 01:06:00      1\n",
      "2009-02-19 08:00:00      1\n",
      "Name: Dates, Length: 389257, dtype: int64\n",
      "--------------------------------------------------------------------------------\n",
      "Category\n",
      "LARCENY/THEFT                  174900\n",
      "OTHER OFFENSES                 126182\n",
      "NON-CRIMINAL                    92304\n",
      "ASSAULT                         76876\n",
      "DRUG/NARCOTIC                   53971\n",
      "VEHICLE THEFT                   53781\n",
      "VANDALISM                       44725\n",
      "WARRANTS                        42214\n",
      "BURGLARY                        36755\n",
      "SUSPICIOUS OCC                  31414\n",
      "MISSING PERSON                  25989\n",
      "ROBBERY                         23000\n",
      "FRAUD                           16679\n",
      "FORGERY/COUNTERFEITING          10609\n",
      "SECONDARY CODES                  9985\n",
      "WEAPON LAWS                      8555\n",
      "PROSTITUTION                     7484\n",
      "TRESPASS                         7326\n",
      "STOLEN PROPERTY                  4540\n",
      "SEX OFFENSES FORCIBLE            4388\n",
      "DISORDERLY CONDUCT               4320\n",
      "DRUNKENNESS                      4280\n",
      "RECOVERED VEHICLE                3138\n",
      "KIDNAPPING                       2341\n",
      "DRIVING UNDER THE INFLUENCE      2268\n",
      "RUNAWAY                          1946\n",
      "LIQUOR LAWS                      1903\n",
      "ARSON                            1513\n",
      "LOITERING                        1225\n",
      "EMBEZZLEMENT                     1166\n",
      "SUICIDE                           508\n",
      "FAMILY OFFENSES                   491\n",
      "BAD CHECKS                        406\n",
      "BRIBERY                           289\n",
      "EXTORTION                         256\n",
      "SEX OFFENSES NON FORCIBLE         148\n",
      "GAMBLING                          146\n",
      "PORNOGRAPHY/OBSCENE MAT            22\n",
      "TREA                                6\n",
      "Name: Category, dtype: int64\n",
      "--------------------------------------------------------------------------------\n",
      "Descript\n",
      "GRAND THEFT FROM LOCKED AUTO                              60022\n",
      "LOST PROPERTY                                             31729\n",
      "BATTERY                                                   27441\n",
      "STOLEN AUTOMOBILE                                         26897\n",
      "DRIVERS LICENSE, SUSPENDED OR REVOKED                     26839\n",
      "                                                          ...  \n",
      "ENCOURAGE MINOR TO USE CONTROLLED SUBSTANCE                   1\n",
      "BIGAMY, INCEST, AND THE CRIME AGAINST NATURE (GENERAL)        1\n",
      "DISTURBANCE OF NON-RELIGIOUS, NON-POLITICAL ASSEMBLY          1\n",
      "CABLE TV CONNECTION OR DECODING DEVICE, UNAUTHORIZED          1\n",
      "EMBEZZLEMENT, GRAND THEFT PUBLIC/PRIVATE OFFICIAL             1\n",
      "Name: Descript, Length: 879, dtype: int64\n",
      "--------------------------------------------------------------------------------\n",
      "DayOfWeek\n",
      "Friday       133734\n",
      "Wednesday    129211\n",
      "Saturday     126810\n",
      "Thursday     125038\n",
      "Tuesday      124965\n",
      "Monday       121584\n",
      "Sunday       116707\n",
      "Name: DayOfWeek, dtype: int64\n",
      "--------------------------------------------------------------------------------\n",
      "PdDistrict\n",
      "SOUTHERN      157182\n",
      "MISSION       119908\n",
      "NORTHERN      105296\n",
      "BAYVIEW        89431\n",
      "CENTRAL        85460\n",
      "TENDERLOIN     81809\n",
      "INGLESIDE      78845\n",
      "TARAVAL        65596\n",
      "PARK           49313\n",
      "RICHMOND       45209\n",
      "Name: PdDistrict, dtype: int64\n",
      "--------------------------------------------------------------------------------\n",
      "Resolution\n",
      "NONE                                      526790\n",
      "ARREST, BOOKED                            206403\n",
      "ARREST, CITED                              77004\n",
      "LOCATED                                    17101\n",
      "PSYCHOPATHIC CASE                          14534\n",
      "UNFOUNDED                                   9585\n",
      "JUVENILE BOOKED                             5564\n",
      "COMPLAINANT REFUSES TO PROSECUTE            3976\n",
      "DISTRICT ATTORNEY REFUSES TO PROSECUTE      3934\n",
      "NOT PROSECUTED                              3714\n",
      "JUVENILE CITED                              3332\n",
      "PROSECUTED BY OUTSIDE AGENCY                2504\n",
      "EXCEPTIONAL CLEARANCE                       1530\n",
      "JUVENILE ADMONISHED                         1455\n",
      "JUVENILE DIVERTED                            355\n",
      "CLEARED-CONTACT JUVENILE FOR MORE INFO       217\n",
      "PROSECUTED FOR LESSER OFFENSE                 51\n",
      "Name: Resolution, dtype: int64\n",
      "--------------------------------------------------------------------------------\n",
      "Address\n",
      "800 Block of BRYANT ST           26533\n",
      "800 Block of MARKET ST            6581\n",
      "2000 Block of MISSION ST          5097\n",
      "1000 Block of POTRERO AV          4063\n",
      "900 Block of MARKET ST            3251\n",
      "                                 ...  \n",
      "PRECITA AV / CESAR CHAVEZ ST         1\n",
      "0 Block of COLUSA PL                 1\n",
      "2800 Block of KEITH ST               1\n",
      "CABRILLO ST / ARGUELLO BL            1\n",
      "OFARRELL ST / CYRIL MAGNIN ST        1\n",
      "Name: Address, Length: 23228, dtype: int64\n",
      "--------------------------------------------------------------------------------\n",
      "X\n",
      "-122.403405    26354\n",
      "-122.419658     4449\n",
      "-122.406539     3891\n",
      "-122.407634     3170\n",
      "-122.419672     3006\n",
      "               ...  \n",
      "-122.437780        1\n",
      "-122.424474        1\n",
      "-122.481022        1\n",
      "-122.465812        1\n",
      "-122.394926        1\n",
      "Name: X, Length: 34243, dtype: int64\n",
      "--------------------------------------------------------------------------------\n",
      "Y\n",
      "37.775421    26354\n",
      "37.764221     4449\n",
      "37.756486     3891\n",
      "37.784189     3170\n",
      "37.765050     3006\n",
      "             ...  \n",
      "37.767243        1\n",
      "37.768625        1\n",
      "37.765375        1\n",
      "37.736992        1\n",
      "37.738212        1\n",
      "Name: Y, Length: 34243, dtype: int64\n",
      "--------------------------------------------------------------------------------\n"
     ]
    }
   ],
   "source": [
    "for c in df.columns:\n",
    "    print(c)\n",
    "    print(df[c].value_counts())\n",
    "    print('--'*40)"
   ]
  },
  {
   "cell_type": "code",
   "execution_count": 60,
   "id": "397cf650",
   "metadata": {
    "ExecuteTime": {
     "end_time": "2022-09-22T18:41:08.453125Z",
     "start_time": "2022-09-22T18:41:08.375056Z"
    }
   },
   "outputs": [
    {
     "data": {
      "text/html": [
       "<div>\n",
       "<style scoped>\n",
       "    .dataframe tbody tr th:only-of-type {\n",
       "        vertical-align: middle;\n",
       "    }\n",
       "\n",
       "    .dataframe tbody tr th {\n",
       "        vertical-align: top;\n",
       "    }\n",
       "\n",
       "    .dataframe thead th {\n",
       "        text-align: right;\n",
       "    }\n",
       "</style>\n",
       "<table border=\"1\" class=\"dataframe\">\n",
       "  <thead>\n",
       "    <tr style=\"text-align: right;\">\n",
       "      <th></th>\n",
       "      <th>X</th>\n",
       "      <th>Y</th>\n",
       "    </tr>\n",
       "  </thead>\n",
       "  <tbody>\n",
       "    <tr>\n",
       "      <th>count</th>\n",
       "      <td>878049.000000</td>\n",
       "      <td>878049.000000</td>\n",
       "    </tr>\n",
       "    <tr>\n",
       "      <th>mean</th>\n",
       "      <td>-122.422616</td>\n",
       "      <td>37.771020</td>\n",
       "    </tr>\n",
       "    <tr>\n",
       "      <th>std</th>\n",
       "      <td>0.030354</td>\n",
       "      <td>0.456893</td>\n",
       "    </tr>\n",
       "    <tr>\n",
       "      <th>min</th>\n",
       "      <td>-122.513642</td>\n",
       "      <td>37.707879</td>\n",
       "    </tr>\n",
       "    <tr>\n",
       "      <th>25%</th>\n",
       "      <td>-122.432952</td>\n",
       "      <td>37.752427</td>\n",
       "    </tr>\n",
       "    <tr>\n",
       "      <th>50%</th>\n",
       "      <td>-122.416420</td>\n",
       "      <td>37.775421</td>\n",
       "    </tr>\n",
       "    <tr>\n",
       "      <th>75%</th>\n",
       "      <td>-122.406959</td>\n",
       "      <td>37.784369</td>\n",
       "    </tr>\n",
       "    <tr>\n",
       "      <th>max</th>\n",
       "      <td>-120.500000</td>\n",
       "      <td>90.000000</td>\n",
       "    </tr>\n",
       "  </tbody>\n",
       "</table>\n",
       "</div>"
      ],
      "text/plain": [
       "                   X              Y\n",
       "count  878049.000000  878049.000000\n",
       "mean     -122.422616      37.771020\n",
       "std         0.030354       0.456893\n",
       "min      -122.513642      37.707879\n",
       "25%      -122.432952      37.752427\n",
       "50%      -122.416420      37.775421\n",
       "75%      -122.406959      37.784369\n",
       "max      -120.500000      90.000000"
      ]
     },
     "execution_count": 60,
     "metadata": {},
     "output_type": "execute_result"
    }
   ],
   "source": [
    "df.describe()"
   ]
  },
  {
   "cell_type": "code",
   "execution_count": 61,
   "id": "2d39792d",
   "metadata": {
    "ExecuteTime": {
     "end_time": "2022-09-22T18:41:08.542450Z",
     "start_time": "2022-09-22T18:41:08.454124Z"
    }
   },
   "outputs": [
    {
     "data": {
      "text/plain": [
       "59.99551277889958"
      ]
     },
     "execution_count": 61,
     "metadata": {},
     "output_type": "execute_result"
    }
   ],
   "source": [
    "sum(df['Resolution'] == 'NONE')/len(df['Resolution'])*100"
   ]
  },
  {
   "cell_type": "code",
   "execution_count": 62,
   "id": "138386e7",
   "metadata": {
    "ExecuteTime": {
     "end_time": "2022-09-22T18:41:08.588653Z",
     "start_time": "2022-09-22T18:41:08.544449Z"
    }
   },
   "outputs": [
    {
     "data": {
      "text/plain": [
       "39"
      ]
     },
     "execution_count": 62,
     "metadata": {},
     "output_type": "execute_result"
    }
   ],
   "source": [
    "len(df['Category'].unique())"
   ]
  },
  {
   "cell_type": "code",
   "execution_count": 63,
   "id": "597fcfa0",
   "metadata": {
    "ExecuteTime": {
     "end_time": "2022-09-22T18:41:08.604230Z",
     "start_time": "2022-09-22T18:41:08.590249Z"
    }
   },
   "outputs": [
    {
     "data": {
      "text/plain": [
       "['LARCENY/THEFT',\n",
       " 'OTHER OFFENSES',\n",
       " 'NON-CRIMINAL',\n",
       " 'ASSAULT',\n",
       " 'DRUG/NARCOTIC',\n",
       " 'VEHICLE THEFT',\n",
       " 'VANDALISM',\n",
       " 'WARRANTS',\n",
       " 'BURGLARY',\n",
       " 'SUSPICIOUS OCC',\n",
       " 'MISSING PERSON',\n",
       " 'ROBBERY',\n",
       " 'FRAUD',\n",
       " 'FORGERY/COUNTERFEITING',\n",
       " 'SECONDARY CODES',\n",
       " 'WEAPON LAWS',\n",
       " 'PROSTITUTION',\n",
       " 'TRESPASS',\n",
       " 'STOLEN PROPERTY',\n",
       " 'SEX OFFENSES FORCIBLE',\n",
       " 'DISORDERLY CONDUCT',\n",
       " 'DRUNKENNESS',\n",
       " 'RECOVERED VEHICLE',\n",
       " 'KIDNAPPING',\n",
       " 'DRIVING UNDER THE INFLUENCE',\n",
       " 'RUNAWAY',\n",
       " 'LIQUOR LAWS',\n",
       " 'ARSON',\n",
       " 'LOITERING',\n",
       " 'EMBEZZLEMENT',\n",
       " 'SUICIDE',\n",
       " 'FAMILY OFFENSES',\n",
       " 'BAD CHECKS',\n",
       " 'BRIBERY',\n",
       " 'EXTORTION',\n",
       " 'SEX OFFENSES NON FORCIBLE',\n",
       " 'GAMBLING',\n",
       " 'PORNOGRAPHY/OBSCENE MAT',\n",
       " 'TREA']"
      ]
     },
     "execution_count": 63,
     "metadata": {},
     "output_type": "execute_result"
    }
   ],
   "source": [
    "df_test3['Category'].values.tolist()"
   ]
  },
  {
   "cell_type": "code",
   "execution_count": 64,
   "id": "5dc2c7f3",
   "metadata": {
    "ExecuteTime": {
     "end_time": "2022-09-22T18:41:08.624897Z",
     "start_time": "2022-09-22T18:41:08.606229Z"
    }
   },
   "outputs": [],
   "source": [
    "# df_test3 = pd.DataFrame()\n",
    "# df_test3['Prop'] = df[['Category']].value_counts()/df[['Category']].value_counts().sum()\n",
    "# df_test3['Cumsum'] = df_test3['Prop'].cumsum()\n",
    "# df_test3 = df_test3.reset_index()\n",
    "# fig, ax = plt.subplots(figsize = (15, 6))\n",
    "# df_test3['Cumsum'].plot(kind='bar')\n",
    "# plt.xlabel(df_test3['Category'].values, rotation=90);\n",
    "# #df_test3"
   ]
  },
  {
   "cell_type": "code",
   "execution_count": 65,
   "id": "63453930",
   "metadata": {
    "ExecuteTime": {
     "end_time": "2022-09-22T18:41:08.679832Z",
     "start_time": "2022-09-22T18:41:08.626895Z"
    }
   },
   "outputs": [
    {
     "data": {
      "text/plain": [
       "[19.919161686876244,\n",
       " 34.28988587197298,\n",
       " 44.80228324387363,\n",
       " 53.557603277265855,\n",
       " 59.70429896281415,\n",
       " 65.82935576488327,\n",
       " 70.92303504701901,\n",
       " 75.73073940064849,\n",
       " 79.91672446526333,\n",
       " 83.49442912639272,\n",
       " 86.45428671976165,\n",
       " 89.07373050934515,\n",
       " 90.97328281223486,\n",
       " 92.18152973239533,\n",
       " 93.31871000365584,\n",
       " 94.29302920452048,\n",
       " 95.14537343587887,\n",
       " 95.97972322729142,\n",
       " 96.49677865358312,\n",
       " 96.99652297309149,\n",
       " 97.48852285009151,\n",
       " 97.97596717267487,\n",
       " 98.33335041666238,\n",
       " 98.59996423889783,\n",
       " 98.85826417432284,\n",
       " 99.0798918966937,\n",
       " 99.29662239806663,\n",
       " 99.46893624387705,\n",
       " 99.60845009788748,\n",
       " 99.74124450913332,\n",
       " 99.799100050225,\n",
       " 99.85501948068958,\n",
       " 99.90125835801874,\n",
       " 99.93417223867917,\n",
       " 99.96332778694583,\n",
       " 99.9801833382875,\n",
       " 99.99681111190833,\n",
       " 99.9993166668375,\n",
       " 100.0]"
      ]
     },
     "execution_count": 65,
     "metadata": {},
     "output_type": "execute_result"
    }
   ],
   "source": [
    "#TODO: improve this code.\n",
    "\n",
    "df_test = df['Category'].value_counts()\n",
    "\n",
    "df_test2 = []\n",
    "sumcum = 0\n",
    "for i in range(len(df_test)):\n",
    "    sumcum = sumcum + df_test[i]\n",
    "    df_test2.append(sumcum/len(df['Category'])*100)\n",
    "\n",
    "df_test2"
   ]
  },
  {
   "cell_type": "code",
   "execution_count": 66,
   "id": "5811456e",
   "metadata": {
    "ExecuteTime": {
     "end_time": "2022-09-22T18:41:08.684341Z",
     "start_time": "2022-09-22T18:41:08.681831Z"
    }
   },
   "outputs": [],
   "source": [
    "# df_test3 = df_test3.sort_values(ascending=False)\n",
    "# df_test3['cumperc'] = df_test3.cumsum()/df_test3.sum()*100\n",
    "# df_test3"
   ]
  },
  {
   "cell_type": "markdown",
   "id": "343f05d6",
   "metadata": {},
   "source": [
    "#TODO: create a summary with first impressions on dataset\n",
    "\n",
    "- At Resolution column almost 60% of the data is NONE.\n",
    "- There are 39 uniques types of Category.\n",
    "- 9 categories correspond to more than 80 of the crimes. "
   ]
  },
  {
   "cell_type": "markdown",
   "id": "92d229fd",
   "metadata": {},
   "source": [
    "## Date in dataset"
   ]
  },
  {
   "cell_type": "markdown",
   "id": "64b676bf",
   "metadata": {},
   "source": [
    "**Transforming Dates column from object to datetime**"
   ]
  },
  {
   "cell_type": "code",
   "execution_count": 79,
   "id": "a7237fa5",
   "metadata": {
    "ExecuteTime": {
     "end_time": "2022-09-22T23:45:11.770892Z",
     "start_time": "2022-09-22T23:45:11.327948Z"
    }
   },
   "outputs": [
    {
     "data": {
      "text/plain": [
       "0        2015-05-13 23:53:00\n",
       "1        2015-05-13 23:53:00\n",
       "2        2015-05-13 23:33:00\n",
       "3        2015-05-13 23:30:00\n",
       "4        2015-05-13 23:30:00\n",
       "                 ...        \n",
       "878044   2003-01-06 00:15:00\n",
       "878045   2003-01-06 00:01:00\n",
       "878046   2003-01-06 00:01:00\n",
       "878047   2003-01-06 00:01:00\n",
       "878048   2003-01-06 00:01:00\n",
       "Name: Dates, Length: 878049, dtype: datetime64[ns]"
      ]
     },
     "execution_count": 79,
     "metadata": {},
     "output_type": "execute_result"
    }
   ],
   "source": [
    "df['Dates'] = pd.to_datetime(df['Dates'])\n",
    "df['Dates']"
   ]
  },
  {
   "cell_type": "code",
   "execution_count": 68,
   "id": "483974fc",
   "metadata": {
    "ExecuteTime": {
     "end_time": "2022-09-22T18:41:09.092547Z",
     "start_time": "2022-09-22T18:41:09.064797Z"
    }
   },
   "outputs": [],
   "source": [
    "#df['month'] = df['Dates'].apply(lambda dt: dt.month)\n",
    "#df['day'] = df['Dates'].apply(lambda dt: dt.day)\n",
    "#df['year'] = df['Dates'].apply(lambda dt: dt.year)\n",
    "#df"
   ]
  },
  {
   "cell_type": "code",
   "execution_count": 77,
   "id": "8667ecd2",
   "metadata": {
    "ExecuteTime": {
     "end_time": "2022-09-22T23:07:10.252304Z",
     "start_time": "2022-09-22T23:07:09.792921Z"
    }
   },
   "outputs": [
    {
     "name": "stdout",
     "output_type": "stream",
     "text": [
      "<class 'pandas.core.frame.DataFrame'>\n",
      "RangeIndex: 878049 entries, 0 to 878048\n",
      "Data columns (total 12 columns):\n",
      " #   Column      Non-Null Count   Dtype  \n",
      "---  ------      --------------   -----  \n",
      " 0   Category    878049 non-null  object \n",
      " 1   Descript    878049 non-null  object \n",
      " 2   DayOfWeek   878049 non-null  object \n",
      " 3   PdDistrict  878049 non-null  object \n",
      " 4   Resolution  878049 non-null  object \n",
      " 5   Address     878049 non-null  object \n",
      " 6   X           878049 non-null  float64\n",
      " 7   Y           878049 non-null  float64\n",
      " 8   month       878049 non-null  int64  \n",
      " 9   day         878049 non-null  int64  \n",
      " 10  year        878049 non-null  int64  \n",
      " 11  time        878049 non-null  object \n",
      "dtypes: float64(2), int64(3), object(7)\n",
      "memory usage: 80.4+ MB\n"
     ]
    }
   ],
   "source": [
    "df.info()"
   ]
  },
  {
   "cell_type": "code",
   "execution_count": 80,
   "id": "3e710408",
   "metadata": {
    "ExecuteTime": {
     "end_time": "2022-09-22T23:45:15.784290Z",
     "start_time": "2022-09-22T23:45:15.681156Z"
    }
   },
   "outputs": [
    {
     "data": {
      "text/html": [
       "<div>\n",
       "<style scoped>\n",
       "    .dataframe tbody tr th:only-of-type {\n",
       "        vertical-align: middle;\n",
       "    }\n",
       "\n",
       "    .dataframe tbody tr th {\n",
       "        vertical-align: top;\n",
       "    }\n",
       "\n",
       "    .dataframe thead th {\n",
       "        text-align: right;\n",
       "    }\n",
       "</style>\n",
       "<table border=\"1\" class=\"dataframe\">\n",
       "  <thead>\n",
       "    <tr style=\"text-align: right;\">\n",
       "      <th></th>\n",
       "      <th>Dates</th>\n",
       "      <th>Category</th>\n",
       "      <th>Descript</th>\n",
       "      <th>DayOfWeek</th>\n",
       "      <th>PdDistrict</th>\n",
       "      <th>Resolution</th>\n",
       "      <th>Address</th>\n",
       "      <th>X</th>\n",
       "      <th>Y</th>\n",
       "      <th>month</th>\n",
       "      <th>day</th>\n",
       "      <th>year</th>\n",
       "      <th>hour</th>\n",
       "    </tr>\n",
       "  </thead>\n",
       "  <tbody>\n",
       "    <tr>\n",
       "      <th>0</th>\n",
       "      <td>2015-05-13 23:53:00</td>\n",
       "      <td>WARRANTS</td>\n",
       "      <td>WARRANT ARREST</td>\n",
       "      <td>Wednesday</td>\n",
       "      <td>NORTHERN</td>\n",
       "      <td>ARREST, BOOKED</td>\n",
       "      <td>OAK ST / LAGUNA ST</td>\n",
       "      <td>-122.425892</td>\n",
       "      <td>37.774599</td>\n",
       "      <td>5</td>\n",
       "      <td>13</td>\n",
       "      <td>2015</td>\n",
       "      <td>23</td>\n",
       "    </tr>\n",
       "    <tr>\n",
       "      <th>1</th>\n",
       "      <td>2015-05-13 23:53:00</td>\n",
       "      <td>OTHER OFFENSES</td>\n",
       "      <td>TRAFFIC VIOLATION ARREST</td>\n",
       "      <td>Wednesday</td>\n",
       "      <td>NORTHERN</td>\n",
       "      <td>ARREST, BOOKED</td>\n",
       "      <td>OAK ST / LAGUNA ST</td>\n",
       "      <td>-122.425892</td>\n",
       "      <td>37.774599</td>\n",
       "      <td>5</td>\n",
       "      <td>13</td>\n",
       "      <td>2015</td>\n",
       "      <td>23</td>\n",
       "    </tr>\n",
       "    <tr>\n",
       "      <th>2</th>\n",
       "      <td>2015-05-13 23:33:00</td>\n",
       "      <td>OTHER OFFENSES</td>\n",
       "      <td>TRAFFIC VIOLATION ARREST</td>\n",
       "      <td>Wednesday</td>\n",
       "      <td>NORTHERN</td>\n",
       "      <td>ARREST, BOOKED</td>\n",
       "      <td>VANNESS AV / GREENWICH ST</td>\n",
       "      <td>-122.424363</td>\n",
       "      <td>37.800414</td>\n",
       "      <td>5</td>\n",
       "      <td>13</td>\n",
       "      <td>2015</td>\n",
       "      <td>23</td>\n",
       "    </tr>\n",
       "    <tr>\n",
       "      <th>3</th>\n",
       "      <td>2015-05-13 23:30:00</td>\n",
       "      <td>LARCENY/THEFT</td>\n",
       "      <td>GRAND THEFT FROM LOCKED AUTO</td>\n",
       "      <td>Wednesday</td>\n",
       "      <td>NORTHERN</td>\n",
       "      <td>NONE</td>\n",
       "      <td>1500 Block of LOMBARD ST</td>\n",
       "      <td>-122.426995</td>\n",
       "      <td>37.800873</td>\n",
       "      <td>5</td>\n",
       "      <td>13</td>\n",
       "      <td>2015</td>\n",
       "      <td>23</td>\n",
       "    </tr>\n",
       "    <tr>\n",
       "      <th>4</th>\n",
       "      <td>2015-05-13 23:30:00</td>\n",
       "      <td>LARCENY/THEFT</td>\n",
       "      <td>GRAND THEFT FROM LOCKED AUTO</td>\n",
       "      <td>Wednesday</td>\n",
       "      <td>PARK</td>\n",
       "      <td>NONE</td>\n",
       "      <td>100 Block of BRODERICK ST</td>\n",
       "      <td>-122.438738</td>\n",
       "      <td>37.771541</td>\n",
       "      <td>5</td>\n",
       "      <td>13</td>\n",
       "      <td>2015</td>\n",
       "      <td>23</td>\n",
       "    </tr>\n",
       "    <tr>\n",
       "      <th>...</th>\n",
       "      <td>...</td>\n",
       "      <td>...</td>\n",
       "      <td>...</td>\n",
       "      <td>...</td>\n",
       "      <td>...</td>\n",
       "      <td>...</td>\n",
       "      <td>...</td>\n",
       "      <td>...</td>\n",
       "      <td>...</td>\n",
       "      <td>...</td>\n",
       "      <td>...</td>\n",
       "      <td>...</td>\n",
       "      <td>...</td>\n",
       "    </tr>\n",
       "    <tr>\n",
       "      <th>878044</th>\n",
       "      <td>2003-01-06 00:15:00</td>\n",
       "      <td>ROBBERY</td>\n",
       "      <td>ROBBERY ON THE STREET WITH A GUN</td>\n",
       "      <td>Monday</td>\n",
       "      <td>TARAVAL</td>\n",
       "      <td>NONE</td>\n",
       "      <td>FARALLONES ST / CAPITOL AV</td>\n",
       "      <td>-122.459033</td>\n",
       "      <td>37.714056</td>\n",
       "      <td>1</td>\n",
       "      <td>6</td>\n",
       "      <td>2003</td>\n",
       "      <td>0</td>\n",
       "    </tr>\n",
       "    <tr>\n",
       "      <th>878045</th>\n",
       "      <td>2003-01-06 00:01:00</td>\n",
       "      <td>LARCENY/THEFT</td>\n",
       "      <td>GRAND THEFT FROM LOCKED AUTO</td>\n",
       "      <td>Monday</td>\n",
       "      <td>INGLESIDE</td>\n",
       "      <td>NONE</td>\n",
       "      <td>600 Block of EDNA ST</td>\n",
       "      <td>-122.447364</td>\n",
       "      <td>37.731948</td>\n",
       "      <td>1</td>\n",
       "      <td>6</td>\n",
       "      <td>2003</td>\n",
       "      <td>0</td>\n",
       "    </tr>\n",
       "    <tr>\n",
       "      <th>878046</th>\n",
       "      <td>2003-01-06 00:01:00</td>\n",
       "      <td>LARCENY/THEFT</td>\n",
       "      <td>GRAND THEFT FROM LOCKED AUTO</td>\n",
       "      <td>Monday</td>\n",
       "      <td>SOUTHERN</td>\n",
       "      <td>NONE</td>\n",
       "      <td>5TH ST / FOLSOM ST</td>\n",
       "      <td>-122.403390</td>\n",
       "      <td>37.780266</td>\n",
       "      <td>1</td>\n",
       "      <td>6</td>\n",
       "      <td>2003</td>\n",
       "      <td>0</td>\n",
       "    </tr>\n",
       "    <tr>\n",
       "      <th>878047</th>\n",
       "      <td>2003-01-06 00:01:00</td>\n",
       "      <td>VANDALISM</td>\n",
       "      <td>MALICIOUS MISCHIEF, VANDALISM OF VEHICLES</td>\n",
       "      <td>Monday</td>\n",
       "      <td>SOUTHERN</td>\n",
       "      <td>NONE</td>\n",
       "      <td>TOWNSEND ST / 2ND ST</td>\n",
       "      <td>-122.390531</td>\n",
       "      <td>37.780607</td>\n",
       "      <td>1</td>\n",
       "      <td>6</td>\n",
       "      <td>2003</td>\n",
       "      <td>0</td>\n",
       "    </tr>\n",
       "    <tr>\n",
       "      <th>878048</th>\n",
       "      <td>2003-01-06 00:01:00</td>\n",
       "      <td>FORGERY/COUNTERFEITING</td>\n",
       "      <td>CHECKS, FORGERY (FELONY)</td>\n",
       "      <td>Monday</td>\n",
       "      <td>BAYVIEW</td>\n",
       "      <td>NONE</td>\n",
       "      <td>1800 Block of NEWCOMB AV</td>\n",
       "      <td>-122.394926</td>\n",
       "      <td>37.738212</td>\n",
       "      <td>1</td>\n",
       "      <td>6</td>\n",
       "      <td>2003</td>\n",
       "      <td>0</td>\n",
       "    </tr>\n",
       "  </tbody>\n",
       "</table>\n",
       "<p>878049 rows × 13 columns</p>\n",
       "</div>"
      ],
      "text/plain": [
       "                     Dates                Category  \\\n",
       "0      2015-05-13 23:53:00                WARRANTS   \n",
       "1      2015-05-13 23:53:00          OTHER OFFENSES   \n",
       "2      2015-05-13 23:33:00          OTHER OFFENSES   \n",
       "3      2015-05-13 23:30:00           LARCENY/THEFT   \n",
       "4      2015-05-13 23:30:00           LARCENY/THEFT   \n",
       "...                    ...                     ...   \n",
       "878044 2003-01-06 00:15:00                 ROBBERY   \n",
       "878045 2003-01-06 00:01:00           LARCENY/THEFT   \n",
       "878046 2003-01-06 00:01:00           LARCENY/THEFT   \n",
       "878047 2003-01-06 00:01:00               VANDALISM   \n",
       "878048 2003-01-06 00:01:00  FORGERY/COUNTERFEITING   \n",
       "\n",
       "                                         Descript  DayOfWeek PdDistrict  \\\n",
       "0                                  WARRANT ARREST  Wednesday   NORTHERN   \n",
       "1                        TRAFFIC VIOLATION ARREST  Wednesday   NORTHERN   \n",
       "2                        TRAFFIC VIOLATION ARREST  Wednesday   NORTHERN   \n",
       "3                    GRAND THEFT FROM LOCKED AUTO  Wednesday   NORTHERN   \n",
       "4                    GRAND THEFT FROM LOCKED AUTO  Wednesday       PARK   \n",
       "...                                           ...        ...        ...   \n",
       "878044           ROBBERY ON THE STREET WITH A GUN     Monday    TARAVAL   \n",
       "878045               GRAND THEFT FROM LOCKED AUTO     Monday  INGLESIDE   \n",
       "878046               GRAND THEFT FROM LOCKED AUTO     Monday   SOUTHERN   \n",
       "878047  MALICIOUS MISCHIEF, VANDALISM OF VEHICLES     Monday   SOUTHERN   \n",
       "878048                   CHECKS, FORGERY (FELONY)     Monday    BAYVIEW   \n",
       "\n",
       "            Resolution                     Address           X          Y  \\\n",
       "0       ARREST, BOOKED          OAK ST / LAGUNA ST -122.425892  37.774599   \n",
       "1       ARREST, BOOKED          OAK ST / LAGUNA ST -122.425892  37.774599   \n",
       "2       ARREST, BOOKED   VANNESS AV / GREENWICH ST -122.424363  37.800414   \n",
       "3                 NONE    1500 Block of LOMBARD ST -122.426995  37.800873   \n",
       "4                 NONE   100 Block of BRODERICK ST -122.438738  37.771541   \n",
       "...                ...                         ...         ...        ...   \n",
       "878044            NONE  FARALLONES ST / CAPITOL AV -122.459033  37.714056   \n",
       "878045            NONE        600 Block of EDNA ST -122.447364  37.731948   \n",
       "878046            NONE          5TH ST / FOLSOM ST -122.403390  37.780266   \n",
       "878047            NONE        TOWNSEND ST / 2ND ST -122.390531  37.780607   \n",
       "878048            NONE    1800 Block of NEWCOMB AV -122.394926  37.738212   \n",
       "\n",
       "        month  day  year  hour  \n",
       "0           5   13  2015    23  \n",
       "1           5   13  2015    23  \n",
       "2           5   13  2015    23  \n",
       "3           5   13  2015    23  \n",
       "4           5   13  2015    23  \n",
       "...       ...  ...   ...   ...  \n",
       "878044      1    6  2003     0  \n",
       "878045      1    6  2003     0  \n",
       "878046      1    6  2003     0  \n",
       "878047      1    6  2003     0  \n",
       "878048      1    6  2003     0  \n",
       "\n",
       "[878049 rows x 13 columns]"
      ]
     },
     "execution_count": 80,
     "metadata": {},
     "output_type": "execute_result"
    }
   ],
   "source": [
    "df['month'] = df['Dates'].dt.month\n",
    "df['day'] = df['Dates'].dt.day\n",
    "df['year'] = df['Dates'].dt.year\n",
    "df['hour'] = df['Dates'].dt.hour\n",
    "#df['minute'] = df['Dates'].dt.minute\n",
    "#df['time'] = df['Dates'].dt.time\n",
    "df"
   ]
  },
  {
   "cell_type": "markdown",
   "id": "6883ef18",
   "metadata": {},
   "source": [
    "## Day of week"
   ]
  },
  {
   "cell_type": "code",
   "execution_count": 70,
   "id": "d2d667c4",
   "metadata": {
    "ExecuteTime": {
     "end_time": "2022-09-22T18:41:09.395121Z",
     "start_time": "2022-09-22T18:41:09.358693Z"
    }
   },
   "outputs": [
    {
     "data": {
      "text/plain": [
       "Friday       133734\n",
       "Wednesday    129211\n",
       "Saturday     126810\n",
       "Thursday     125038\n",
       "Tuesday      124965\n",
       "Monday       121584\n",
       "Sunday       116707\n",
       "Name: DayOfWeek, dtype: int64"
      ]
     },
     "execution_count": 70,
     "metadata": {},
     "output_type": "execute_result"
    }
   ],
   "source": [
    "df['DayOfWeek'].value_counts()"
   ]
  },
  {
   "cell_type": "markdown",
   "id": "88740c1a",
   "metadata": {},
   "source": [
    "#TODO: what information can I get from day of week?"
   ]
  },
  {
   "cell_type": "markdown",
   "id": "46f7e7c7",
   "metadata": {},
   "source": [
    "## Category"
   ]
  },
  {
   "cell_type": "code",
   "execution_count": 71,
   "id": "ca03b706",
   "metadata": {
    "ExecuteTime": {
     "end_time": "2022-09-22T18:41:09.448969Z",
     "start_time": "2022-09-22T18:41:09.396120Z"
    }
   },
   "outputs": [
    {
     "data": {
      "text/plain": [
       "LARCENY/THEFT                  174900\n",
       "OTHER OFFENSES                 126182\n",
       "NON-CRIMINAL                    92304\n",
       "ASSAULT                         76876\n",
       "DRUG/NARCOTIC                   53971\n",
       "VEHICLE THEFT                   53781\n",
       "VANDALISM                       44725\n",
       "WARRANTS                        42214\n",
       "BURGLARY                        36755\n",
       "SUSPICIOUS OCC                  31414\n",
       "MISSING PERSON                  25989\n",
       "ROBBERY                         23000\n",
       "FRAUD                           16679\n",
       "FORGERY/COUNTERFEITING          10609\n",
       "SECONDARY CODES                  9985\n",
       "WEAPON LAWS                      8555\n",
       "PROSTITUTION                     7484\n",
       "TRESPASS                         7326\n",
       "STOLEN PROPERTY                  4540\n",
       "SEX OFFENSES FORCIBLE            4388\n",
       "DISORDERLY CONDUCT               4320\n",
       "DRUNKENNESS                      4280\n",
       "RECOVERED VEHICLE                3138\n",
       "KIDNAPPING                       2341\n",
       "DRIVING UNDER THE INFLUENCE      2268\n",
       "RUNAWAY                          1946\n",
       "LIQUOR LAWS                      1903\n",
       "ARSON                            1513\n",
       "LOITERING                        1225\n",
       "EMBEZZLEMENT                     1166\n",
       "SUICIDE                           508\n",
       "FAMILY OFFENSES                   491\n",
       "BAD CHECKS                        406\n",
       "BRIBERY                           289\n",
       "EXTORTION                         256\n",
       "SEX OFFENSES NON FORCIBLE         148\n",
       "GAMBLING                          146\n",
       "PORNOGRAPHY/OBSCENE MAT            22\n",
       "TREA                                6\n",
       "Name: Category, dtype: int64"
      ]
     },
     "execution_count": 71,
     "metadata": {},
     "output_type": "execute_result"
    }
   ],
   "source": [
    "df['Category'].value_counts()"
   ]
  },
  {
   "cell_type": "markdown",
   "id": "4fefd574",
   "metadata": {},
   "source": [
    "## Latitude (y) and longitude (x)"
   ]
  },
  {
   "cell_type": "markdown",
   "id": "b1b87cb2",
   "metadata": {},
   "source": [
    "San Francisco Latitude and longitude coordinates are: 37.773972, -122.431297\n",
    "\n",
    " - southernmost position: 37.708086\n",
    " - northernmost position: 37.811324\n",
    " - westernmost position: -122.514675\n",
    " - easternmost position: -122.356859\n",
    " \n",
    " Source: Google Maps"
   ]
  },
  {
   "cell_type": "code",
   "execution_count": 72,
   "id": "219c204e",
   "metadata": {
    "ExecuteTime": {
     "end_time": "2022-09-22T18:41:09.606882Z",
     "start_time": "2022-09-22T18:41:09.449968Z"
    }
   },
   "outputs": [
    {
     "data": {
      "text/html": [
       "<div>\n",
       "<style scoped>\n",
       "    .dataframe tbody tr th:only-of-type {\n",
       "        vertical-align: middle;\n",
       "    }\n",
       "\n",
       "    .dataframe tbody tr th {\n",
       "        vertical-align: top;\n",
       "    }\n",
       "\n",
       "    .dataframe thead th {\n",
       "        text-align: right;\n",
       "    }\n",
       "</style>\n",
       "<table border=\"1\" class=\"dataframe\">\n",
       "  <thead>\n",
       "    <tr style=\"text-align: right;\">\n",
       "      <th></th>\n",
       "      <th>X</th>\n",
       "      <th>Y</th>\n",
       "    </tr>\n",
       "  </thead>\n",
       "  <tbody>\n",
       "    <tr>\n",
       "      <th>count</th>\n",
       "      <td>878049.000000</td>\n",
       "      <td>878049.000000</td>\n",
       "    </tr>\n",
       "    <tr>\n",
       "      <th>mean</th>\n",
       "      <td>-122.422616</td>\n",
       "      <td>37.771020</td>\n",
       "    </tr>\n",
       "    <tr>\n",
       "      <th>std</th>\n",
       "      <td>0.030354</td>\n",
       "      <td>0.456893</td>\n",
       "    </tr>\n",
       "    <tr>\n",
       "      <th>min</th>\n",
       "      <td>-122.513642</td>\n",
       "      <td>37.707879</td>\n",
       "    </tr>\n",
       "    <tr>\n",
       "      <th>25%</th>\n",
       "      <td>-122.432952</td>\n",
       "      <td>37.752427</td>\n",
       "    </tr>\n",
       "    <tr>\n",
       "      <th>50%</th>\n",
       "      <td>-122.416420</td>\n",
       "      <td>37.775421</td>\n",
       "    </tr>\n",
       "    <tr>\n",
       "      <th>75%</th>\n",
       "      <td>-122.406959</td>\n",
       "      <td>37.784369</td>\n",
       "    </tr>\n",
       "    <tr>\n",
       "      <th>max</th>\n",
       "      <td>-120.500000</td>\n",
       "      <td>90.000000</td>\n",
       "    </tr>\n",
       "  </tbody>\n",
       "</table>\n",
       "</div>"
      ],
      "text/plain": [
       "                   X              Y\n",
       "count  878049.000000  878049.000000\n",
       "mean     -122.422616      37.771020\n",
       "std         0.030354       0.456893\n",
       "min      -122.513642      37.707879\n",
       "25%      -122.432952      37.752427\n",
       "50%      -122.416420      37.775421\n",
       "75%      -122.406959      37.784369\n",
       "max      -120.500000      90.000000"
      ]
     },
     "execution_count": 72,
     "metadata": {},
     "output_type": "execute_result"
    }
   ],
   "source": [
    "df[['X', 'Y']].describe()"
   ]
  },
  {
   "cell_type": "code",
   "execution_count": 74,
   "id": "276f7bae",
   "metadata": {
    "ExecuteTime": {
     "end_time": "2022-09-22T18:41:50.931632Z",
     "start_time": "2022-09-22T18:41:50.923606Z"
    }
   },
   "outputs": [],
   "source": [
    "# geometry = [Point(xy) for xy in zip(train_data['X'], train_data['Y'])]\n",
    "# gdf = GeoDataFrame(train_data, geometry=geometry)\n",
    "\n",
    "# world = gpd.read_file(gpd.datasets.get_path('naturalearth_lowres'))\n",
    "# gdf.plot(ax=world.plot(), marker='o', color='red')\n",
    "# plt.show()"
   ]
  },
  {
   "cell_type": "markdown",
   "id": "babd172c",
   "metadata": {},
   "source": [
    "## Exporting dataset"
   ]
  },
  {
   "cell_type": "code",
   "execution_count": 81,
   "id": "34a00a85",
   "metadata": {
    "ExecuteTime": {
     "end_time": "2022-09-22T23:45:26.133149Z",
     "start_time": "2022-09-22T23:45:26.060990Z"
    }
   },
   "outputs": [
    {
     "data": {
      "text/html": [
       "<div>\n",
       "<style scoped>\n",
       "    .dataframe tbody tr th:only-of-type {\n",
       "        vertical-align: middle;\n",
       "    }\n",
       "\n",
       "    .dataframe tbody tr th {\n",
       "        vertical-align: top;\n",
       "    }\n",
       "\n",
       "    .dataframe thead th {\n",
       "        text-align: right;\n",
       "    }\n",
       "</style>\n",
       "<table border=\"1\" class=\"dataframe\">\n",
       "  <thead>\n",
       "    <tr style=\"text-align: right;\">\n",
       "      <th></th>\n",
       "      <th>Category</th>\n",
       "      <th>Descript</th>\n",
       "      <th>DayOfWeek</th>\n",
       "      <th>PdDistrict</th>\n",
       "      <th>Resolution</th>\n",
       "      <th>Address</th>\n",
       "      <th>X</th>\n",
       "      <th>Y</th>\n",
       "      <th>month</th>\n",
       "      <th>day</th>\n",
       "      <th>year</th>\n",
       "      <th>hour</th>\n",
       "    </tr>\n",
       "  </thead>\n",
       "  <tbody>\n",
       "    <tr>\n",
       "      <th>0</th>\n",
       "      <td>WARRANTS</td>\n",
       "      <td>WARRANT ARREST</td>\n",
       "      <td>Wednesday</td>\n",
       "      <td>NORTHERN</td>\n",
       "      <td>ARREST, BOOKED</td>\n",
       "      <td>OAK ST / LAGUNA ST</td>\n",
       "      <td>-122.425892</td>\n",
       "      <td>37.774599</td>\n",
       "      <td>5</td>\n",
       "      <td>13</td>\n",
       "      <td>2015</td>\n",
       "      <td>23</td>\n",
       "    </tr>\n",
       "    <tr>\n",
       "      <th>1</th>\n",
       "      <td>OTHER OFFENSES</td>\n",
       "      <td>TRAFFIC VIOLATION ARREST</td>\n",
       "      <td>Wednesday</td>\n",
       "      <td>NORTHERN</td>\n",
       "      <td>ARREST, BOOKED</td>\n",
       "      <td>OAK ST / LAGUNA ST</td>\n",
       "      <td>-122.425892</td>\n",
       "      <td>37.774599</td>\n",
       "      <td>5</td>\n",
       "      <td>13</td>\n",
       "      <td>2015</td>\n",
       "      <td>23</td>\n",
       "    </tr>\n",
       "    <tr>\n",
       "      <th>2</th>\n",
       "      <td>OTHER OFFENSES</td>\n",
       "      <td>TRAFFIC VIOLATION ARREST</td>\n",
       "      <td>Wednesday</td>\n",
       "      <td>NORTHERN</td>\n",
       "      <td>ARREST, BOOKED</td>\n",
       "      <td>VANNESS AV / GREENWICH ST</td>\n",
       "      <td>-122.424363</td>\n",
       "      <td>37.800414</td>\n",
       "      <td>5</td>\n",
       "      <td>13</td>\n",
       "      <td>2015</td>\n",
       "      <td>23</td>\n",
       "    </tr>\n",
       "    <tr>\n",
       "      <th>3</th>\n",
       "      <td>LARCENY/THEFT</td>\n",
       "      <td>GRAND THEFT FROM LOCKED AUTO</td>\n",
       "      <td>Wednesday</td>\n",
       "      <td>NORTHERN</td>\n",
       "      <td>NONE</td>\n",
       "      <td>1500 Block of LOMBARD ST</td>\n",
       "      <td>-122.426995</td>\n",
       "      <td>37.800873</td>\n",
       "      <td>5</td>\n",
       "      <td>13</td>\n",
       "      <td>2015</td>\n",
       "      <td>23</td>\n",
       "    </tr>\n",
       "    <tr>\n",
       "      <th>4</th>\n",
       "      <td>LARCENY/THEFT</td>\n",
       "      <td>GRAND THEFT FROM LOCKED AUTO</td>\n",
       "      <td>Wednesday</td>\n",
       "      <td>PARK</td>\n",
       "      <td>NONE</td>\n",
       "      <td>100 Block of BRODERICK ST</td>\n",
       "      <td>-122.438738</td>\n",
       "      <td>37.771541</td>\n",
       "      <td>5</td>\n",
       "      <td>13</td>\n",
       "      <td>2015</td>\n",
       "      <td>23</td>\n",
       "    </tr>\n",
       "    <tr>\n",
       "      <th>...</th>\n",
       "      <td>...</td>\n",
       "      <td>...</td>\n",
       "      <td>...</td>\n",
       "      <td>...</td>\n",
       "      <td>...</td>\n",
       "      <td>...</td>\n",
       "      <td>...</td>\n",
       "      <td>...</td>\n",
       "      <td>...</td>\n",
       "      <td>...</td>\n",
       "      <td>...</td>\n",
       "      <td>...</td>\n",
       "    </tr>\n",
       "    <tr>\n",
       "      <th>878044</th>\n",
       "      <td>ROBBERY</td>\n",
       "      <td>ROBBERY ON THE STREET WITH A GUN</td>\n",
       "      <td>Monday</td>\n",
       "      <td>TARAVAL</td>\n",
       "      <td>NONE</td>\n",
       "      <td>FARALLONES ST / CAPITOL AV</td>\n",
       "      <td>-122.459033</td>\n",
       "      <td>37.714056</td>\n",
       "      <td>1</td>\n",
       "      <td>6</td>\n",
       "      <td>2003</td>\n",
       "      <td>0</td>\n",
       "    </tr>\n",
       "    <tr>\n",
       "      <th>878045</th>\n",
       "      <td>LARCENY/THEFT</td>\n",
       "      <td>GRAND THEFT FROM LOCKED AUTO</td>\n",
       "      <td>Monday</td>\n",
       "      <td>INGLESIDE</td>\n",
       "      <td>NONE</td>\n",
       "      <td>600 Block of EDNA ST</td>\n",
       "      <td>-122.447364</td>\n",
       "      <td>37.731948</td>\n",
       "      <td>1</td>\n",
       "      <td>6</td>\n",
       "      <td>2003</td>\n",
       "      <td>0</td>\n",
       "    </tr>\n",
       "    <tr>\n",
       "      <th>878046</th>\n",
       "      <td>LARCENY/THEFT</td>\n",
       "      <td>GRAND THEFT FROM LOCKED AUTO</td>\n",
       "      <td>Monday</td>\n",
       "      <td>SOUTHERN</td>\n",
       "      <td>NONE</td>\n",
       "      <td>5TH ST / FOLSOM ST</td>\n",
       "      <td>-122.403390</td>\n",
       "      <td>37.780266</td>\n",
       "      <td>1</td>\n",
       "      <td>6</td>\n",
       "      <td>2003</td>\n",
       "      <td>0</td>\n",
       "    </tr>\n",
       "    <tr>\n",
       "      <th>878047</th>\n",
       "      <td>VANDALISM</td>\n",
       "      <td>MALICIOUS MISCHIEF, VANDALISM OF VEHICLES</td>\n",
       "      <td>Monday</td>\n",
       "      <td>SOUTHERN</td>\n",
       "      <td>NONE</td>\n",
       "      <td>TOWNSEND ST / 2ND ST</td>\n",
       "      <td>-122.390531</td>\n",
       "      <td>37.780607</td>\n",
       "      <td>1</td>\n",
       "      <td>6</td>\n",
       "      <td>2003</td>\n",
       "      <td>0</td>\n",
       "    </tr>\n",
       "    <tr>\n",
       "      <th>878048</th>\n",
       "      <td>FORGERY/COUNTERFEITING</td>\n",
       "      <td>CHECKS, FORGERY (FELONY)</td>\n",
       "      <td>Monday</td>\n",
       "      <td>BAYVIEW</td>\n",
       "      <td>NONE</td>\n",
       "      <td>1800 Block of NEWCOMB AV</td>\n",
       "      <td>-122.394926</td>\n",
       "      <td>37.738212</td>\n",
       "      <td>1</td>\n",
       "      <td>6</td>\n",
       "      <td>2003</td>\n",
       "      <td>0</td>\n",
       "    </tr>\n",
       "  </tbody>\n",
       "</table>\n",
       "<p>878049 rows × 12 columns</p>\n",
       "</div>"
      ],
      "text/plain": [
       "                      Category                                   Descript  \\\n",
       "0                     WARRANTS                             WARRANT ARREST   \n",
       "1               OTHER OFFENSES                   TRAFFIC VIOLATION ARREST   \n",
       "2               OTHER OFFENSES                   TRAFFIC VIOLATION ARREST   \n",
       "3                LARCENY/THEFT               GRAND THEFT FROM LOCKED AUTO   \n",
       "4                LARCENY/THEFT               GRAND THEFT FROM LOCKED AUTO   \n",
       "...                        ...                                        ...   \n",
       "878044                 ROBBERY           ROBBERY ON THE STREET WITH A GUN   \n",
       "878045           LARCENY/THEFT               GRAND THEFT FROM LOCKED AUTO   \n",
       "878046           LARCENY/THEFT               GRAND THEFT FROM LOCKED AUTO   \n",
       "878047               VANDALISM  MALICIOUS MISCHIEF, VANDALISM OF VEHICLES   \n",
       "878048  FORGERY/COUNTERFEITING                   CHECKS, FORGERY (FELONY)   \n",
       "\n",
       "        DayOfWeek PdDistrict      Resolution                     Address  \\\n",
       "0       Wednesday   NORTHERN  ARREST, BOOKED          OAK ST / LAGUNA ST   \n",
       "1       Wednesday   NORTHERN  ARREST, BOOKED          OAK ST / LAGUNA ST   \n",
       "2       Wednesday   NORTHERN  ARREST, BOOKED   VANNESS AV / GREENWICH ST   \n",
       "3       Wednesday   NORTHERN            NONE    1500 Block of LOMBARD ST   \n",
       "4       Wednesday       PARK            NONE   100 Block of BRODERICK ST   \n",
       "...           ...        ...             ...                         ...   \n",
       "878044     Monday    TARAVAL            NONE  FARALLONES ST / CAPITOL AV   \n",
       "878045     Monday  INGLESIDE            NONE        600 Block of EDNA ST   \n",
       "878046     Monday   SOUTHERN            NONE          5TH ST / FOLSOM ST   \n",
       "878047     Monday   SOUTHERN            NONE        TOWNSEND ST / 2ND ST   \n",
       "878048     Monday    BAYVIEW            NONE    1800 Block of NEWCOMB AV   \n",
       "\n",
       "                 X          Y  month  day  year  hour  \n",
       "0      -122.425892  37.774599      5   13  2015    23  \n",
       "1      -122.425892  37.774599      5   13  2015    23  \n",
       "2      -122.424363  37.800414      5   13  2015    23  \n",
       "3      -122.426995  37.800873      5   13  2015    23  \n",
       "4      -122.438738  37.771541      5   13  2015    23  \n",
       "...            ...        ...    ...  ...   ...   ...  \n",
       "878044 -122.459033  37.714056      1    6  2003     0  \n",
       "878045 -122.447364  37.731948      1    6  2003     0  \n",
       "878046 -122.403390  37.780266      1    6  2003     0  \n",
       "878047 -122.390531  37.780607      1    6  2003     0  \n",
       "878048 -122.394926  37.738212      1    6  2003     0  \n",
       "\n",
       "[878049 rows x 12 columns]"
      ]
     },
     "execution_count": 81,
     "metadata": {},
     "output_type": "execute_result"
    }
   ],
   "source": [
    "df.drop('Dates', axis=1, inplace=True)\n",
    "df"
   ]
  },
  {
   "cell_type": "code",
   "execution_count": 82,
   "id": "fb102d8d",
   "metadata": {
    "ExecuteTime": {
     "end_time": "2022-09-22T23:45:30.270167Z",
     "start_time": "2022-09-22T23:45:29.500878Z"
    }
   },
   "outputs": [],
   "source": [
    "df.to_parquet(INTERIM_DATA + 'train.pqt', index=False)"
   ]
  }
 ],
 "metadata": {
  "hide_input": false,
  "kernelspec": {
   "display_name": "Python 3 (ipykernel)",
   "language": "python",
   "name": "python3"
  },
  "language_info": {
   "codemirror_mode": {
    "name": "ipython",
    "version": 3
   },
   "file_extension": ".py",
   "mimetype": "text/x-python",
   "name": "python",
   "nbconvert_exporter": "python",
   "pygments_lexer": "ipython3",
   "version": "3.9.13"
  },
  "toc": {
   "base_numbering": 1,
   "nav_menu": {},
   "number_sections": true,
   "sideBar": true,
   "skip_h1_title": false,
   "title_cell": "Table of Contents",
   "title_sidebar": "Contents",
   "toc_cell": false,
   "toc_position": {
    "height": "calc(100% - 180px)",
    "left": "10px",
    "top": "150px",
    "width": "165px"
   },
   "toc_section_display": true,
   "toc_window_display": true
  },
  "vscode": {
   "interpreter": {
    "hash": "5adfb400b686726c1139253924508c252c3c8c5c2df7066b31fc5e2adc8c5836"
   }
  }
 },
 "nbformat": 4,
 "nbformat_minor": 5
}
